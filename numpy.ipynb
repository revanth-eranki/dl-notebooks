{
  "cells": [
    {
      "cell_type": "markdown",
      "metadata": {
        "id": "view-in-github",
        "colab_type": "text"
      },
      "source": [
        "<a href=\"https://colab.research.google.com/github/revanth-eranki/dl-notebooks/blob/main/numpy.ipynb\" target=\"_parent\"><img src=\"https://colab.research.google.com/assets/colab-badge.svg\" alt=\"Open In Colab\"/></a>"
      ]
    },
    {
      "cell_type": "code",
      "execution_count": null,
      "metadata": {
        "id": "DMSuSjB252JZ"
      },
      "outputs": [],
      "source": [
        "import numpy as np"
      ]
    },
    {
      "cell_type": "markdown",
      "metadata": {
        "id": "X1wstX6c3N3B"
      },
      "source": [
        "#Numpy Basics"
      ]
    },
    {
      "cell_type": "code",
      "execution_count": null,
      "metadata": {
        "id": "WFgWeYrp7qwV"
      },
      "outputs": [],
      "source": [
        "n = 1"
      ]
    },
    {
      "cell_type": "code",
      "execution_count": null,
      "metadata": {
        "id": "ep7ZNatz707n"
      },
      "outputs": [],
      "source": [
        "list_ = list(range(n))"
      ]
    },
    {
      "cell_type": "code",
      "execution_count": null,
      "metadata": {
        "colab": {
          "base_uri": "https://localhost:8080/"
        },
        "id": "SS8mjJAD8NKT",
        "outputId": "b36baea6-d6b4-4040-fcac-d87059592db2"
      },
      "outputs": [
        {
          "name": "stdout",
          "output_type": "stream",
          "text": [
            "CPU times: user 27.6 s, sys: 72.9 ms, total: 27.7 s\n",
            "Wall time: 28.2 s\n"
          ]
        }
      ],
      "source": [
        "%%time\n",
        "for i in range(n):\n",
        "  list_[i]=list_[i]*list_[i]"
      ]
    },
    {
      "cell_type": "code",
      "execution_count": null,
      "metadata": {
        "colab": {
          "base_uri": "https://localhost:8080/"
        },
        "id": "T52oADle8tM_",
        "outputId": "e313877e-d3ff-40ee-83bd-47f28c5c84c0"
      },
      "outputs": [
        {
          "name": "stdout",
          "output_type": "stream",
          "text": [
            "CPU times: user 8.46 s, sys: 3.29 s, total: 11.8 s\n",
            "Wall time: 12.2 s\n"
          ]
        }
      ],
      "source": [
        "%%time\n",
        "list_=[i*i for i in list_]"
      ]
    },
    {
      "cell_type": "code",
      "execution_count": null,
      "metadata": {
        "colab": {
          "base_uri": "https://localhost:8080/"
        },
        "id": "Shsc2LyZ86p0",
        "outputId": "7811e17b-3c9a-4ce8-d43a-fb1c7b60f57e"
      },
      "outputs": [
        {
          "name": "stdout",
          "output_type": "stream",
          "text": [
            "CPU times: user 8 µs, sys: 0 ns, total: 8 µs\n",
            "Wall time: 12.2 µs\n"
          ]
        }
      ],
      "source": [
        "%%time\n",
        "list_=map(lambda x: x*x,list_)"
      ]
    },
    {
      "cell_type": "code",
      "execution_count": null,
      "metadata": {
        "colab": {
          "base_uri": "https://localhost:8080/"
        },
        "id": "7WK1p8-m9GUU",
        "outputId": "dc65a00e-04db-44fd-d75a-079b4d5cac19"
      },
      "outputs": [
        {
          "name": "stdout",
          "output_type": "stream",
          "text": [
            "CPU times: user 233 ms, sys: 548 ms, total: 782 ms\n",
            "Wall time: 774 ms\n"
          ]
        }
      ],
      "source": [
        "%%time\n",
        "arr = np.arange(n)\n",
        "arr = arr*arr"
      ]
    },
    {
      "cell_type": "markdown",
      "metadata": {
        "id": "pU-OfpQ__tjw"
      },
      "source": [
        "we index dimensions backwards in the order we added them"
      ]
    },
    {
      "cell_type": "code",
      "execution_count": null,
      "metadata": {
        "id": "Jck8qlu__5Ei"
      },
      "outputs": [],
      "source": [
        "arr = np.array([0,1,2,8])"
      ]
    },
    {
      "cell_type": "code",
      "execution_count": null,
      "metadata": {
        "colab": {
          "base_uri": "https://localhost:8080/"
        },
        "id": "6IZZvnc0DwDq",
        "outputId": "6d14b83a-1ff9-4829-dee8-82109bed0642"
      },
      "outputs": [
        {
          "name": "stdout",
          "output_type": "stream",
          "text": [
            "[0 1 2 8] <class 'numpy.ndarray'>\n"
          ]
        }
      ],
      "source": [
        "print(arr,type(arr))"
      ]
    },
    {
      "cell_type": "code",
      "execution_count": null,
      "metadata": {
        "colab": {
          "base_uri": "https://localhost:8080/"
        },
        "id": "fsGeN-OCDzpf",
        "outputId": "693e7130-78b3-4015-f4e3-0bc9ef344aeb"
      },
      "outputs": [
        {
          "data": {
            "text/plain": [
              "(4,)"
            ]
          },
          "execution_count": 14,
          "metadata": {},
          "output_type": "execute_result"
        }
      ],
      "source": [
        "arr.shape"
      ]
    },
    {
      "cell_type": "code",
      "execution_count": null,
      "metadata": {
        "colab": {
          "base_uri": "https://localhost:8080/"
        },
        "id": "pKbr7FyLD4X-",
        "outputId": "880d6d6b-b057-471b-c648-36f24c201b50"
      },
      "outputs": [
        {
          "data": {
            "text/plain": [
              "4"
            ]
          },
          "execution_count": 15,
          "metadata": {},
          "output_type": "execute_result"
        }
      ],
      "source": [
        "arr.size()"
      ]
    },
    {
      "cell_type": "code",
      "execution_count": null,
      "metadata": {
        "colab": {
          "base_uri": "https://localhost:8080/"
        },
        "id": "Zbta7Zc1D6RI",
        "outputId": "1637d3dd-26b7-483e-e535-df1c0cbe432f"
      },
      "outputs": [
        {
          "data": {
            "text/plain": [
              "1"
            ]
          },
          "execution_count": 17,
          "metadata": {},
          "output_type": "execute_result"
        }
      ],
      "source": [
        "arr.ndim"
      ]
    },
    {
      "cell_type": "code",
      "execution_count": null,
      "metadata": {
        "colab": {
          "base_uri": "https://localhost:8080/"
        },
        "id": "fss9VXedEIMf",
        "outputId": "a37c72b8-e44f-49e5-cb10-7924ff2fac16"
      },
      "outputs": [
        {
          "data": {
            "text/plain": [
              "dtype('int64')"
            ]
          },
          "execution_count": 18,
          "metadata": {},
          "output_type": "execute_result"
        }
      ],
      "source": [
        "arr.dtype"
      ]
    },
    {
      "cell_type": "code",
      "execution_count": null,
      "metadata": {
        "colab": {
          "base_uri": "https://localhost:8080/"
        },
        "id": "qxUitRmoELbW",
        "outputId": "04196778-b614-4840-ca14-3d53e6ea10d5"
      },
      "outputs": [
        {
          "data": {
            "text/plain": [
              "8"
            ]
          },
          "execution_count": 19,
          "metadata": {},
          "output_type": "execute_result"
        }
      ],
      "source": [
        "arr.itemsize"
      ]
    },
    {
      "cell_type": "code",
      "execution_count": null,
      "metadata": {
        "id": "JJMJgl9gEV4l"
      },
      "outputs": [],
      "source": [
        "arr = np.array([0.0,1,2,8])"
      ]
    },
    {
      "cell_type": "code",
      "execution_count": null,
      "metadata": {
        "colab": {
          "base_uri": "https://localhost:8080/"
        },
        "id": "CCXDda3cEdUB",
        "outputId": "cf2f6ee3-dd31-4fd0-c388-52339f13c9c6"
      },
      "outputs": [
        {
          "data": {
            "text/plain": [
              "array([0., 1., 2., 8.])"
            ]
          },
          "execution_count": 21,
          "metadata": {},
          "output_type": "execute_result"
        }
      ],
      "source": [
        "arr"
      ]
    },
    {
      "cell_type": "code",
      "execution_count": null,
      "metadata": {
        "id": "8_gVW7A2EhTA"
      },
      "outputs": [],
      "source": [
        "arr2d = np.array([\n",
        "    [1,2,3],\n",
        "    [4,5,6]\n",
        "])"
      ]
    },
    {
      "cell_type": "code",
      "execution_count": null,
      "metadata": {
        "colab": {
          "base_uri": "https://localhost:8080/"
        },
        "id": "FPw2Q4l3E7oO",
        "outputId": "83c284af-cb89-4b5e-d2f6-1a39a9abb5b6"
      },
      "outputs": [
        {
          "data": {
            "text/plain": [
              "array([[1, 2, 3],\n",
              "       [4, 5, 6]])"
            ]
          },
          "execution_count": 25,
          "metadata": {},
          "output_type": "execute_result"
        }
      ],
      "source": [
        "arr2d"
      ]
    },
    {
      "cell_type": "code",
      "execution_count": null,
      "metadata": {
        "colab": {
          "base_uri": "https://localhost:8080/"
        },
        "id": "Faocb4RPEwJA",
        "outputId": "8a098adc-7b42-4c20-e9d7-1dab022968cc"
      },
      "outputs": [
        {
          "data": {
            "text/plain": [
              "(2, 3)"
            ]
          },
          "execution_count": 24,
          "metadata": {},
          "output_type": "execute_result"
        }
      ],
      "source": [
        "arr2d.shape"
      ]
    },
    {
      "cell_type": "code",
      "execution_count": null,
      "metadata": {
        "id": "ALNIvXuKEzcv"
      },
      "outputs": [],
      "source": [
        "arr3d = np.array([\n",
        "    [   [1,2,5],\n",
        "        [6,7,8]\n",
        "    ],\n",
        "\n",
        "    [\n",
        "        [10,11,13],\n",
        "        [14,15,16]\n",
        "    ]\n",
        "])"
      ]
    },
    {
      "cell_type": "code",
      "execution_count": null,
      "metadata": {
        "colab": {
          "base_uri": "https://localhost:8080/"
        },
        "id": "pywwlRARFWvC",
        "outputId": "b5279e04-b77c-4b1b-b148-cc7061dbd3d9"
      },
      "outputs": [
        {
          "data": {
            "text/plain": [
              "array([[[ 1,  2,  5],\n",
              "        [ 6,  7,  8]],\n",
              "\n",
              "       [[10, 11, 13],\n",
              "        [14, 15, 16]]])"
            ]
          },
          "execution_count": 28,
          "metadata": {},
          "output_type": "execute_result"
        }
      ],
      "source": [
        "arr3d"
      ]
    },
    {
      "cell_type": "code",
      "execution_count": null,
      "metadata": {
        "colab": {
          "base_uri": "https://localhost:8080/"
        },
        "id": "dRRmnxRdFb7F",
        "outputId": "b74e465e-b835-42e3-8dd3-87f053ec5657"
      },
      "outputs": [
        {
          "data": {
            "text/plain": [
              "(2, 2, 3)"
            ]
          },
          "execution_count": 29,
          "metadata": {},
          "output_type": "execute_result"
        }
      ],
      "source": [
        "arr3d.shape"
      ]
    },
    {
      "cell_type": "code",
      "execution_count": null,
      "metadata": {
        "colab": {
          "base_uri": "https://localhost:8080/"
        },
        "id": "gUot9fc-FhNe",
        "outputId": "a85389b9-ab62-4c25-8a1a-b83edd0c58ba"
      },
      "outputs": [
        {
          "data": {
            "text/plain": [
              "array([[1., 1., 1., 1.],\n",
              "       [1., 1., 1., 1.],\n",
              "       [1., 1., 1., 1.]])"
            ]
          },
          "execution_count": 30,
          "metadata": {},
          "output_type": "execute_result"
        }
      ],
      "source": [
        "np.ones((3,4)) # 1st arg is a tuple size"
      ]
    },
    {
      "cell_type": "code",
      "execution_count": null,
      "metadata": {
        "colab": {
          "base_uri": "https://localhost:8080/"
        },
        "id": "Y4Ma_NFpF0gI",
        "outputId": "c0137870-3a04-4e8d-aff4-21b6d6d23266"
      },
      "outputs": [
        {
          "data": {
            "text/plain": [
              "array([[1732., 1732., 1732., 1732.],\n",
              "       [1732., 1732., 1732., 1732.],\n",
              "       [1732., 1732., 1732., 1732.]])"
            ]
          },
          "execution_count": 32,
          "metadata": {},
          "output_type": "execute_result"
        }
      ],
      "source": [
        "1732*np.ones((3,4))"
      ]
    },
    {
      "cell_type": "code",
      "execution_count": null,
      "metadata": {
        "colab": {
          "base_uri": "https://localhost:8080/"
        },
        "id": "O11A-etfF8KP",
        "outputId": "9510b9ac-5af3-4920-8765-be599f19f653"
      },
      "outputs": [
        {
          "data": {
            "text/plain": [
              "array([[0., 0., 0., 0., 0.],\n",
              "       [0., 0., 0., 0., 0.]])"
            ]
          },
          "execution_count": 33,
          "metadata": {},
          "output_type": "execute_result"
        }
      ],
      "source": [
        "np.zeros((2,5))"
      ]
    },
    {
      "cell_type": "code",
      "execution_count": null,
      "metadata": {
        "colab": {
          "base_uri": "https://localhost:8080/"
        },
        "id": "7HnGe4lYGDOZ",
        "outputId": "07b73fdc-2183-48e2-f1e8-05c93c68bd7d"
      },
      "outputs": [
        {
          "data": {
            "text/plain": [
              "array([[-0.91222871,  1.33892649],\n",
              "       [ 1.41829974, -0.39557755]])"
            ]
          },
          "execution_count": 36,
          "metadata": {},
          "output_type": "execute_result"
        }
      ],
      "source": [
        "np.random.randn(2,2)  #series of numbers from a normal distribution which have mean =0 and sd , variance 1"
      ]
    },
    {
      "cell_type": "code",
      "execution_count": null,
      "metadata": {
        "colab": {
          "base_uri": "https://localhost:8080/"
        },
        "id": "Yu4dgdffF_gH",
        "outputId": "c1b8a902-6d44-4fd9-9d09-4b13eb0ea790"
      },
      "outputs": [
        {
          "data": {
            "text/plain": [
              "array([[0.67161326, 0.81592932, 0.79793411],\n",
              "       [0.49695583, 0.11787542, 0.96682269]])"
            ]
          },
          "execution_count": 38,
          "metadata": {},
          "output_type": "execute_result"
        }
      ],
      "source": [
        "np.random.rand(2,3) #numbers are uniformly  distributed  in btw 0 to 1"
      ]
    },
    {
      "cell_type": "code",
      "execution_count": null,
      "metadata": {
        "colab": {
          "base_uri": "https://localhost:8080/"
        },
        "id": "KGKxbWb1Gtyh",
        "outputId": "e3699534-8bf1-4851-b7e5-a9a62955f4d4"
      },
      "outputs": [
        {
          "data": {
            "text/plain": [
              "array([[[5, 6, 2, 5],\n",
              "        [8, 1, 0, 4],\n",
              "        [4, 0, 2, 2]],\n",
              "\n",
              "       [[8, 1, 9, 2],\n",
              "        [4, 2, 7, 8],\n",
              "        [8, 4, 9, 8]]])"
            ]
          },
          "execution_count": 42,
          "metadata": {},
          "output_type": "execute_result"
        }
      ],
      "source": [
        "np.random.randint(0,10,(2,3,4))  #start,end,size"
      ]
    },
    {
      "cell_type": "code",
      "execution_count": null,
      "metadata": {
        "colab": {
          "base_uri": "https://localhost:8080/"
        },
        "id": "GUaSzS-wHKHg",
        "outputId": "1a1f305b-59a8-4a6e-bca8-8a1194e493bc"
      },
      "outputs": [
        {
          "data": {
            "text/plain": [
              "array([ 4,  9, 14, 19, 24, 29, 34, 39, 44, 49])"
            ]
          },
          "execution_count": 44,
          "metadata": {},
          "output_type": "execute_result"
        }
      ],
      "source": [
        "np.arange(4,50,5)  #start,end,stepsize"
      ]
    },
    {
      "cell_type": "code",
      "execution_count": null,
      "metadata": {
        "colab": {
          "base_uri": "https://localhost:8080/"
        },
        "id": "UN1ne5NXHhzK",
        "outputId": "15f65da8-766c-4be7-ec60-8a0c7853d5ee"
      },
      "outputs": [
        {
          "data": {
            "text/plain": [
              "array([ 4. , 15.5, 27. , 38.5, 50. ])"
            ]
          },
          "execution_count": 48,
          "metadata": {},
          "output_type": "execute_result"
        }
      ],
      "source": [
        "np.linspace(4,50,5) #it is like cut 5 numbers of equal space btw 4 and 50"
      ]
    },
    {
      "cell_type": "markdown",
      "metadata": {
        "id": "EB9u0q8WIk9z"
      },
      "source": [
        "conversion btw data types"
      ]
    },
    {
      "cell_type": "code",
      "execution_count": null,
      "metadata": {
        "id": "5a1ET4GDH6yS"
      },
      "outputs": [],
      "source": [
        "str_arr=np.array(['2','3','5'])"
      ]
    },
    {
      "cell_type": "code",
      "execution_count": null,
      "metadata": {
        "id": "d08rKAazIZ0Z"
      },
      "outputs": [],
      "source": [
        "arr = np.array(str_arr,dtype='float')"
      ]
    },
    {
      "cell_type": "code",
      "execution_count": null,
      "metadata": {
        "colab": {
          "base_uri": "https://localhost:8080/"
        },
        "id": "oaEfSIKTIiqr",
        "outputId": "c6a4fc04-8271-423b-ba1e-4ee04e259908"
      },
      "outputs": [
        {
          "data": {
            "text/plain": [
              "array([2., 3., 5.])"
            ]
          },
          "execution_count": 53,
          "metadata": {},
          "output_type": "execute_result"
        }
      ],
      "source": [
        "arr"
      ]
    },
    {
      "cell_type": "markdown",
      "metadata": {
        "id": "fpFYLvA1NXAJ"
      },
      "source": [
        "# indexing"
      ]
    },
    {
      "cell_type": "code",
      "execution_count": null,
      "metadata": {
        "id": "yr7lW3e9Ip5a"
      },
      "outputs": [],
      "source": [
        "arr3d = np.array([\n",
        "    [   [1,2,5],\n",
        "        [6,7,8]\n",
        "    ],\n",
        "\n",
        "    [\n",
        "        [10,11,13],\n",
        "        [14,15,16]\n",
        "    ]\n",
        "])"
      ]
    },
    {
      "cell_type": "code",
      "execution_count": null,
      "metadata": {
        "colab": {
          "base_uri": "https://localhost:8080/"
        },
        "id": "2Cym2JZYNjP0",
        "outputId": "06b8cdaa-da82-4578-e68f-dc7568177f78"
      },
      "outputs": [
        {
          "data": {
            "text/plain": [
              "array([[[ 1,  2,  5],\n",
              "        [ 6,  7,  8]],\n",
              "\n",
              "       [[10, 11, 13],\n",
              "        [14, 15, 16]]])"
            ]
          },
          "execution_count": 56,
          "metadata": {},
          "output_type": "execute_result"
        }
      ],
      "source": [
        "arr3d"
      ]
    },
    {
      "cell_type": "code",
      "execution_count": null,
      "metadata": {
        "colab": {
          "base_uri": "https://localhost:8080/"
        },
        "id": "i30eVTnvNf8H",
        "outputId": "e68545fe-bd8d-4deb-da8b-cb255d7af6e8"
      },
      "outputs": [
        {
          "data": {
            "text/plain": [
              "1"
            ]
          },
          "execution_count": 55,
          "metadata": {},
          "output_type": "execute_result"
        }
      ],
      "source": [
        "arr3d[0,0,0]"
      ]
    },
    {
      "cell_type": "code",
      "execution_count": null,
      "metadata": {
        "colab": {
          "base_uri": "https://localhost:8080/"
        },
        "id": "_xQFdqA_Nl79",
        "outputId": "f5c13938-c514-4fa5-fcb5-b0908d9e5a4f"
      },
      "outputs": [
        {
          "data": {
            "text/plain": [
              "13"
            ]
          },
          "execution_count": 57,
          "metadata": {},
          "output_type": "execute_result"
        }
      ],
      "source": [
        "arr3d[1,0,2] #z,y,x axis"
      ]
    },
    {
      "cell_type": "code",
      "execution_count": null,
      "metadata": {
        "colab": {
          "base_uri": "https://localhost:8080/"
        },
        "id": "dQPWeYiFNyWM",
        "outputId": "da594858-1572-4c17-888c-9ef7dc5d20cd"
      },
      "outputs": [
        {
          "data": {
            "text/plain": [
              "array([[1, 2, 5],\n",
              "       [6, 7, 8]])"
            ]
          },
          "execution_count": 58,
          "metadata": {},
          "output_type": "execute_result"
        }
      ],
      "source": [
        "arr3d[0,:,:]"
      ]
    },
    {
      "cell_type": "code",
      "execution_count": null,
      "metadata": {
        "colab": {
          "base_uri": "https://localhost:8080/"
        },
        "id": "umSDajq4N6mm",
        "outputId": "4865e723-24cc-4e6b-b472-89e70c178354"
      },
      "outputs": [
        {
          "data": {
            "text/plain": [
              "array([[ 6,  7,  8],\n",
              "       [14, 15, 16]])"
            ]
          },
          "execution_count": 59,
          "metadata": {},
          "output_type": "execute_result"
        }
      ],
      "source": [
        "arr3d[:,1,:]"
      ]
    },
    {
      "cell_type": "code",
      "execution_count": null,
      "metadata": {
        "colab": {
          "base_uri": "https://localhost:8080/"
        },
        "id": "JrmpEMtWN-KO",
        "outputId": "cb03d0dd-abf9-4b45-db04-f1fb204a1166"
      },
      "outputs": [
        {
          "data": {
            "text/plain": [
              "array([[[ 1,  2],\n",
              "        [ 6,  7]],\n",
              "\n",
              "       [[10, 11],\n",
              "        [14, 15]]])"
            ]
          },
          "execution_count": 60,
          "metadata": {},
          "output_type": "execute_result"
        }
      ],
      "source": [
        "arr3d[:,:,0:2]"
      ]
    },
    {
      "cell_type": "code",
      "execution_count": null,
      "metadata": {
        "colab": {
          "base_uri": "https://localhost:8080/"
        },
        "id": "VjuXGAWwOEyk",
        "outputId": "3f8d6eb0-0ce4-4d0b-dae8-4978f9cc539d"
      },
      "outputs": [
        {
          "data": {
            "text/plain": [
              "array([[[False,  True, False],\n",
              "        [ True, False,  True]],\n",
              "\n",
              "       [[ True, False, False],\n",
              "        [ True, False,  True]]])"
            ]
          },
          "execution_count": 61,
          "metadata": {},
          "output_type": "execute_result"
        }
      ],
      "source": [
        "arr3d % 2 == 0"
      ]
    },
    {
      "cell_type": "code",
      "execution_count": null,
      "metadata": {
        "colab": {
          "base_uri": "https://localhost:8080/"
        },
        "id": "pti8BiqLOU7D",
        "outputId": "f988afe8-714e-4daa-9d60-31169560e29d"
      },
      "outputs": [
        {
          "data": {
            "text/plain": [
              "array([ 2,  6,  8, 10, 14, 16])"
            ]
          },
          "execution_count": 62,
          "metadata": {},
          "output_type": "execute_result"
        }
      ],
      "source": [
        "arr3d[arr3d%2==0] # show me those values which satisfies condition"
      ]
    },
    {
      "cell_type": "code",
      "execution_count": null,
      "metadata": {
        "colab": {
          "base_uri": "https://localhost:8080/"
        },
        "id": "xu36GwuIOq78",
        "outputId": "a36e0adb-263e-441a-8e7d-74d7f6b05441"
      },
      "outputs": [
        {
          "data": {
            "text/plain": [
              "array([ 8, 10, 14, 16])"
            ]
          },
          "execution_count": 63,
          "metadata": {},
          "output_type": "execute_result"
        }
      ],
      "source": [
        "arr3d[(arr3d%2==0) & (arr3d>6) ]"
      ]
    },
    {
      "cell_type": "code",
      "execution_count": null,
      "metadata": {
        "id": "yM37H1nWO69F"
      },
      "outputs": [],
      "source": [
        "arr_slice =arr3d[:,:,0:2]"
      ]
    },
    {
      "cell_type": "code",
      "execution_count": null,
      "metadata": {
        "colab": {
          "base_uri": "https://localhost:8080/"
        },
        "id": "5oi4JxWiPFVS",
        "outputId": "d721f146-01c0-43c3-91a3-cf6bb50359ee"
      },
      "outputs": [
        {
          "name": "stdout",
          "output_type": "stream",
          "text": [
            "<class 'numpy.ndarray'>\n"
          ]
        }
      ],
      "source": [
        "print(type(arr_slice))"
      ]
    },
    {
      "cell_type": "code",
      "execution_count": null,
      "metadata": {
        "colab": {
          "base_uri": "https://localhost:8080/"
        },
        "id": "5lBDacX3PKgo",
        "outputId": "b09c878c-ae92-49f7-dc88-6cc9fe0f5f57"
      },
      "outputs": [
        {
          "data": {
            "text/plain": [
              "3"
            ]
          },
          "execution_count": 66,
          "metadata": {},
          "output_type": "execute_result"
        }
      ],
      "source": [
        "arr_slice.ndim"
      ]
    },
    {
      "cell_type": "code",
      "execution_count": null,
      "metadata": {
        "colab": {
          "base_uri": "https://localhost:8080/"
        },
        "id": "gZEmgRnfPJoG",
        "outputId": "7c834491-9254-475e-8edc-27813bb6532d"
      },
      "outputs": [
        {
          "data": {
            "text/plain": [
              "(2, 2, 2)"
            ]
          },
          "execution_count": 67,
          "metadata": {},
          "output_type": "execute_result"
        }
      ],
      "source": [
        "arr_slice.shape"
      ]
    },
    {
      "cell_type": "code",
      "execution_count": null,
      "metadata": {
        "id": "ZmJ7HAxHPUaY"
      },
      "outputs": [],
      "source": [
        "arr_slice[0,0,0] = 1729"
      ]
    },
    {
      "cell_type": "code",
      "execution_count": null,
      "metadata": {
        "colab": {
          "base_uri": "https://localhost:8080/"
        },
        "id": "-GYLxhgmPZF2",
        "outputId": "784b0596-2531-4bd5-c5db-8310ca32d79a"
      },
      "outputs": [
        {
          "name": "stdout",
          "output_type": "stream",
          "text": [
            "[[[1729    2]\n",
            "  [   6    7]]\n",
            "\n",
            " [[  10   11]\n",
            "  [  14   15]]]\n"
          ]
        }
      ],
      "source": [
        "print(arr_slice)"
      ]
    },
    {
      "cell_type": "code",
      "execution_count": null,
      "metadata": {
        "colab": {
          "base_uri": "https://localhost:8080/"
        },
        "id": "qbzUV6luPcVS",
        "outputId": "be2ebab9-7bd9-436d-e290-0121e2ce780c"
      },
      "outputs": [
        {
          "data": {
            "text/plain": [
              "array([[[1729,    2,    5],\n",
              "        [   6,    7,    8]],\n",
              "\n",
              "       [[  10,   11,   13],\n",
              "        [  14,   15,   16]]])"
            ]
          },
          "execution_count": 72,
          "metadata": {},
          "output_type": "execute_result"
        }
      ],
      "source": [
        "arr3d"
      ]
    },
    {
      "cell_type": "code",
      "execution_count": null,
      "metadata": {
        "id": "3hp4SxEoPiaZ"
      },
      "outputs": [],
      "source": [
        "arr_slice =np.copy(arr3d[:,:,0:2])"
      ]
    },
    {
      "cell_type": "code",
      "execution_count": null,
      "metadata": {
        "id": "8ZPfOPP9P1CV"
      },
      "outputs": [],
      "source": [
        "arr_slice[0,0,0]=1"
      ]
    },
    {
      "cell_type": "code",
      "execution_count": null,
      "metadata": {
        "colab": {
          "base_uri": "https://localhost:8080/"
        },
        "id": "Li0Mc_qSP71F",
        "outputId": "eae686b9-f758-49f6-a751-539a57b18b92"
      },
      "outputs": [
        {
          "data": {
            "text/plain": [
              "array([[[1729,    2,    5],\n",
              "        [   6,    7,    8]],\n",
              "\n",
              "       [[  10,   11,   13],\n",
              "        [  14,   15,   16]]])"
            ]
          },
          "execution_count": 76,
          "metadata": {},
          "output_type": "execute_result"
        }
      ],
      "source": [
        "arr3d"
      ]
    },
    {
      "cell_type": "code",
      "execution_count": null,
      "metadata": {
        "id": "qoZmEf0wP9yj"
      },
      "outputs": [],
      "source": [
        "arr = np.random.randint(0,10,5)"
      ]
    },
    {
      "cell_type": "code",
      "execution_count": null,
      "metadata": {
        "colab": {
          "base_uri": "https://localhost:8080/"
        },
        "id": "1i-VfMC3QQz8",
        "outputId": "cdbd8b2a-b603-448e-804d-20892a72bfe4"
      },
      "outputs": [
        {
          "data": {
            "text/plain": [
              "array([2, 6, 4, 9, 3])"
            ]
          },
          "execution_count": 78,
          "metadata": {},
          "output_type": "execute_result"
        }
      ],
      "source": [
        "arr"
      ]
    },
    {
      "cell_type": "code",
      "execution_count": null,
      "metadata": {
        "id": "Cx1dky9BQSMp"
      },
      "outputs": [],
      "source": [
        "my_indices=[1,3,4]"
      ]
    },
    {
      "cell_type": "code",
      "execution_count": null,
      "metadata": {
        "colab": {
          "base_uri": "https://localhost:8080/"
        },
        "id": "pfYCJen0QXon",
        "outputId": "9101d801-58e6-481c-da2d-627313489942"
      },
      "outputs": [
        {
          "data": {
            "text/plain": [
              "array([6, 9, 3])"
            ]
          },
          "execution_count": 80,
          "metadata": {},
          "output_type": "execute_result"
        }
      ],
      "source": [
        "arr[my_indices]"
      ]
    },
    {
      "cell_type": "markdown",
      "metadata": {
        "id": "iaYr5ea6QkCP"
      },
      "source": [
        "# Numpy operations"
      ]
    },
    {
      "cell_type": "code",
      "execution_count": null,
      "metadata": {
        "id": "q51Oa2jlQafQ"
      },
      "outputs": [],
      "source": [
        "arr1 = np.random.rand(3,4)\n",
        "arr2 = np.random.rand(3,4)"
      ]
    },
    {
      "cell_type": "code",
      "execution_count": null,
      "metadata": {
        "colab": {
          "base_uri": "https://localhost:8080/"
        },
        "id": "5DIW2yYuRpF9",
        "outputId": "eee51a0c-cd3d-4dc8-a4ec-c81b4927702a"
      },
      "outputs": [
        {
          "data": {
            "text/plain": [
              "array([[0.32269169, 0.69206246, 0.15530431, 0.79808958],\n",
              "       [0.68136566, 0.2847849 , 0.86558177, 0.38655631],\n",
              "       [0.54303613, 0.02492446, 0.92882449, 0.59450728]])"
            ]
          },
          "execution_count": 83,
          "metadata": {},
          "output_type": "execute_result"
        }
      ],
      "source": [
        "arr1"
      ]
    },
    {
      "cell_type": "code",
      "execution_count": null,
      "metadata": {
        "colab": {
          "base_uri": "https://localhost:8080/"
        },
        "id": "4C2uEqYQRqJI",
        "outputId": "2c9ddd5c-157e-4957-a725-2ec118f444fb"
      },
      "outputs": [
        {
          "data": {
            "text/plain": [
              "array([[0.91947532, 0.91064152, 0.06824789, 0.10970412],\n",
              "       [0.14225105, 0.13178406, 0.56169576, 0.45217922],\n",
              "       [0.60345302, 0.91803398, 0.84480351, 0.46006357]])"
            ]
          },
          "execution_count": 84,
          "metadata": {},
          "output_type": "execute_result"
        }
      ],
      "source": [
        "arr2"
      ]
    },
    {
      "cell_type": "code",
      "execution_count": null,
      "metadata": {
        "colab": {
          "base_uri": "https://localhost:8080/"
        },
        "id": "XuCp1B0NRlIJ",
        "outputId": "c599fd09-c3b2-4854-ed7d-ba6b4843a890"
      },
      "outputs": [
        {
          "data": {
            "text/plain": [
              "array([[1.242167  , 1.60270399, 0.2235522 , 0.90779371],\n",
              "       [0.82361672, 0.41656896, 1.42727753, 0.83873553],\n",
              "       [1.14648915, 0.94295844, 1.773628  , 1.05457085]])"
            ]
          },
          "execution_count": 82,
          "metadata": {},
          "output_type": "execute_result"
        }
      ],
      "source": [
        "arr1 + arr2"
      ]
    },
    {
      "cell_type": "code",
      "execution_count": null,
      "metadata": {
        "colab": {
          "base_uri": "https://localhost:8080/"
        },
        "id": "2p4dKijXRsfZ",
        "outputId": "14f3027a-9311-48ea-a436-b20641e65d6c"
      },
      "outputs": [
        {
          "data": {
            "text/plain": [
              "array([[0.35095198, 0.75997244, 2.27559157, 7.2749279 ],\n",
              "       [4.78988134, 2.1609966 , 1.54101531, 0.85487412],\n",
              "       [0.89988137, 0.02714982, 1.09945623, 1.29222855]])"
            ]
          },
          "execution_count": 85,
          "metadata": {},
          "output_type": "execute_result"
        }
      ],
      "source": [
        "arr1 / arr2"
      ]
    },
    {
      "cell_type": "code",
      "execution_count": null,
      "metadata": {
        "colab": {
          "base_uri": "https://localhost:8080/"
        },
        "id": "hSr7GsZKRvrk",
        "outputId": "65706221-c8a4-4c51-c7dd-101e0902e5f2"
      },
      "outputs": [
        {
          "data": {
            "text/plain": [
              "array([[0.29670704, 0.63022082, 0.01059919, 0.08755372],\n",
              "       [0.09692498, 0.03753011, 0.48619361, 0.17479273],\n",
              "       [0.3276968 , 0.0228815 , 0.78467419, 0.27351114]])"
            ]
          },
          "execution_count": 86,
          "metadata": {},
          "output_type": "execute_result"
        }
      ],
      "source": [
        "arr1*arr2 # point wise multiplication"
      ]
    },
    {
      "cell_type": "code",
      "execution_count": null,
      "metadata": {
        "colab": {
          "base_uri": "https://localhost:8080/"
        },
        "id": "6vq__KfQR3A4",
        "outputId": "e35e368d-163a-4f5c-f6c4-8818a3ffd3a1"
      },
      "outputs": [
        {
          "data": {
            "text/plain": [
              "array([[1.38083955, 1.99783174, 1.16801335, 2.22129328],\n",
              "       [1.97657522, 1.32947603, 2.37638819, 1.47190328],\n",
              "       [1.7212248 , 1.02523767, 2.53153158, 1.81213785]])"
            ]
          },
          "execution_count": 87,
          "metadata": {},
          "output_type": "execute_result"
        }
      ],
      "source": [
        "np.exp(arr1)"
      ]
    },
    {
      "cell_type": "code",
      "execution_count": null,
      "metadata": {
        "colab": {
          "base_uri": "https://localhost:8080/"
        },
        "id": "_-pPVVGAR9KU",
        "outputId": "815d489c-2458-462e-d2d5-4d9279a29c77"
      },
      "outputs": [
        {
          "data": {
            "text/plain": [
              "array([[0.32269169, 0.69206246, 0.15530431, 0.79808958],\n",
              "       [0.68136566, 0.2847849 , 0.86558177, 0.38655631],\n",
              "       [0.54303613, 0.02492446, 0.92882449, 0.59450728]])"
            ]
          },
          "execution_count": 88,
          "metadata": {},
          "output_type": "execute_result"
        }
      ],
      "source": [
        "np.log(np.exp(arr1))"
      ]
    },
    {
      "cell_type": "code",
      "execution_count": null,
      "metadata": {
        "colab": {
          "base_uri": "https://localhost:8080/"
        },
        "id": "t2cltEaOScTd",
        "outputId": "86861aba-4cb7-489e-99b9-96c7275e9873"
      },
      "outputs": [
        {
          "data": {
            "text/plain": [
              "array([[0.31712046, 0.63812649, 0.15468076, 0.71602378],\n",
              "       [0.62985434, 0.28095102, 0.76147249, 0.37700107],\n",
              "       [0.51673773, 0.02492187, 0.80091663, 0.56010064]])"
            ]
          },
          "execution_count": 89,
          "metadata": {},
          "output_type": "execute_result"
        }
      ],
      "source": [
        "np.sin(arr1)"
      ]
    },
    {
      "cell_type": "code",
      "execution_count": null,
      "metadata": {
        "colab": {
          "base_uri": "https://localhost:8080/"
        },
        "id": "uyatHecKSfU7",
        "outputId": "6d4517b9-bdf8-4bc5-9ad0-c285737f95ef"
      },
      "outputs": [
        {
          "data": {
            "text/plain": [
              "array([[0.56805958, 0.83190292, 0.39408668, 0.8933586 ],\n",
              "       [0.82544876, 0.53365242, 0.93036647, 0.62173653],\n",
              "       [0.73690985, 0.15787481, 0.96375541, 0.77104298]])"
            ]
          },
          "execution_count": 90,
          "metadata": {},
          "output_type": "execute_result"
        }
      ],
      "source": [
        "np.sqrt(arr1)"
      ]
    },
    {
      "cell_type": "code",
      "execution_count": null,
      "metadata": {
        "colab": {
          "base_uri": "https://localhost:8080/"
        },
        "id": "iUtGN65LShsd",
        "outputId": "a4f2861e-ea6b-497a-db08-a45f2a8a2e37"
      },
      "outputs": [
        {
          "name": "stdout",
          "output_type": "stream",
          "text": [
            "[[ 3.09893327  1.44495628  6.43897117  1.25299217]\n",
            " [ 1.46764073  3.51142211  1.15529236  2.58694522]\n",
            " [ 1.84149809 40.12123764  1.07662967  1.68206519]]\n"
          ]
        }
      ],
      "source": [
        "arr_inv = 1/arr1\n",
        "print(arr_inv)"
      ]
    },
    {
      "cell_type": "code",
      "execution_count": null,
      "metadata": {
        "colab": {
          "base_uri": "https://localhost:8080/"
        },
        "id": "IBKiSkA1S2rF",
        "outputId": "946a65d7-81b0-49d8-d4fa-106688b566ab"
      },
      "outputs": [
        {
          "name": "stdout",
          "output_type": "stream",
          "text": [
            "[[inf inf inf inf]\n",
            " [inf inf inf inf]\n",
            " [inf inf inf inf]]\n"
          ]
        },
        {
          "name": "stderr",
          "output_type": "stream",
          "text": [
            "<ipython-input-95-b3c28cf14a6d>:2: RuntimeWarning: divide by zero encountered in divide\n",
            "  arr_inv = 1 / arr\n"
          ]
        }
      ],
      "source": [
        "arr = np.zeros((3,4))\n",
        "arr_inv = 1 / arr\n",
        "print(arr_inv) #infinity"
      ]
    },
    {
      "cell_type": "code",
      "execution_count": null,
      "metadata": {
        "colab": {
          "base_uri": "https://localhost:8080/"
        },
        "id": "sD7uIN99TEtg",
        "outputId": "c47958ef-d7b4-4085-e3e3-0bb8ca952ef8"
      },
      "outputs": [
        {
          "data": {
            "text/plain": [
              "True"
            ]
          },
          "execution_count": 96,
          "metadata": {},
          "output_type": "execute_result"
        }
      ],
      "source": [
        "np.isinf(arr_inv[0,0])"
      ]
    },
    {
      "cell_type": "code",
      "execution_count": null,
      "metadata": {
        "colab": {
          "base_uri": "https://localhost:8080/"
        },
        "id": "GGzw7PBhTN1m",
        "outputId": "0b571510-60d0-40c2-d0c6-bb623d96a12b"
      },
      "outputs": [
        {
          "data": {
            "text/plain": [
              "array([[ True,  True,  True,  True],\n",
              "       [ True,  True,  True,  True],\n",
              "       [ True,  True,  True,  True]])"
            ]
          },
          "execution_count": 97,
          "metadata": {},
          "output_type": "execute_result"
        }
      ],
      "source": [
        "np.isinf(arr_inv)"
      ]
    },
    {
      "cell_type": "markdown",
      "metadata": {
        "id": "1IktA_fRYPg8"
      },
      "source": [
        "#**Reshape**"
      ]
    },
    {
      "cell_type": "code",
      "execution_count": null,
      "metadata": {
        "colab": {
          "base_uri": "https://localhost:8080/"
        },
        "id": "h6W03c-QTRNr",
        "outputId": "da7b074d-8cbe-4bba-f700-4f665744fc8b"
      },
      "outputs": [
        {
          "data": {
            "text/plain": [
              "array([0, 1, 2, 3, 4, 5])"
            ]
          },
          "execution_count": 107,
          "metadata": {},
          "output_type": "execute_result"
        }
      ],
      "source": [
        "arr1 = np.arange(6)\n",
        "arr1"
      ]
    },
    {
      "cell_type": "code",
      "execution_count": null,
      "metadata": {
        "colab": {
          "base_uri": "https://localhost:8080/"
        },
        "id": "jpSiku9OYa6L",
        "outputId": "bb023943-eda6-4c13-8a31-9dd9b0016bb1"
      },
      "outputs": [
        {
          "data": {
            "text/plain": [
              "(6,)"
            ]
          },
          "execution_count": 99,
          "metadata": {},
          "output_type": "execute_result"
        }
      ],
      "source": [
        "arr1.shape"
      ]
    },
    {
      "cell_type": "code",
      "execution_count": null,
      "metadata": {
        "colab": {
          "base_uri": "https://localhost:8080/"
        },
        "id": "7Q-SPTFsYdQt",
        "outputId": "e6861815-032c-437d-8622-6336167e68ed"
      },
      "outputs": [
        {
          "data": {
            "text/plain": [
              "array([[0, 1],\n",
              "       [2, 3],\n",
              "       [4, 5]])"
            ]
          },
          "execution_count": 109,
          "metadata": {},
          "output_type": "execute_result"
        }
      ],
      "source": [
        "arr1=arr1.reshape(3,2)\n",
        "arr1"
      ]
    },
    {
      "cell_type": "code",
      "execution_count": null,
      "metadata": {
        "colab": {
          "base_uri": "https://localhost:8080/"
        },
        "id": "S0rAViTXYdD7",
        "outputId": "45c3d63f-d96a-4edb-c6b5-25afc70128a2"
      },
      "outputs": [
        {
          "data": {
            "text/plain": [
              "(3, 2)"
            ]
          },
          "execution_count": 110,
          "metadata": {},
          "output_type": "execute_result"
        }
      ],
      "source": [
        "arr1.shape"
      ]
    },
    {
      "cell_type": "code",
      "execution_count": null,
      "metadata": {
        "id": "qWx5KKtQYnz_"
      },
      "outputs": [],
      "source": [
        "arr2=np.arange(6).reshape((3,2))"
      ]
    },
    {
      "cell_type": "code",
      "execution_count": null,
      "metadata": {
        "colab": {
          "base_uri": "https://localhost:8080/"
        },
        "id": "xT-86ga1Y65z",
        "outputId": "8914bea2-c112-4cfd-fb5c-b0026a69e160"
      },
      "outputs": [
        {
          "data": {
            "text/plain": [
              "array([[ 0,  2],\n",
              "       [ 4,  6],\n",
              "       [ 8, 10]])"
            ]
          },
          "execution_count": 112,
          "metadata": {},
          "output_type": "execute_result"
        }
      ],
      "source": [
        "arr1 + arr2"
      ]
    },
    {
      "cell_type": "code",
      "execution_count": null,
      "metadata": {
        "colab": {
          "base_uri": "https://localhost:8080/"
        },
        "id": "cYlRbv8YZWr0",
        "outputId": "7753eb6e-5f1f-483b-f246-59764b595a0f"
      },
      "outputs": [
        {
          "data": {
            "text/plain": [
              "array([[0, 1]])"
            ]
          },
          "execution_count": 113,
          "metadata": {},
          "output_type": "execute_result"
        }
      ],
      "source": [
        "arr2[0].reshape((1,2))"
      ]
    },
    {
      "cell_type": "markdown",
      "metadata": {
        "id": "eM14IQ4YZvH-"
      },
      "source": [
        "# Broadcasting"
      ]
    },
    {
      "cell_type": "code",
      "execution_count": null,
      "metadata": {
        "colab": {
          "base_uri": "https://localhost:8080/"
        },
        "id": "q3cQytrjZfOF",
        "outputId": "0653d3d5-d823-4c56-ce05-e72266cd328a"
      },
      "outputs": [
        {
          "data": {
            "text/plain": [
              "array([[0, 2],\n",
              "       [2, 4],\n",
              "       [4, 6]])"
            ]
          },
          "execution_count": 114,
          "metadata": {},
          "output_type": "execute_result"
        }
      ],
      "source": [
        "arr1 + arr2[0].reshape((1,2))   #(3,2) + (1,2)"
      ]
    },
    {
      "cell_type": "code",
      "execution_count": null,
      "metadata": {
        "colab": {
          "base_uri": "https://localhost:8080/"
        },
        "id": "QKu2EnH3ZtZ6",
        "outputId": "4f9e376f-ed23-4672-e5e9-0bf4594431cb"
      },
      "outputs": [
        {
          "data": {
            "text/plain": [
              "array([[0],\n",
              "       [2],\n",
              "       [4]])"
            ]
          },
          "execution_count": 116,
          "metadata": {},
          "output_type": "execute_result"
        }
      ],
      "source": [
        "arr2[:,0].reshape((3,1))"
      ]
    },
    {
      "cell_type": "code",
      "execution_count": null,
      "metadata": {
        "colab": {
          "base_uri": "https://localhost:8080/"
        },
        "id": "7fpkikboafTf",
        "outputId": "d8d845ff-7a2e-4046-beea-3f5129495151"
      },
      "outputs": [
        {
          "data": {
            "text/plain": [
              "array([[0, 1],\n",
              "       [4, 5],\n",
              "       [8, 9]])"
            ]
          },
          "execution_count": 117,
          "metadata": {},
          "output_type": "execute_result"
        }
      ],
      "source": [
        "arr1 + arr2[:,0].reshape((3,1)) #(3,2) +(3,1)"
      ]
    },
    {
      "cell_type": "code",
      "execution_count": null,
      "metadata": {
        "colab": {
          "base_uri": "https://localhost:8080/"
        },
        "id": "_P3JTvUzatL7",
        "outputId": "aa3cb541-6d68-4835-8d19-18d8ad88b351"
      },
      "outputs": [
        {
          "data": {
            "text/plain": [
              "array([[1, 2],\n",
              "       [3, 4],\n",
              "       [5, 6]])"
            ]
          },
          "execution_count": 118,
          "metadata": {},
          "output_type": "execute_result"
        }
      ],
      "source": [
        "arr1 + 1"
      ]
    },
    {
      "cell_type": "code",
      "execution_count": null,
      "metadata": {
        "id": "AOpMMWBAaz1F"
      },
      "outputs": [],
      "source": [
        "arr1 = np.arange(24).reshape((2,3,4))"
      ]
    },
    {
      "cell_type": "code",
      "execution_count": null,
      "metadata": {
        "colab": {
          "base_uri": "https://localhost:8080/"
        },
        "id": "XcTmy16fbBBs",
        "outputId": "b3b62fba-515b-4848-fe24-169ba2e768f0"
      },
      "outputs": [
        {
          "data": {
            "text/plain": [
              "array([[[ 0,  1,  2,  3],\n",
              "        [ 4,  5,  6,  7],\n",
              "        [ 8,  9, 10, 11]],\n",
              "\n",
              "       [[12, 13, 14, 15],\n",
              "        [16, 17, 18, 19],\n",
              "        [20, 21, 22, 23]]])"
            ]
          },
          "execution_count": 120,
          "metadata": {},
          "output_type": "execute_result"
        }
      ],
      "source": [
        "arr1"
      ]
    },
    {
      "cell_type": "code",
      "execution_count": null,
      "metadata": {
        "colab": {
          "base_uri": "https://localhost:8080/"
        },
        "id": "qSgGIwWebDYg",
        "outputId": "2eef04a9-4e5e-47f7-806a-503307a30773"
      },
      "outputs": [
        {
          "data": {
            "text/plain": [
              "array([[[ 1.,  2.,  3.,  4.],\n",
              "        [ 5.,  6.,  7.,  8.],\n",
              "        [ 9., 10., 11., 12.]],\n",
              "\n",
              "       [[13., 14., 15., 16.],\n",
              "        [17., 18., 19., 20.],\n",
              "        [21., 22., 23., 24.]]])"
            ]
          },
          "execution_count": 121,
          "metadata": {},
          "output_type": "execute_result"
        }
      ],
      "source": [
        "arr2 = np.ones((1,4))\n",
        "arr1 + arr2      #(2,3,4) + (1,4)  check from back (from 4)"
      ]
    },
    {
      "cell_type": "code",
      "execution_count": null,
      "metadata": {
        "colab": {
          "base_uri": "https://localhost:8080/",
          "height": 210
        },
        "id": "b6J1vkhabIml",
        "outputId": "0785c390-eca4-4008-e346-5699c07e1b20"
      },
      "outputs": [
        {
          "ename": "ValueError",
          "evalue": "ignored",
          "output_type": "error",
          "traceback": [
            "\u001b[0;31m---------------------------------------------------------------------------\u001b[0m",
            "\u001b[0;31mValueError\u001b[0m                                Traceback (most recent call last)",
            "\u001b[0;32m<ipython-input-128-ef9763f9c7fd>\u001b[0m in \u001b[0;36m<cell line: 3>\u001b[0;34m()\u001b[0m\n\u001b[1;32m      1\u001b[0m \u001b[0marr1\u001b[0m \u001b[0;34m=\u001b[0m \u001b[0mnp\u001b[0m\u001b[0;34m.\u001b[0m\u001b[0marange\u001b[0m\u001b[0;34m(\u001b[0m\u001b[0;36m4\u001b[0m\u001b[0;34m)\u001b[0m\u001b[0;34m\u001b[0m\u001b[0;34m\u001b[0m\u001b[0m\n\u001b[1;32m      2\u001b[0m \u001b[0marr2\u001b[0m \u001b[0;34m=\u001b[0m \u001b[0mnp\u001b[0m\u001b[0;34m.\u001b[0m\u001b[0marange\u001b[0m\u001b[0;34m(\u001b[0m\u001b[0;36m5\u001b[0m\u001b[0;34m)\u001b[0m\u001b[0;34m\u001b[0m\u001b[0;34m\u001b[0m\u001b[0m\n\u001b[0;32m----> 3\u001b[0;31m \u001b[0marr1\u001b[0m \u001b[0;34m+\u001b[0m \u001b[0marr2\u001b[0m\u001b[0;34m\u001b[0m\u001b[0;34m\u001b[0m\u001b[0m\n\u001b[0m",
            "\u001b[0;31mValueError\u001b[0m: operands could not be broadcast together with shapes (4,) (5,) "
          ]
        }
      ],
      "source": [
        "arr1 = np.arange(4)\n",
        "arr2 = np.arange(5)\n",
        "arr1 + arr2"
      ]
    },
    {
      "cell_type": "code",
      "execution_count": null,
      "metadata": {
        "colab": {
          "base_uri": "https://localhost:8080/"
        },
        "id": "0Rp2T7pNbsiu",
        "outputId": "2619564d-4d9c-406d-80fd-d81081b44759"
      },
      "outputs": [
        {
          "data": {
            "text/plain": [
              "array([[0, 1, 2, 3, 4],\n",
              "       [1, 2, 3, 4, 5],\n",
              "       [2, 3, 4, 5, 6],\n",
              "       [3, 4, 5, 6, 7]])"
            ]
          },
          "execution_count": 129,
          "metadata": {},
          "output_type": "execute_result"
        }
      ],
      "source": [
        "arr1.reshape(4,1) + arr2  #(4,1) + (5)\n"
      ]
    },
    {
      "cell_type": "code",
      "execution_count": null,
      "metadata": {
        "colab": {
          "base_uri": "https://localhost:8080/"
        },
        "id": "kaMc_6c1cEY4",
        "outputId": "705dc7a4-2373-4f4a-bddc-7903952fc16a"
      },
      "outputs": [
        {
          "data": {
            "text/plain": [
              "array([0, 1, 2, 3])"
            ]
          },
          "execution_count": 130,
          "metadata": {},
          "output_type": "execute_result"
        }
      ],
      "source": [
        "arr1.T"
      ]
    },
    {
      "cell_type": "markdown",
      "metadata": {
        "id": "AY0HSvUx3fXz"
      },
      "source": [
        "# File Handling"
      ]
    },
    {
      "cell_type": "code",
      "execution_count": null,
      "metadata": {
        "id": "vL6W0ldQ3iko"
      },
      "outputs": [],
      "source": [
        "planets_small = np.loadtxt(\"planets_small.txt\",skiprows=1,usecols=(1,2,3,4,5,6,7,8,9))"
      ]
    },
    {
      "cell_type": "code",
      "execution_count": null,
      "metadata": {
        "colab": {
          "base_uri": "https://localhost:8080/"
        },
        "id": "8Zlp77XF6PFN",
        "outputId": "626a32fd-4ef2-45b8-8058-b62ac7de3cd9"
      },
      "outputs": [
        {
          "data": {
            "text/plain": [
              "array([[3.3000e-01, 4.8700e+00, 5.9700e+00, 6.4200e-01, 1.8980e+03,\n",
              "        5.6800e+02, 8.6800e+01, 1.0200e+02, 1.4600e-02],\n",
              "       [5.7900e+01, 1.0820e+02, 1.4960e+02, 2.2790e+02, 7.7860e+02,\n",
              "        1.4335e+03, 2.8725e+03, 4.4951e+03, 5.9064e+03],\n",
              "       [4.2226e+03, 2.8020e+03, 2.4000e+01, 2.4700e+01, 9.9000e+00,\n",
              "        1.0700e+01, 1.7200e+01, 1.6100e+01, 1.5330e+02]])"
            ]
          },
          "execution_count": 3,
          "metadata": {},
          "output_type": "execute_result"
        }
      ],
      "source": [
        "planets_small"
      ]
    },
    {
      "cell_type": "code",
      "execution_count": null,
      "metadata": {
        "colab": {
          "base_uri": "https://localhost:8080/"
        },
        "id": "gyt1uELU6Rqe",
        "outputId": "7a52be1a-285f-48c8-c179-90b14ff17dd5"
      },
      "outputs": [
        {
          "data": {
            "text/plain": [
              "2"
            ]
          },
          "execution_count": 4,
          "metadata": {},
          "output_type": "execute_result"
        }
      ],
      "source": [
        "planets_small.ndim"
      ]
    },
    {
      "cell_type": "code",
      "execution_count": null,
      "metadata": {
        "colab": {
          "base_uri": "https://localhost:8080/"
        },
        "id": "7WkmLKCY6VJL",
        "outputId": "5a83e4d2-cec7-4716-d352-6550fe861bac"
      },
      "outputs": [
        {
          "data": {
            "text/plain": [
              "(3, 9)"
            ]
          },
          "execution_count": 5,
          "metadata": {},
          "output_type": "execute_result"
        }
      ],
      "source": [
        "planets_small.shape"
      ]
    },
    {
      "cell_type": "markdown",
      "metadata": {
        "id": "lI62vJMxKblJ"
      },
      "source": [
        "genfromtxt converts unknown to nan(not a number) and does not show error"
      ]
    },
    {
      "cell_type": "code",
      "execution_count": null,
      "metadata": {
        "id": "ceY4wTmQ6X_8"
      },
      "outputs": [],
      "source": [
        "planets = np.genfromtxt(\"planets.txt\",skip_header=1,usecols=[1,2,3,4,5,6,7,8,9])"
      ]
    },
    {
      "cell_type": "code",
      "execution_count": null,
      "metadata": {
        "colab": {
          "base_uri": "https://localhost:8080/"
        },
        "id": "IKvaRKkUKXPc",
        "outputId": "8c363806-9896-4175-8cb6-9b067cdcd195"
      },
      "outputs": [
        {
          "data": {
            "text/plain": [
              "array([[ 3.30000e-01,  4.87000e+00,  5.97000e+00,  7.30000e-02,\n",
              "         6.42000e-01,  1.89800e+03,  5.68000e+02,  8.68000e+01,\n",
              "         1.02000e+02],\n",
              "       [ 4.87900e+03,  1.21040e+04,  1.27560e+04,  3.47500e+03,\n",
              "         6.79200e+03,  1.42984e+05,  1.20536e+05,  5.11180e+04,\n",
              "         4.95280e+04],\n",
              "       [ 5.42700e+03,  5.24300e+03,  5.51400e+03,  3.34000e+03,\n",
              "         3.93300e+03,  1.32600e+03,  6.87000e+02,  1.27100e+03,\n",
              "         1.63800e+03],\n",
              "       [ 3.70000e+00,  8.90000e+00,  9.80000e+00,  1.60000e+00,\n",
              "         3.70000e+00,  2.31000e+01,  9.00000e+00,  8.70000e+00,\n",
              "         1.10000e+01],\n",
              "       [ 4.30000e+00,  1.04000e+01,  1.12000e+01,  2.40000e+00,\n",
              "         5.00000e+00,  5.95000e+01,  3.55000e+01,  2.13000e+01,\n",
              "         2.35000e+01],\n",
              "       [ 1.40760e+03, -5.83250e+03,  2.39000e+01,  6.55700e+02,\n",
              "         2.46000e+01,  9.90000e+00,  1.07000e+01, -1.72000e+01,\n",
              "         1.61000e+01],\n",
              "       [ 4.22260e+03,  2.80200e+03,  2.40000e+01,  7.08700e+02,\n",
              "         2.47000e+01,  9.90000e+00,  1.07000e+01,  1.72000e+01,\n",
              "         1.61000e+01],\n",
              "       [ 5.79000e+01,  1.08200e+02,  1.49600e+02,  3.84000e-01,\n",
              "         2.27900e+02,  7.78600e+02,  1.43350e+03,  2.87250e+03,\n",
              "         4.49510e+03],\n",
              "       [ 4.60000e+01,  1.07500e+02,  1.47100e+02,  3.63000e-01,\n",
              "         2.06600e+02,  7.40500e+02,  1.35260e+03,  2.74130e+03,\n",
              "         4.44450e+03],\n",
              "       [ 6.98000e+01,  1.08900e+02,  1.52100e+02,  4.06000e-01,\n",
              "         2.49200e+02,  8.16600e+02,  1.51450e+03,  3.00360e+03,\n",
              "         4.54570e+03],\n",
              "       [ 8.80000e+01,  2.24700e+02,  3.65200e+02,  2.73000e+01,\n",
              "         6.87000e+02,  4.33100e+03,  1.07470e+04,  3.05890e+04,\n",
              "         5.98000e+04],\n",
              "       [ 4.74000e+01,  3.50000e+01,  2.98000e+01,  1.00000e+00,\n",
              "         2.41000e+01,  1.31000e+01,  9.70000e+00,  6.80000e+00,\n",
              "         5.40000e+00],\n",
              "       [ 7.00000e+00,  3.40000e+00,  0.00000e+00,  5.10000e+00,\n",
              "         1.90000e+00,  1.30000e+00,  2.50000e+00,  8.00000e-01,\n",
              "         1.80000e+00],\n",
              "       [ 2.05000e-01,  7.00000e-03,  1.70000e-02,  5.50000e-02,\n",
              "         9.40000e-02,  4.90000e-02,  5.70000e-02,  4.60000e-02,\n",
              "         1.10000e-02],\n",
              "       [ 3.40000e-02,  1.77400e+02,  2.34000e+01,  6.70000e+00,\n",
              "         2.52000e+01,  3.10000e+00,  2.67000e+01,  9.78000e+01,\n",
              "         2.83000e+01],\n",
              "       [ 1.67000e+02,  4.64000e+02,  1.50000e+01, -2.00000e+01,\n",
              "        -6.50000e+01, -1.10000e+02, -1.40000e+02, -1.95000e+02,\n",
              "        -2.00000e+02],\n",
              "       [ 0.00000e+00,  9.20000e+01,  1.00000e+00,  0.00000e+00,\n",
              "         1.00000e-02,          nan,          nan,          nan,\n",
              "                 nan],\n",
              "       [ 0.00000e+00,  0.00000e+00,  1.00000e+00,  0.00000e+00,\n",
              "         2.00000e+00,  7.90000e+01,  8.20000e+01,  2.70000e+01,\n",
              "         1.40000e+01],\n",
              "       [ 0.00000e+00,  0.00000e+00,  0.00000e+00,  0.00000e+00,\n",
              "         0.00000e+00,  1.00000e+00,  1.00000e+00,  1.00000e+00,\n",
              "         1.00000e+00],\n",
              "       [ 1.00000e+00,  0.00000e+00,  1.00000e+00,  0.00000e+00,\n",
              "         0.00000e+00,  1.00000e+00,  1.00000e+00,  1.00000e+00,\n",
              "         1.00000e+00]])"
            ]
          },
          "execution_count": 9,
          "metadata": {},
          "output_type": "execute_result"
        }
      ],
      "source": [
        "planets"
      ]
    },
    {
      "cell_type": "code",
      "execution_count": null,
      "metadata": {
        "colab": {
          "base_uri": "https://localhost:8080/"
        },
        "id": "oftwersjKpPu",
        "outputId": "e2a87e7a-2725-448f-f742-2ddb6d50a2b6"
      },
      "outputs": [
        {
          "data": {
            "text/plain": [
              "(20, 9)"
            ]
          },
          "execution_count": 10,
          "metadata": {},
          "output_type": "execute_result"
        }
      ],
      "source": [
        "planets.shape"
      ]
    },
    {
      "cell_type": "code",
      "execution_count": null,
      "metadata": {
        "colab": {
          "base_uri": "https://localhost:8080/"
        },
        "id": "6dYtXUHcKtx5",
        "outputId": "65a5eb7a-aa6d-4bbe-a91d-5cc835286d18"
      },
      "outputs": [
        {
          "data": {
            "text/plain": [
              "array([[False, False, False, False, False, False, False, False, False],\n",
              "       [False, False, False, False, False, False, False, False, False],\n",
              "       [False, False, False, False, False, False, False, False, False],\n",
              "       [False, False, False, False, False, False, False, False, False],\n",
              "       [False, False, False, False, False, False, False, False, False],\n",
              "       [False, False, False, False, False, False, False, False, False],\n",
              "       [False, False, False, False, False, False, False, False, False],\n",
              "       [False, False, False, False, False, False, False, False, False],\n",
              "       [False, False, False, False, False, False, False, False, False],\n",
              "       [False, False, False, False, False, False, False, False, False],\n",
              "       [False, False, False, False, False, False, False, False, False],\n",
              "       [False, False, False, False, False, False, False, False, False],\n",
              "       [False, False, False, False, False, False, False, False, False],\n",
              "       [False, False, False, False, False, False, False, False, False],\n",
              "       [False, False, False, False, False, False, False, False, False],\n",
              "       [False, False, False, False, False, False, False, False, False],\n",
              "       [False, False, False, False, False,  True,  True,  True,  True],\n",
              "       [False, False, False, False, False, False, False, False, False],\n",
              "       [False, False, False, False, False, False, False, False, False],\n",
              "       [False, False, False, False, False, False, False, False, False]])"
            ]
          },
          "execution_count": 11,
          "metadata": {},
          "output_type": "execute_result"
        }
      ],
      "source": [
        "np.isnan(planets)"
      ]
    },
    {
      "cell_type": "code",
      "execution_count": null,
      "metadata": {
        "id": "okH7jPyEK23h"
      },
      "outputs": [],
      "source": [
        "planets_new = np.nan_to_num(planets,nan =-1)"
      ]
    },
    {
      "cell_type": "code",
      "execution_count": null,
      "metadata": {
        "colab": {
          "base_uri": "https://localhost:8080/"
        },
        "id": "fpxkEJv-LFLV",
        "outputId": "1e280f80-4054-4e9d-f624-d5cbf9f3509c"
      },
      "outputs": [
        {
          "data": {
            "text/plain": [
              "array([[ 3.30000e-01,  4.87000e+00,  5.97000e+00,  7.30000e-02,\n",
              "         6.42000e-01,  1.89800e+03,  5.68000e+02,  8.68000e+01,\n",
              "         1.02000e+02],\n",
              "       [ 4.87900e+03,  1.21040e+04,  1.27560e+04,  3.47500e+03,\n",
              "         6.79200e+03,  1.42984e+05,  1.20536e+05,  5.11180e+04,\n",
              "         4.95280e+04],\n",
              "       [ 5.42700e+03,  5.24300e+03,  5.51400e+03,  3.34000e+03,\n",
              "         3.93300e+03,  1.32600e+03,  6.87000e+02,  1.27100e+03,\n",
              "         1.63800e+03],\n",
              "       [ 3.70000e+00,  8.90000e+00,  9.80000e+00,  1.60000e+00,\n",
              "         3.70000e+00,  2.31000e+01,  9.00000e+00,  8.70000e+00,\n",
              "         1.10000e+01],\n",
              "       [ 4.30000e+00,  1.04000e+01,  1.12000e+01,  2.40000e+00,\n",
              "         5.00000e+00,  5.95000e+01,  3.55000e+01,  2.13000e+01,\n",
              "         2.35000e+01],\n",
              "       [ 1.40760e+03, -5.83250e+03,  2.39000e+01,  6.55700e+02,\n",
              "         2.46000e+01,  9.90000e+00,  1.07000e+01, -1.72000e+01,\n",
              "         1.61000e+01],\n",
              "       [ 4.22260e+03,  2.80200e+03,  2.40000e+01,  7.08700e+02,\n",
              "         2.47000e+01,  9.90000e+00,  1.07000e+01,  1.72000e+01,\n",
              "         1.61000e+01],\n",
              "       [ 5.79000e+01,  1.08200e+02,  1.49600e+02,  3.84000e-01,\n",
              "         2.27900e+02,  7.78600e+02,  1.43350e+03,  2.87250e+03,\n",
              "         4.49510e+03],\n",
              "       [ 4.60000e+01,  1.07500e+02,  1.47100e+02,  3.63000e-01,\n",
              "         2.06600e+02,  7.40500e+02,  1.35260e+03,  2.74130e+03,\n",
              "         4.44450e+03],\n",
              "       [ 6.98000e+01,  1.08900e+02,  1.52100e+02,  4.06000e-01,\n",
              "         2.49200e+02,  8.16600e+02,  1.51450e+03,  3.00360e+03,\n",
              "         4.54570e+03],\n",
              "       [ 8.80000e+01,  2.24700e+02,  3.65200e+02,  2.73000e+01,\n",
              "         6.87000e+02,  4.33100e+03,  1.07470e+04,  3.05890e+04,\n",
              "         5.98000e+04],\n",
              "       [ 4.74000e+01,  3.50000e+01,  2.98000e+01,  1.00000e+00,\n",
              "         2.41000e+01,  1.31000e+01,  9.70000e+00,  6.80000e+00,\n",
              "         5.40000e+00],\n",
              "       [ 7.00000e+00,  3.40000e+00,  0.00000e+00,  5.10000e+00,\n",
              "         1.90000e+00,  1.30000e+00,  2.50000e+00,  8.00000e-01,\n",
              "         1.80000e+00],\n",
              "       [ 2.05000e-01,  7.00000e-03,  1.70000e-02,  5.50000e-02,\n",
              "         9.40000e-02,  4.90000e-02,  5.70000e-02,  4.60000e-02,\n",
              "         1.10000e-02],\n",
              "       [ 3.40000e-02,  1.77400e+02,  2.34000e+01,  6.70000e+00,\n",
              "         2.52000e+01,  3.10000e+00,  2.67000e+01,  9.78000e+01,\n",
              "         2.83000e+01],\n",
              "       [ 1.67000e+02,  4.64000e+02,  1.50000e+01, -2.00000e+01,\n",
              "        -6.50000e+01, -1.10000e+02, -1.40000e+02, -1.95000e+02,\n",
              "        -2.00000e+02],\n",
              "       [ 0.00000e+00,  9.20000e+01,  1.00000e+00,  0.00000e+00,\n",
              "         1.00000e-02,          nan,          nan,          nan,\n",
              "                 nan],\n",
              "       [ 0.00000e+00,  0.00000e+00,  1.00000e+00,  0.00000e+00,\n",
              "         2.00000e+00,  7.90000e+01,  8.20000e+01,  2.70000e+01,\n",
              "         1.40000e+01],\n",
              "       [ 0.00000e+00,  0.00000e+00,  0.00000e+00,  0.00000e+00,\n",
              "         0.00000e+00,  1.00000e+00,  1.00000e+00,  1.00000e+00,\n",
              "         1.00000e+00],\n",
              "       [ 1.00000e+00,  0.00000e+00,  1.00000e+00,  0.00000e+00,\n",
              "         0.00000e+00,  1.00000e+00,  1.00000e+00,  1.00000e+00,\n",
              "         1.00000e+00]])"
            ]
          },
          "execution_count": 13,
          "metadata": {},
          "output_type": "execute_result"
        }
      ],
      "source": [
        "planets"
      ]
    },
    {
      "cell_type": "code",
      "execution_count": null,
      "metadata": {
        "id": "PmwCaY9DLHbm"
      },
      "outputs": [],
      "source": [
        "np.savetxt('planets_new.txt',planets_new,\n",
        "           delimiter=',')"
      ]
    },
    {
      "cell_type": "code",
      "execution_count": null,
      "metadata": {
        "id": "6FXMYBMgLZX6"
      },
      "outputs": [],
      "source": [
        "np.save(\"planets_new\",planets_new)  # will be saved as .npy file not as txt file"
      ]
    },
    {
      "cell_type": "code",
      "execution_count": null,
      "metadata": {
        "colab": {
          "base_uri": "https://localhost:8080/"
        },
        "id": "0TtKXV0nMJ2R",
        "outputId": "4b577d54-7261-4356-c9d3-fc4c6f44c3fb"
      },
      "outputs": [
        {
          "name": "stdout",
          "output_type": "stream",
          "text": [
            "planets_new.npy  planets_new.txt  planets_small.txt  planets.txt  sample_data\n"
          ]
        }
      ],
      "source": [
        "!ls # exclamation mark : runs all unix commands on virtual machine"
      ]
    },
    {
      "cell_type": "code",
      "execution_count": null,
      "metadata": {
        "colab": {
          "base_uri": "https://localhost:8080/"
        },
        "id": "lp8Rr1mMMaPX",
        "outputId": "4fba7843-51f8-4b35-979f-c7bd95de63dd"
      },
      "outputs": [
        {
          "name": "stdout",
          "output_type": "stream",
          "text": [
            "total 24K\n",
            "-rw-r--r-- 1 root root 1.6K Oct 21 17:02 planets_new.npy\n",
            "-rw-r--r-- 1 root root 4.5K Oct 21 16:59 planets_new.txt\n",
            "-rw-r--r-- 1 root root  257 Oct 21 16:52 planets_small.txt\n",
            "-rw-r--r-- 1 root root 1.5K Oct 21 16:52 planets.txt\n",
            "drwxr-xr-x 1 root root 4.0K Oct 19 16:36 sample_data\n"
          ]
        }
      ],
      "source": [
        "!ls -lh #compare space of .npy,.txt files."
      ]
    },
    {
      "cell_type": "code",
      "execution_count": null,
      "metadata": {
        "id": "czDu9IvDNNxG"
      },
      "outputs": [],
      "source": [
        "arr1 = np.random.rand(1000,10)\n",
        "arr2 = np.random.rand(100,4)\n",
        "arr3 = np.random.rand(200,5)"
      ]
    },
    {
      "cell_type": "code",
      "execution_count": null,
      "metadata": {
        "id": "nqXjFysANpm9"
      },
      "outputs": [],
      "source": [
        "np.savez(\"many_arrays\",arr1,arr2,arr3) # saving many arrays"
      ]
    },
    {
      "cell_type": "code",
      "execution_count": null,
      "metadata": {
        "colab": {
          "base_uri": "https://localhost:8080/"
        },
        "id": "rcjmdevdNwdS",
        "outputId": "3ca6da4a-ea0a-4bfc-f305-8fe89c6ecbdb"
      },
      "outputs": [
        {
          "name": "stdout",
          "output_type": "stream",
          "text": [
            "total 116\n",
            "-rw-r--r-- 1 root root 91948 Oct 21 17:09 many_arrays.npz\n",
            "-rw-r--r-- 1 root root  1568 Oct 21 17:02 planets_new.npy\n",
            "-rw-r--r-- 1 root root  4512 Oct 21 16:59 planets_new.txt\n",
            "-rw-r--r-- 1 root root   257 Oct 21 16:52 planets_small.txt\n",
            "-rw-r--r-- 1 root root  1455 Oct 21 16:52 planets.txt\n",
            "drwxr-xr-x 1 root root  4096 Oct 19 16:36 sample_data\n"
          ]
        }
      ],
      "source": [
        "!ls -l"
      ]
    },
    {
      "cell_type": "code",
      "execution_count": null,
      "metadata": {
        "id": "nuo0QtwON2pg"
      },
      "outputs": [],
      "source": [
        "arrs = np.load('many_arrays.npz') #loading files"
      ]
    },
    {
      "cell_type": "code",
      "execution_count": null,
      "metadata": {
        "colab": {
          "base_uri": "https://localhost:8080/"
        },
        "id": "coR_92hLOFLj",
        "outputId": "52b129fb-bb29-4673-a994-05a30fd7bbdd"
      },
      "outputs": [
        {
          "name": "stdout",
          "output_type": "stream",
          "text": [
            "<class 'numpy.lib.npyio.NpzFile'>\n"
          ]
        }
      ],
      "source": [
        "print(type(arrs))"
      ]
    },
    {
      "cell_type": "code",
      "execution_count": null,
      "metadata": {
        "colab": {
          "base_uri": "https://localhost:8080/"
        },
        "id": "UgX7e5qEOHzk",
        "outputId": "1a806962-fdd0-4d73-a13c-15bb4a2ff53d"
      },
      "outputs": [
        {
          "data": {
            "text/plain": [
              "['arr_0', 'arr_1', 'arr_2']"
            ]
          },
          "execution_count": 25,
          "metadata": {},
          "output_type": "execute_result"
        }
      ],
      "source": [
        "arrs.files"
      ]
    },
    {
      "cell_type": "code",
      "execution_count": null,
      "metadata": {
        "colab": {
          "base_uri": "https://localhost:8080/"
        },
        "id": "8OGqYzIIOLEx",
        "outputId": "caf532ac-e343-4d3c-85a4-9a7e8f0cbec1"
      },
      "outputs": [
        {
          "data": {
            "text/plain": [
              "(1000, 10)"
            ]
          },
          "execution_count": 28,
          "metadata": {},
          "output_type": "execute_result"
        }
      ],
      "source": [
        "arrs['arr_0'].shape"
      ]
    },
    {
      "cell_type": "code",
      "execution_count": null,
      "metadata": {
        "id": "9n-PrexFOUCd"
      },
      "outputs": [],
      "source": [
        "np.savez_compressed('many_arrays_compressed',arr1,arr2,arr3)"
      ]
    },
    {
      "cell_type": "code",
      "execution_count": null,
      "metadata": {
        "colab": {
          "base_uri": "https://localhost:8080/"
        },
        "id": "V39sd9AxOllv",
        "outputId": "46716ea7-6f1c-4d72-f5d5-8195cd30cbd1"
      },
      "outputs": [
        {
          "name": "stdout",
          "output_type": "stream",
          "text": [
            "total 204K\n",
            "-rw-r--r-- 1 root root  85K Oct 21 17:13 many_arrays_compressed.npz\n",
            "-rw-r--r-- 1 root root  90K Oct 21 17:09 many_arrays.npz\n",
            "-rw-r--r-- 1 root root 1.6K Oct 21 17:02 planets_new.npy\n",
            "-rw-r--r-- 1 root root 4.5K Oct 21 16:59 planets_new.txt\n",
            "-rw-r--r-- 1 root root  257 Oct 21 16:52 planets_small.txt\n",
            "-rw-r--r-- 1 root root 1.5K Oct 21 16:52 planets.txt\n",
            "drwxr-xr-x 1 root root 4.0K Oct 19 16:36 sample_data\n"
          ]
        }
      ],
      "source": [
        "!ls -lh"
      ]
    },
    {
      "cell_type": "code",
      "execution_count": null,
      "metadata": {
        "id": "dUmnFI_aOp0k"
      },
      "outputs": [],
      "source": [
        "arr1 = np.zeros((10000,10000))"
      ]
    },
    {
      "cell_type": "code",
      "execution_count": null,
      "metadata": {
        "id": "4zwxi1-9OwrX"
      },
      "outputs": [],
      "source": [
        "np.savez(\"zeros\",arr1)\n",
        "np.savez(\"zeros_compressed\",arr1)"
      ]
    },
    {
      "cell_type": "code",
      "execution_count": null,
      "metadata": {
        "colab": {
          "base_uri": "https://localhost:8080/"
        },
        "id": "tZTy4LzKPHPX",
        "outputId": "0f5ca451-bd99-46ac-88bf-c46483728260"
      },
      "outputs": [
        {
          "name": "stdout",
          "output_type": "stream",
          "text": [
            "total 1.5G\n",
            "-rw-r--r-- 1 root root  85K Oct 21 17:13 many_arrays_compressed.npz\n",
            "-rw-r--r-- 1 root root  90K Oct 21 17:09 many_arrays.npz\n",
            "-rw-r--r-- 1 root root 1.6K Oct 21 17:02 planets_new.npy\n",
            "-rw-r--r-- 1 root root 4.5K Oct 21 16:59 planets_new.txt\n",
            "-rw-r--r-- 1 root root  257 Oct 21 16:52 planets_small.txt\n",
            "-rw-r--r-- 1 root root 1.5K Oct 21 16:52 planets.txt\n",
            "drwxr-xr-x 1 root root 4.0K Oct 19 16:36 sample_data\n",
            "-rw-r--r-- 1 root root 763M Oct 21 17:16 zeros_compressed.npz\n",
            "-rw-r--r-- 1 root root 763M Oct 21 17:16 zeros.npz\n"
          ]
        }
      ],
      "source": [
        "!ls -lh"
      ]
    },
    {
      "cell_type": "markdown",
      "metadata": {
        "id": "2HAss_gKQSDx"
      },
      "source": [
        "#Stats with numpy"
      ]
    },
    {
      "cell_type": "code",
      "execution_count": null,
      "metadata": {
        "id": "AE4Q4rk8QWS7"
      },
      "outputs": [],
      "source": [
        "arr = np.random.rand(100000,)"
      ]
    },
    {
      "cell_type": "code",
      "execution_count": null,
      "metadata": {
        "colab": {
          "base_uri": "https://localhost:8080/"
        },
        "id": "AWU0En_zQhJu",
        "outputId": "713374a5-9eee-458a-e44d-944773d7092f"
      },
      "outputs": [
        {
          "data": {
            "text/plain": [
              "7.83073057342154e-06"
            ]
          },
          "execution_count": 36,
          "metadata": {},
          "output_type": "execute_result"
        }
      ],
      "source": [
        "np.amin(arr)"
      ]
    },
    {
      "cell_type": "code",
      "execution_count": null,
      "metadata": {
        "colab": {
          "base_uri": "https://localhost:8080/"
        },
        "id": "PQg68tSrQkp8",
        "outputId": "6eb4b12d-4541-441f-d0bd-f722e74117a8"
      },
      "outputs": [
        {
          "data": {
            "text/plain": [
              "0.999995644801203"
            ]
          },
          "execution_count": 37,
          "metadata": {},
          "output_type": "execute_result"
        }
      ],
      "source": [
        "np.amax(arr)"
      ]
    },
    {
      "cell_type": "code",
      "execution_count": null,
      "metadata": {
        "colab": {
          "base_uri": "https://localhost:8080/"
        },
        "id": "ay7TNR9aQo6o",
        "outputId": "f988eae9-1638-4100-9f7e-e36323e07027"
      },
      "outputs": [
        {
          "data": {
            "text/plain": [
              "0.499624964746868"
            ]
          },
          "execution_count": 38,
          "metadata": {},
          "output_type": "execute_result"
        }
      ],
      "source": [
        "np.mean(arr)"
      ]
    },
    {
      "cell_type": "code",
      "execution_count": null,
      "metadata": {
        "colab": {
          "base_uri": "https://localhost:8080/"
        },
        "id": "09vVv1GRQqt6",
        "outputId": "92252b82-4a8e-4ed9-e780-0c6e8d388371"
      },
      "outputs": [
        {
          "data": {
            "text/plain": [
              "0.08335016185130105"
            ]
          },
          "execution_count": 39,
          "metadata": {},
          "output_type": "execute_result"
        }
      ],
      "source": [
        "np.var(arr)"
      ]
    },
    {
      "cell_type": "code",
      "execution_count": null,
      "metadata": {
        "colab": {
          "base_uri": "https://localhost:8080/"
        },
        "id": "rjc3d-fgQsw5",
        "outputId": "977784be-a21b-4c54-b46c-f483627853f4"
      },
      "outputs": [
        {
          "data": {
            "text/plain": [
              "0.2887042809715524"
            ]
          },
          "execution_count": 40,
          "metadata": {},
          "output_type": "execute_result"
        }
      ],
      "source": [
        "np.std(arr)"
      ]
    },
    {
      "cell_type": "code",
      "execution_count": null,
      "metadata": {
        "colab": {
          "base_uri": "https://localhost:8080/"
        },
        "id": "H7ueLi9PQvvC",
        "outputId": "a21687eb-9609-49ab-ed86-78803ae0a007"
      },
      "outputs": [
        {
          "data": {
            "text/plain": [
              "0.5003531785441369"
            ]
          },
          "execution_count": 41,
          "metadata": {},
          "output_type": "execute_result"
        }
      ],
      "source": [
        "np.median(arr)"
      ]
    },
    {
      "cell_type": "code",
      "execution_count": null,
      "metadata": {
        "colab": {
          "base_uri": "https://localhost:8080/"
        },
        "id": "nps7u1BIQykO",
        "outputId": "76e8169a-b8be-41fb-dbf1-8ad57613eec8"
      },
      "outputs": [
        {
          "data": {
            "text/plain": [
              "0.5003531785441369"
            ]
          },
          "execution_count": 42,
          "metadata": {},
          "output_type": "execute_result"
        }
      ],
      "source": [
        "np.percentile(arr,50)"
      ]
    },
    {
      "cell_type": "code",
      "execution_count": null,
      "metadata": {
        "colab": {
          "base_uri": "https://localhost:8080/"
        },
        "id": "39sQVJa5Q524",
        "outputId": "46677cc5-a758-407a-8aca-4be70f4ec6c8"
      },
      "outputs": [
        {
          "data": {
            "text/plain": [
              "0.29883563131452506"
            ]
          },
          "execution_count": 43,
          "metadata": {},
          "output_type": "execute_result"
        }
      ],
      "source": [
        "np.percentile(arr,30)"
      ]
    },
    {
      "cell_type": "code",
      "execution_count": null,
      "metadata": {
        "colab": {
          "base_uri": "https://localhost:8080/"
        },
        "id": "V17xkCPsQ9ai",
        "outputId": "7a39bcfb-5d1c-4fc2-ffd4-85dc026501fa"
      },
      "outputs": [
        {
          "name": "stdout",
          "output_type": "stream",
          "text": [
            "0.4989796313341572\n"
          ]
        }
      ],
      "source": [
        "iqr = np.percentile(arr,75) - np.percentile(arr,25)\n",
        "print(iqr)"
      ]
    },
    {
      "cell_type": "code",
      "execution_count": null,
      "metadata": {
        "colab": {
          "base_uri": "https://localhost:8080/"
        },
        "id": "8u1c8RPrRTc4",
        "outputId": "16b4bbe8-fcc6-416c-cee5-29c3791b749a"
      },
      "outputs": [
        {
          "name": "stdout",
          "output_type": "stream",
          "text": [
            "[0.24936716 0.74834679]\n",
            "0.4989796313341572\n",
            "CPU times: user 6.47 ms, sys: 0 ns, total: 6.47 ms\n",
            "Wall time: 14.8 ms\n"
          ]
        }
      ],
      "source": [
        "%%time\n",
        "quartiles = np.percentile(arr,[25,75])\n",
        "print(quartiles)\n",
        "iqr = quartiles[1] - quartiles[0]\n",
        "print(iqr)"
      ]
    },
    {
      "cell_type": "code",
      "execution_count": null,
      "metadata": {
        "colab": {
          "base_uri": "https://localhost:8080/"
        },
        "id": "ABArv8fuRyqU",
        "outputId": "2a0443ce-d4cb-4a74-c11c-72e5d74dbda6"
      },
      "outputs": [
        {
          "name": "stdout",
          "output_type": "stream",
          "text": [
            "[-0.28472327 -0.61105565 -1.51748137 ...  1.094161    0.10572626\n",
            " -1.61705217]\n"
          ]
        }
      ],
      "source": [
        "z_scores = (arr - np.mean(arr))/np.std(arr)\n",
        "print(z_scores)"
      ]
    },
    {
      "cell_type": "code",
      "execution_count": null,
      "metadata": {
        "colab": {
          "base_uri": "https://localhost:8080/"
        },
        "id": "EYSadsj4SHS5",
        "outputId": "dc8783ff-083e-4ffb-9d87-dfbce65fd88f"
      },
      "outputs": [
        {
          "data": {
            "text/plain": [
              "(array([10093,  9944, 10081,  9881,  9965, 10101, 10076,  9900,  9901,\n",
              "        10058]),\n",
              " array([7.83073057e-06, 1.00006612e-01, 2.00005394e-01, 3.00004175e-01,\n",
              "        4.00002956e-01, 5.00001738e-01, 6.00000519e-01, 6.99999301e-01,\n",
              "        7.99998082e-01, 8.99996863e-01, 9.99995645e-01]))"
            ]
          },
          "execution_count": 49,
          "metadata": {},
          "output_type": "execute_result"
        }
      ],
      "source": [
        "np.histogram(arr)"
      ]
    },
    {
      "cell_type": "code",
      "execution_count": null,
      "metadata": {
        "colab": {
          "base_uri": "https://localhost:8080/"
        },
        "id": "Vp0zoTemSMVK",
        "outputId": "8d11395e-cf0a-4e4b-cf2b-2f5824982d04"
      },
      "outputs": [
        {
          "data": {
            "text/plain": [
              "(array([20037, 19962, 20066, 19976, 19959]),\n",
              " array([7.83073057e-06, 2.00005394e-01, 4.00002956e-01, 6.00000519e-01,\n",
              "        7.99998082e-01, 9.99995645e-01]))"
            ]
          },
          "execution_count": 51,
          "metadata": {},
          "output_type": "execute_result"
        }
      ],
      "source": [
        "np.histogram(arr,bins=5)"
      ]
    },
    {
      "cell_type": "code",
      "execution_count": null,
      "metadata": {
        "colab": {
          "base_uri": "https://localhost:8080/"
        },
        "id": "9fa-gIyTSaTg",
        "outputId": "3d88def9-e115-4b18-f3e2-1f6bea1af923"
      },
      "outputs": [
        {
          "data": {
            "text/plain": [
              "(array([25059, 24905, 25207, 24829]), array([0.  , 0.25, 0.5 , 0.75, 1.  ]))"
            ]
          },
          "execution_count": 53,
          "metadata": {},
          "output_type": "execute_result"
        }
      ],
      "source": [
        "np.histogram(arr,bins=[0,.25,.5,.75,1]) #num of points per bin\n"
      ]
    },
    {
      "cell_type": "code",
      "execution_count": null,
      "metadata": {
        "colab": {
          "base_uri": "https://localhost:8080/"
        },
        "id": "HYBvRqxuSk_G",
        "outputId": "5726f597-db40-492b-e2d4-2bfdb9768dc9"
      },
      "outputs": [
        {
          "data": {
            "text/plain": [
              "array([2, 2, 1, ..., 4, 3, 1])"
            ]
          },
          "execution_count": 54,
          "metadata": {},
          "output_type": "execute_result"
        }
      ],
      "source": [
        "bins = [0,0.25,0.5,0.75,1]\n",
        "np.digitize(arr,bins)  #tells corresponding bin that point belongs to"
      ]
    },
    {
      "cell_type": "code",
      "execution_count": null,
      "metadata": {
        "colab": {
          "base_uri": "https://localhost:8080/"
        },
        "id": "JrFULDkATF0i",
        "outputId": "9d59b76f-6da8-472a-b3c7-a969b6d2e1ea"
      },
      "outputs": [
        {
          "data": {
            "text/plain": [
              "array([8, 6, 7, 7, 1, 3, 9, 1, 4, 4])"
            ]
          },
          "execution_count": 59,
          "metadata": {},
          "output_type": "execute_result"
        }
      ],
      "source": [
        "arr1 = np.random.randint(0,10,(10))\n",
        "arr1"
      ]
    },
    {
      "cell_type": "code",
      "execution_count": null,
      "metadata": {
        "colab": {
          "base_uri": "https://localhost:8080/"
        },
        "id": "T8nK4AAwTYBq",
        "outputId": "8f8b6f23-9a7b-4724-9e7d-b1781df9f147"
      },
      "outputs": [
        {
          "data": {
            "text/plain": [
              "array([2, 2, 2, 2, 1, 1, 2, 1, 1, 1])"
            ]
          },
          "execution_count": 61,
          "metadata": {},
          "output_type": "execute_result"
        }
      ],
      "source": [
        "bins=[0,6,10]\n",
        "np.digitize(arr1,bins) #bydefault left is inclusive"
      ]
    },
    {
      "cell_type": "code",
      "execution_count": null,
      "metadata": {
        "colab": {
          "base_uri": "https://localhost:8080/"
        },
        "id": "VoFrrgvWTwGP",
        "outputId": "7a060729-7e8c-42d3-e4e3-1d62a083ceb7"
      },
      "outputs": [
        {
          "data": {
            "text/plain": [
              "array([2, 1, 2, 2, 1, 1, 2, 1, 1, 1])"
            ]
          },
          "execution_count": 62,
          "metadata": {},
          "output_type": "execute_result"
        }
      ],
      "source": [
        "np.digitize(arr1,bins,right=True) #right is inclusive"
      ]
    },
    {
      "cell_type": "code",
      "execution_count": null,
      "metadata": {
        "id": "fhbMAVq9T1dh"
      },
      "outputs": [],
      "source": [
        "arr1 = np.random.randint(50,80,100)   #weights\n",
        "arr2 = np.random.randint(150,185,100)  #heights\n",
        "arr3 = np.random.randint(12,22,100)    #age"
      ]
    },
    {
      "cell_type": "code",
      "execution_count": null,
      "metadata": {
        "colab": {
          "base_uri": "https://localhost:8080/"
        },
        "id": "NvEOwau5UmCv",
        "outputId": "588a823e-bd84-4040-c7a6-351ce436a945"
      },
      "outputs": [
        {
          "data": {
            "text/plain": [
              "(300,)"
            ]
          },
          "execution_count": 65,
          "metadata": {},
          "output_type": "execute_result"
        }
      ],
      "source": [
        "np.concatenate((arr1,arr2,arr3)).shape    #takes 1st arg as tuple (arrays to concatenate)"
      ]
    },
    {
      "cell_type": "code",
      "execution_count": null,
      "metadata": {
        "colab": {
          "base_uri": "https://localhost:8080/"
        },
        "id": "HbzQhgSYVIG5",
        "outputId": "612ebb30-1492-41db-9783-053b6cccfbe8"
      },
      "outputs": [
        {
          "data": {
            "text/plain": [
              "(3, 100)"
            ]
          },
          "execution_count": 66,
          "metadata": {},
          "output_type": "execute_result"
        }
      ],
      "source": [
        "np.vstack((arr1,arr2,arr3)).shape  #vertical stack"
      ]
    },
    {
      "cell_type": "code",
      "execution_count": null,
      "metadata": {
        "colab": {
          "base_uri": "https://localhost:8080/"
        },
        "id": "xV-CQ4jyVRLG",
        "outputId": "7881e5c1-c7fa-4504-8aa1-59bba1e94566"
      },
      "outputs": [
        {
          "data": {
            "text/plain": [
              "array([ 50, 150,  12])"
            ]
          },
          "execution_count": 68,
          "metadata": {},
          "output_type": "execute_result"
        }
      ],
      "source": [
        "arr2d = np.vstack((arr1,arr2,arr3))\n",
        "np.amin(arr2d,axis=1)  #min wt,ht,age"
      ]
    },
    {
      "cell_type": "code",
      "execution_count": null,
      "metadata": {
        "colab": {
          "base_uri": "https://localhost:8080/"
        },
        "id": "OtnEWZbFVYZ4",
        "outputId": "ef4afe10-3ddb-4a78-e4c4-1c4c6defd8b5"
      },
      "outputs": [
        {
          "data": {
            "text/plain": [
              "array([ 79, 184,  21])"
            ]
          },
          "execution_count": 69,
          "metadata": {},
          "output_type": "execute_result"
        }
      ],
      "source": [
        "np.amax(arr2d,axis=1)"
      ]
    },
    {
      "cell_type": "code",
      "execution_count": null,
      "metadata": {
        "id": "ln5ON136W7nV"
      },
      "outputs": [],
      "source": [
        "arr = np.random.rand(1000)"
      ]
    },
    {
      "cell_type": "code",
      "execution_count": null,
      "metadata": {
        "colab": {
          "base_uri": "https://localhost:8080/"
        },
        "id": "wWKaIB1-XC5w",
        "outputId": "afeabadb-33ca-482e-b0e4-7e09a4bd8cb7"
      },
      "outputs": [
        {
          "data": {
            "text/plain": [
              "array([  0.768858  ,   1.75333652,   2.48171077,   3.3791284 ,\n",
              "         3.6729875 ,   4.52003299,   4.73628165,   5.67928661,\n",
              "         6.62716681,   6.69184611,   7.11284445,   7.50234299,\n",
              "         8.27689144,   8.50537559,   9.07576986,   9.40629636,\n",
              "        10.22871152,  10.98955596,  11.49274474,  12.26047646,\n",
              "        12.37895795,  12.77593607,  12.80828195,  13.59201054,\n",
              "        13.88791247,  14.41088058,  14.87347036,  15.29645907,\n",
              "        15.5560139 ,  15.5816645 ,  15.90370949,  16.84423329,\n",
              "        17.23300982,  17.60141896,  18.51408976,  19.00688721,\n",
              "        19.26924845,  19.41205584,  19.98207676,  19.99275542,\n",
              "        20.03036293,  20.52482588,  20.59485104,  20.74636197,\n",
              "        21.03064654,  21.7674308 ,  22.07611629,  22.41264331,\n",
              "        23.29286435,  23.68440798,  24.63469911,  25.48868381,\n",
              "        26.19732573,  27.06978467,  27.37835621,  27.41089293,\n",
              "        27.59418287,  27.88044302,  28.85902911,  29.58560089,\n",
              "        29.76042432,  30.12585011,  30.90688855,  30.96333765,\n",
              "        31.83050131,  31.88504562,  32.26720656,  33.03936857,\n",
              "        33.813695  ,  33.94354853,  33.98654351,  34.05254473,\n",
              "        35.01903328,  35.70113264,  36.67711422,  37.09535718,\n",
              "        37.35567534,  37.36269199,  37.58828609,  38.47058908,\n",
              "        39.15160956,  39.24974437,  39.53130111,  39.9589544 ,\n",
              "        40.18006031,  40.94299234,  41.72817474,  42.19159186,\n",
              "        42.98989663,  43.81802694,  43.94213557,  44.92638988,\n",
              "        45.62412663,  46.48099403,  47.13213896,  47.67393861,\n",
              "        48.25851346,  49.1111105 ,  49.48338027,  49.65990048,\n",
              "        50.02279872,  50.3392172 ,  50.76101936,  51.14035793,\n",
              "        51.50543052,  51.91973865,  52.17695109,  52.44593538,\n",
              "        52.90572665,  53.556943  ,  53.58139401,  53.60971462,\n",
              "        54.20041141,  54.71136724,  54.85256581,  54.92180362,\n",
              "        55.63592048,  55.80899971,  56.67387117,  57.02851307,\n",
              "        57.8328478 ,  58.75251152,  58.86832552,  59.86581783,\n",
              "        60.25948257,  61.10571398,  62.0051152 ,  62.72601034,\n",
              "        63.34976641,  63.58986767,  64.39540772,  64.96386325,\n",
              "        64.96911481,  64.9818875 ,  65.71565496,  66.55470399,\n",
              "        67.04715173,  67.84907498,  68.70699626,  69.65030509,\n",
              "        69.98669666,  70.51812441,  71.24386816,  72.00643288,\n",
              "        72.2485302 ,  72.31052375,  72.69820718,  72.87200828,\n",
              "        73.76683292,  73.86703734,  74.06916719,  74.63152247,\n",
              "        75.29925528,  75.85071254,  76.78420043,  77.26878036,\n",
              "        77.55502405,  77.69455996,  78.28203275,  79.16647001,\n",
              "        80.05107165,  80.23723167,  80.29553643,  80.70969317,\n",
              "        81.17555444,  82.071407  ,  82.304109  ,  82.62295448,\n",
              "        83.3599669 ,  83.46475328,  83.59821125,  84.2318069 ,\n",
              "        85.20280089,  85.88721856,  85.98371251,  86.23533966,\n",
              "        86.94982436,  87.13262778,  87.2583113 ,  87.49840083,\n",
              "        88.35420685,  89.2494508 ,  89.46973324,  89.92617913,\n",
              "        90.53186668,  91.41743939,  91.84467432,  92.8445104 ,\n",
              "        93.01005577,  93.28517102,  93.85533662,  93.99520525,\n",
              "        94.66309216,  95.52376623,  95.93127981,  96.38253118,\n",
              "        96.85859065,  97.34615098,  97.3571293 ,  98.03382938,\n",
              "        98.96558686,  99.2661322 ,  99.95811275,  99.96008183,\n",
              "       100.19510174, 101.16774363, 101.53170332, 101.70997806,\n",
              "       101.98814248, 102.07047579, 102.90440493, 103.73067381,\n",
              "       104.46542833, 104.94220927, 105.7711493 , 105.82114672,\n",
              "       106.54165458, 106.88599846, 107.56814049, 107.83850258,\n",
              "       108.35837448, 108.96726748, 109.15546235, 110.12229032,\n",
              "       110.67289555, 110.70597278, 111.29686858, 111.99158021,\n",
              "       112.8068734 , 113.40663811, 113.9998145 , 114.88260159,\n",
              "       114.99722553, 115.19901346, 115.45859814, 116.164803  ,\n",
              "       116.64014514, 116.74486846, 116.76370147, 117.7456137 ,\n",
              "       118.09272435, 118.57717596, 118.91683434, 119.01350111,\n",
              "       119.47412656, 119.65207327, 120.18806596, 120.55927211,\n",
              "       120.88532338, 121.23694856, 121.64413316, 121.84604599,\n",
              "       122.59105265, 123.02485754, 123.73387495, 123.8220486 ,\n",
              "       124.71176167, 125.15270855, 125.83438633, 126.15596528,\n",
              "       126.70108048, 127.60255352, 128.32309361, 128.96011165,\n",
              "       129.39104779, 129.7936981 , 130.19428737, 131.14186417,\n",
              "       131.31974366, 132.31100254, 132.4232555 , 133.33058003,\n",
              "       133.99173305, 134.77565852, 134.82160955, 135.56856179,\n",
              "       136.18826091, 136.35367098, 137.3198355 , 137.82773979,\n",
              "       138.82566413, 139.49948822, 139.98960629, 140.65088387,\n",
              "       140.93215853, 141.15343198, 141.88369068, 142.46883312,\n",
              "       142.7237627 , 143.22326339, 143.63051106, 144.41004081,\n",
              "       145.38223649, 146.29631326, 146.89187562, 147.47507111,\n",
              "       148.28349424, 148.97232459, 149.45110935, 149.64693246,\n",
              "       150.04223674, 150.79239455, 150.9658902 , 151.02699806,\n",
              "       151.8919688 , 152.21932519, 152.9455509 , 153.10933627,\n",
              "       153.89594165, 154.63544518, 155.39818314, 155.42533041,\n",
              "       156.05600358, 156.26311452, 156.70561636, 156.89184464,\n",
              "       156.97723956, 157.22637577, 157.48991044, 158.27856024,\n",
              "       158.93142049, 159.10432715, 159.85722073, 160.79981998,\n",
              "       161.65478865, 162.23486026, 162.67653586, 163.56428135,\n",
              "       164.39403307, 164.71924535, 164.92445138, 165.03048211,\n",
              "       165.21450431, 165.3242873 , 165.34079096, 165.49042589,\n",
              "       165.73888342, 166.34978387, 166.3504087 , 166.7927249 ,\n",
              "       167.59438354, 168.17076724, 169.1649273 , 170.08221887,\n",
              "       170.73512492, 171.5204654 , 171.73879069, 172.24817564,\n",
              "       173.11003668, 173.74995233, 174.33408263, 175.117449  ,\n",
              "       175.35188318, 175.61964427, 175.69660408, 176.68423652,\n",
              "       177.48669955, 178.24121253, 178.61515264, 178.985671  ,\n",
              "       179.89945977, 180.05964701, 180.1798218 , 180.44397268,\n",
              "       180.74242346, 181.32769295, 181.46587249, 181.91117796,\n",
              "       182.72678665, 182.97753244, 183.3692821 , 183.46944867,\n",
              "       183.69756845, 184.39630449, 184.54201738, 185.23821133,\n",
              "       185.82323453, 186.33192375, 187.14341477, 187.87672667,\n",
              "       188.30911592, 188.97844355, 189.52764032, 190.45649749,\n",
              "       190.84602245, 191.20785772, 191.66977442, 192.27209672,\n",
              "       193.02790182, 193.72536204, 194.25680481, 194.79175758,\n",
              "       195.60084385, 195.93862698, 195.99237167, 196.54835776,\n",
              "       197.49714519, 197.67642619, 197.88643025, 197.98418846,\n",
              "       198.24802082, 198.3178654 , 198.46338461, 199.39112524,\n",
              "       199.72163155, 200.33087704, 200.41168358, 200.97590623,\n",
              "       201.29061887, 202.08817994, 202.13848792, 202.45383277,\n",
              "       202.54600682, 202.74032832, 202.96845715, 203.95263015,\n",
              "       204.51274533, 204.9932781 , 205.27119596, 205.97877451,\n",
              "       206.10979097, 206.74432958, 207.52200857, 207.71404611,\n",
              "       207.89994176, 208.629814  , 208.74476216, 209.70046913,\n",
              "       210.04109736, 210.41305818, 211.02344916, 211.18412573,\n",
              "       211.79421676, 212.72880775, 213.43236945, 214.19235786,\n",
              "       214.95003846, 215.35748107, 215.9722488 , 216.24689698,\n",
              "       217.00894636, 217.74364179, 218.33883185, 218.76442828,\n",
              "       219.512182  , 219.73674649, 220.51615063, 221.09821639,\n",
              "       221.91155063, 222.67358408, 223.39940122, 223.94087084,\n",
              "       224.2320924 , 224.66116174, 225.37842468, 226.00500409,\n",
              "       226.02472344, 226.0667488 , 226.21795246, 227.07132059,\n",
              "       227.20441198, 227.99803775, 228.18249422, 228.35659688,\n",
              "       228.78846476, 229.39801119, 229.57826852, 229.82331173,\n",
              "       230.73315444, 230.81516708, 231.25076193, 231.61576851,\n",
              "       231.8318687 , 232.08544572, 232.23379881, 232.91124105,\n",
              "       233.36945587, 234.07278293, 234.94515512, 235.47525428,\n",
              "       235.53969829, 235.54985057, 236.15363691, 237.04116896,\n",
              "       237.80451428, 238.58750366, 238.75664912, 238.98652132,\n",
              "       239.88528711, 240.81202799, 241.78712506, 242.22262981,\n",
              "       242.88596348, 243.15860236, 243.817635  , 244.53067285,\n",
              "       245.43485566, 246.17741319, 247.07673606, 247.16123273,\n",
              "       248.13755652, 249.13618929, 249.51544111, 249.58914422,\n",
              "       250.46802916, 251.4146186 , 252.17662462, 252.66747132,\n",
              "       253.60689846, 254.50304379, 254.72140569, 255.47567736,\n",
              "       256.43522177, 256.57947865, 257.39959066, 258.02008237,\n",
              "       258.91150852, 259.25431098, 259.50875755, 260.46150502,\n",
              "       260.87160897, 261.82523672, 262.45753366, 263.29980202,\n",
              "       263.47697271, 264.11789995, 264.85343249, 265.04958459,\n",
              "       265.86521493, 266.24176387, 267.07572205, 267.54354504,\n",
              "       268.08268907, 268.45165409, 269.14439464, 269.86427402,\n",
              "       269.94507845, 270.43932291, 271.4359387 , 271.59553538,\n",
              "       271.766376  , 272.63089957, 272.72779743, 273.62080933,\n",
              "       273.97183738, 273.97801722, 274.1829716 , 274.91595537,\n",
              "       275.69778631, 276.06351094, 276.6629627 , 276.77309903,\n",
              "       276.86014793, 277.16186035, 277.63907821, 277.6483698 ,\n",
              "       277.70613039, 278.61757087, 279.33728614, 279.95833024,\n",
              "       280.84056836, 280.84890368, 281.82217647, 282.23451971,\n",
              "       282.76003395, 283.00996275, 283.44810162, 284.1884469 ,\n",
              "       284.74031865, 284.74784838, 285.63106079, 285.84206876,\n",
              "       286.79906215, 287.20896946, 287.38340176, 288.3237632 ,\n",
              "       288.70180651, 289.01173534, 289.93677667, 290.79639766,\n",
              "       291.63137194, 292.60072836, 293.09947054, 294.04156295,\n",
              "       294.72423008, 294.87367513, 294.9947751 , 295.64074631,\n",
              "       295.96838795, 296.29113949, 296.77411546, 297.73451619,\n",
              "       298.25568018, 298.40089605, 298.8730626 , 299.60956535,\n",
              "       300.44561029, 300.79511162, 301.03840768, 301.04998361,\n",
              "       301.82129289, 302.65614459, 303.60794794, 304.21293412,\n",
              "       304.26180099, 304.89386796, 305.79438547, 306.58879976,\n",
              "       306.67244438, 306.80985838, 306.86802483, 306.91694871,\n",
              "       307.03924648, 307.04344806, 308.02685214, 308.44381527,\n",
              "       309.17197043, 309.2281676 , 310.04384476, 310.41970952,\n",
              "       310.84258786, 311.10885041, 311.34342508, 311.78388035,\n",
              "       311.91480771, 312.21707957, 313.02118776, 313.04778175,\n",
              "       313.4375207 , 313.94378242, 314.62574407, 315.1124081 ,\n",
              "       315.66264605, 316.23145838, 316.47056864, 316.63287991,\n",
              "       317.18540623, 317.55123876, 318.31148191, 318.67437536,\n",
              "       319.16314859, 319.93982443, 320.59076986, 321.25057674,\n",
              "       322.24895708, 322.2719829 , 322.69069545, 322.89921539,\n",
              "       323.13717913, 324.12489095, 324.79878851, 325.24703912,\n",
              "       326.20961257, 327.09139386, 327.99706602, 328.34902144,\n",
              "       329.07543106, 329.61139816, 330.31817066, 330.7609935 ,\n",
              "       331.27625236, 331.28600794, 331.6089643 , 332.39525712,\n",
              "       332.5276292 , 332.71886478, 333.13206616, 333.24066265,\n",
              "       333.27444733, 334.04797928, 334.25522562, 335.15145224,\n",
              "       336.10258482, 337.07135539, 337.2652956 , 338.00680832,\n",
              "       338.39244738, 339.35708552, 340.00526036, 340.41180713,\n",
              "       341.33804394, 341.84097674, 342.52279171, 343.17839594,\n",
              "       343.52619378, 344.30186253, 344.32596743, 344.81425313,\n",
              "       345.23373791, 346.11635095, 346.55884044, 346.82150894,\n",
              "       347.0489839 , 347.88624176, 348.17578105, 349.04863423,\n",
              "       349.48218224, 349.84235139, 350.3131023 , 350.56538043,\n",
              "       350.62103725, 351.16442162, 351.63841365, 352.45473814,\n",
              "       352.71844197, 353.03733002, 353.95226438, 354.01319586,\n",
              "       354.49276654, 354.67716752, 355.64408914, 356.20399374,\n",
              "       356.58990765, 357.14085793, 357.36168653, 357.84116367,\n",
              "       358.38296581, 359.31426285, 359.48603327, 359.67194529,\n",
              "       360.2186356 , 360.40615779, 361.37042065, 362.20972242,\n",
              "       362.41932073, 362.73294507, 363.60013926, 364.29843111,\n",
              "       364.39886123, 364.45224439, 364.56524295, 365.43824706,\n",
              "       365.93754972, 366.52096641, 367.29566296, 367.42890337,\n",
              "       367.98692129, 368.28582407, 368.88845246, 369.72710066,\n",
              "       370.67672866, 371.11105392, 371.65729509, 371.90406567,\n",
              "       372.00911727, 372.15135608, 372.97889642, 373.59040995,\n",
              "       374.30443072, 374.43878883, 374.43933671, 375.17893661,\n",
              "       375.69417022, 375.75526449, 376.32881452, 376.91978349,\n",
              "       377.68846689, 377.78604264, 378.38843984, 378.84712481,\n",
              "       379.06710354, 380.05499329, 380.65791242, 381.59894499,\n",
              "       382.0068608 , 382.4508693 , 382.73085298, 382.84530825,\n",
              "       383.72958578, 384.49193686, 384.59088285, 385.03658745,\n",
              "       385.46350837, 386.30580794, 386.98258727, 387.88305397,\n",
              "       388.77464418, 389.4118001 , 390.00005318, 390.91248148,\n",
              "       391.33387563, 392.19477483, 392.40277863, 393.05132845,\n",
              "       393.08052625, 393.19558119, 393.71947076, 394.30806177,\n",
              "       395.10497878, 395.29132026, 396.06807371, 397.02636725,\n",
              "       397.07420393, 397.70091505, 398.28260101, 398.76776217,\n",
              "       399.19797733, 399.95513789, 400.26008416, 400.85612396,\n",
              "       401.43870139, 401.44415601, 401.85277263, 402.25229616,\n",
              "       402.40600974, 402.74167613, 403.05793535, 403.13230206,\n",
              "       403.77218497, 403.97244985, 404.03718204, 405.01597741,\n",
              "       405.05288805, 405.11252934, 405.37768769, 406.05459592,\n",
              "       406.25457555, 406.81410395, 407.52993602, 407.7481847 ,\n",
              "       408.05546999, 408.84492298, 409.51365849, 410.2219399 ,\n",
              "       411.16050413, 411.87696894, 412.83574098, 413.32053886,\n",
              "       413.95735359, 414.91656265, 415.45493245, 416.21021362,\n",
              "       416.43857191, 417.34298046, 418.31082118, 418.63501344,\n",
              "       419.01874553, 419.46252404, 420.12707509, 420.14037608,\n",
              "       420.14704326, 420.23894785, 420.60200114, 420.6987847 ,\n",
              "       421.53764054, 422.37702292, 423.09298067, 423.30617395,\n",
              "       424.30154321, 425.22201832, 425.73742056, 425.99425933,\n",
              "       426.0101317 , 426.95162204, 427.93620649, 428.57205743,\n",
              "       428.66116828, 429.27229146, 429.53185087, 429.68396985,\n",
              "       429.80217012, 430.43743   , 430.9506582 , 431.07316576,\n",
              "       431.16884458, 431.2832025 , 431.79881449, 432.34058418,\n",
              "       433.01244852, 433.77294466, 434.77219102, 434.93130148,\n",
              "       435.69156571, 435.7608137 , 436.2325189 , 436.40082878,\n",
              "       436.56887245, 437.44129785, 438.3543581 , 438.59963965,\n",
              "       439.44418456, 440.37568251, 441.24482019, 442.09045986,\n",
              "       442.49110951, 443.34241774, 443.4167568 , 443.95540584,\n",
              "       444.62412106, 445.56634596, 445.7909479 , 446.21284622,\n",
              "       447.20503232, 447.83918865, 448.77225003, 449.37024877,\n",
              "       449.44739789, 450.33281455, 450.58861163, 450.89527087,\n",
              "       451.32813592, 452.06452568, 452.11770989, 452.62073078,\n",
              "       453.40241772, 453.82776013, 454.58883925, 455.37193174,\n",
              "       455.58371768, 455.76877318, 455.82514196, 456.61384413,\n",
              "       456.81162583, 457.37139207, 457.54006732, 458.10252997,\n",
              "       458.55473929, 459.51979191, 459.6927796 , 460.15145758,\n",
              "       460.4933298 , 461.44836851, 462.25024082, 462.52119106,\n",
              "       463.45927665, 463.66730265, 464.55195134, 465.52684072,\n",
              "       466.35320379, 466.82747259, 467.12759353, 467.29192996,\n",
              "       467.81144239, 468.27595637, 468.8226347 , 469.00360945,\n",
              "       469.49630812, 470.15187222, 470.8771963 , 470.98741438,\n",
              "       471.49005834, 472.44833703, 472.95285113, 472.95524308,\n",
              "       473.62756948, 474.6157624 , 474.93452952, 475.62408411,\n",
              "       476.29976525, 476.63252768, 476.95542078, 477.89094038,\n",
              "       478.81911115, 479.38609229, 479.55885681, 479.75556267,\n",
              "       480.15005063, 480.38559694, 480.99324605, 481.44585111,\n",
              "       481.72921624, 482.61137461, 483.51841176, 483.77401272,\n",
              "       483.80502339, 484.27338309, 485.05187223, 485.11590346,\n",
              "       485.3246579 , 485.63891675, 486.45014146, 486.6423462 ,\n",
              "       487.52107825, 487.75958024, 488.16571929, 489.12515734,\n",
              "       489.75270984, 490.27052801, 491.0147062 , 491.472228  ,\n",
              "       491.84441943, 492.24213042, 492.35386863, 492.35920945,\n",
              "       493.19025297, 493.86688624, 494.24638267, 494.60908817,\n",
              "       494.61294064, 494.86106975, 495.59156463, 495.60956346,\n",
              "       495.64353706, 495.66400948, 496.1872736 , 496.78997776,\n",
              "       496.83448192, 496.95376063, 497.33072265, 498.00771399])"
            ]
          },
          "execution_count": 71,
          "metadata": {},
          "output_type": "execute_result"
        }
      ],
      "source": [
        "np.cumsum(arr)  #returns sum of previous elements till that"
      ]
    },
    {
      "cell_type": "markdown",
      "metadata": {
        "id": "9evbfeU3llOR"
      },
      "source": [
        "#case study problem"
      ]
    },
    {
      "cell_type": "code",
      "execution_count": null,
      "metadata": {
        "colab": {
          "base_uri": "https://localhost:8080/"
        },
        "id": "jEAwYX1VlplX",
        "outputId": "90fa42c1-9a82-4047-f33d-5bc798042313"
      },
      "outputs": [
        {
          "output_type": "stream",
          "name": "stdout",
          "text": [
            "\tSachin Tendulkar\tRahul Dravid\tIndia\n",
            "0\t100\t78\t342\n",
            "1\t11\t62\t191\n",
            "2\t8\t85\t252\n",
            "3\t71\t24\t307\n",
            "4\t104\t17\t229\n",
            "5\t18\t104\t246\n",
            "6\t8\t76\t226\n",
            "7\t86\t74\t288\n",
            "8\t12\t60\t216\n"
          ]
        }
      ],
      "source": [
        "!head cric_data-200320-181217.tsv"
      ]
    },
    {
      "cell_type": "code",
      "execution_count": null,
      "metadata": {
        "id": "rBSXUAM6mUbh"
      },
      "outputs": [],
      "source": [
        "cric_data = np.loadtxt(\"/content/cric_data-200320-181217.tsv\",skiprows=1)"
      ]
    },
    {
      "cell_type": "code",
      "execution_count": null,
      "metadata": {
        "colab": {
          "base_uri": "https://localhost:8080/"
        },
        "id": "bKsTfoe4on1N",
        "outputId": "e8ff869a-bf6a-4023-f0d7-3eeebcf85fc2"
      },
      "outputs": [
        {
          "output_type": "execute_result",
          "data": {
            "text/plain": [
              "(225, 4)"
            ]
          },
          "metadata": {},
          "execution_count": 8
        }
      ],
      "source": [
        "cric_data.shape"
      ]
    },
    {
      "cell_type": "code",
      "execution_count": null,
      "metadata": {
        "id": "Mnvy5uOQouC6"
      },
      "outputs": [],
      "source": [
        "cric_data = cric_data[:,[1,2,3]]"
      ]
    },
    {
      "cell_type": "code",
      "source": [
        "cric_data.shape"
      ],
      "metadata": {
        "colab": {
          "base_uri": "https://localhost:8080/"
        },
        "id": "PnEAgep6fUmV",
        "outputId": "4a35d79e-af1a-4ca6-87bc-d96d6bf7304c"
      },
      "execution_count": null,
      "outputs": [
        {
          "output_type": "execute_result",
          "data": {
            "text/plain": [
              "(225, 3)"
            ]
          },
          "metadata": {},
          "execution_count": 13
        }
      ]
    },
    {
      "cell_type": "code",
      "source": [
        "sachin = cric_data[:,0]\n",
        "rahul  = cric_data[:,1]\n",
        "india = cric_data[:,2]"
      ],
      "metadata": {
        "id": "9fCYnnyNfoDJ"
      },
      "execution_count": null,
      "outputs": []
    },
    {
      "cell_type": "code",
      "source": [
        "def stats(col):\n",
        "  print(\"mean :\",np.mean(col))\n",
        "  print(\"median:\",np.median(col))\n",
        "  print(\"iqr:\",np.percentile(col,75)-np.percentile(col,25))"
      ],
      "metadata": {
        "id": "-5x-1WZzf2uZ"
      },
      "execution_count": null,
      "outputs": []
    },
    {
      "cell_type": "code",
      "source": [
        "stats(sachin)"
      ],
      "metadata": {
        "colab": {
          "base_uri": "https://localhost:8080/"
        },
        "id": "clDYhHalg0oO",
        "outputId": "7d1e4fb9-78f7-4d25-987e-393cceab7146"
      },
      "execution_count": null,
      "outputs": [
        {
          "output_type": "stream",
          "name": "stdout",
          "text": [
            "mean : 39.87555555555556\n",
            "median: 27.0\n",
            "iqr: 57.0\n"
          ]
        }
      ]
    },
    {
      "cell_type": "code",
      "source": [
        "stats(india)"
      ],
      "metadata": {
        "colab": {
          "base_uri": "https://localhost:8080/"
        },
        "id": "ybxHVRzlg4uL",
        "outputId": "382dae1b-5928-401e-91c3-5cd7e6c93a04"
      },
      "execution_count": null,
      "outputs": [
        {
          "output_type": "stream",
          "name": "stdout",
          "text": [
            "mean : 220.79555555555555\n",
            "median: 216.0\n",
            "iqr: 98.0\n"
          ]
        }
      ]
    },
    {
      "cell_type": "code",
      "source": [
        "np.mean(cric_data,axis = 0)"
      ],
      "metadata": {
        "colab": {
          "base_uri": "https://localhost:8080/"
        },
        "id": "1aX6y1CchLcZ",
        "outputId": "3ca12f9a-e3b8-47c0-acd3-a7ffe3e63123"
      },
      "execution_count": null,
      "outputs": [
        {
          "output_type": "execute_result",
          "data": {
            "text/plain": [
              "array([ 39.87555556,  32.06222222, 220.79555556])"
            ]
          },
          "metadata": {},
          "execution_count": 18
        }
      ]
    },
    {
      "cell_type": "code",
      "source": [
        "np.median(cric_data,axis = 0)"
      ],
      "metadata": {
        "colab": {
          "base_uri": "https://localhost:8080/"
        },
        "id": "twfU3EhrhZuE",
        "outputId": "530a6bc6-0dc6-4dd9-d547-8d88f56b3693"
      },
      "execution_count": null,
      "outputs": [
        {
          "output_type": "execute_result",
          "data": {
            "text/plain": [
              "array([ 27.,  22., 216.])"
            ]
          },
          "metadata": {},
          "execution_count": 19
        }
      ]
    },
    {
      "cell_type": "code",
      "source": [
        "np.percentile(cric_data,75,axis=0) - np.percentile(cric_data,25,axis=0)"
      ],
      "metadata": {
        "colab": {
          "base_uri": "https://localhost:8080/"
        },
        "id": "cQH4dofphf3x",
        "outputId": "3adb806d-7159-4577-b328-1e9595f65900"
      },
      "execution_count": null,
      "outputs": [
        {
          "output_type": "execute_result",
          "data": {
            "text/plain": [
              "array([57., 46., 98.])"
            ]
          },
          "metadata": {},
          "execution_count": 21
        }
      ]
    },
    {
      "cell_type": "code",
      "source": [
        "np.histogram(sachin)"
      ],
      "metadata": {
        "colab": {
          "base_uri": "https://localhost:8080/"
        },
        "id": "GDt3sTB6iCFV",
        "outputId": "d387c08c-cb3b-428e-fd2f-3e5729e1b423"
      },
      "execution_count": null,
      "outputs": [
        {
          "output_type": "execute_result",
          "data": {
            "text/plain": [
              "(array([99, 36, 28, 16, 11, 17,  8,  8,  1,  1]),\n",
              " array([  0. ,  18.6,  37.2,  55.8,  74.4,  93. , 111.6, 130.2, 148.8,\n",
              "        167.4, 186. ]))"
            ]
          },
          "metadata": {},
          "execution_count": 23
        }
      ]
    },
    {
      "cell_type": "code",
      "source": [
        "sachin.shape"
      ],
      "metadata": {
        "colab": {
          "base_uri": "https://localhost:8080/"
        },
        "id": "EbcKKeQKiLA1",
        "outputId": "c760b278-90f3-4aa7-9b5c-c3a2875fae2f"
      },
      "execution_count": null,
      "outputs": [
        {
          "output_type": "execute_result",
          "data": {
            "text/plain": [
              "(225,)"
            ]
          },
          "metadata": {},
          "execution_count": 24
        }
      ]
    },
    {
      "cell_type": "code",
      "source": [
        "sachin_by_25s = sachin.reshape((9,25))"
      ],
      "metadata": {
        "id": "CqUnALXuikCI"
      },
      "execution_count": null,
      "outputs": []
    },
    {
      "cell_type": "code",
      "source": [
        "np.mean(sachin_by_25s,axis=1)"
      ],
      "metadata": {
        "colab": {
          "base_uri": "https://localhost:8080/"
        },
        "id": "t5XfoRbei7Yl",
        "outputId": "0a5a7ffb-ee6b-49d6-8c9b-0971813bbbd9"
      },
      "execution_count": null,
      "outputs": [
        {
          "output_type": "execute_result",
          "data": {
            "text/plain": [
              "array([33.96, 49.4 , 38.48, 40.16, 39.36, 38.2 , 44.6 , 39.52, 35.2 ])"
            ]
          },
          "metadata": {},
          "execution_count": 27
        }
      ]
    },
    {
      "cell_type": "code",
      "source": [
        "np.mean(sachin[sachin>=100])"
      ],
      "metadata": {
        "colab": {
          "base_uri": "https://localhost:8080/"
        },
        "id": "ZBd1f1cvjYKJ",
        "outputId": "c16fd9b3-eedb-4888-df39-57f611fff4ae"
      },
      "execution_count": null,
      "outputs": [
        {
          "output_type": "execute_result",
          "data": {
            "text/plain": [
              "125.0"
            ]
          },
          "metadata": {},
          "execution_count": 29
        }
      ]
    },
    {
      "cell_type": "code",
      "source": [
        "np.mean(sachin[rahul<=10])"
      ],
      "metadata": {
        "colab": {
          "base_uri": "https://localhost:8080/"
        },
        "id": "rxnEy1E4joXq",
        "outputId": "01db0598-eb0b-459c-8ba9-0821d69e6f78"
      },
      "execution_count": null,
      "outputs": [
        {
          "output_type": "execute_result",
          "data": {
            "text/plain": [
              "40.2112676056338"
            ]
          },
          "metadata": {},
          "execution_count": 31
        }
      ]
    },
    {
      "cell_type": "code",
      "source": [],
      "metadata": {
        "id": "h-LRPwOjjyTJ"
      },
      "execution_count": null,
      "outputs": []
    }
  ],
  "metadata": {
    "colab": {
      "provenance": [],
      "authorship_tag": "ABX9TyOBv7T/671/F5WTa55lSGEs",
      "include_colab_link": true
    },
    "kernelspec": {
      "display_name": "Python 3",
      "name": "python3"
    },
    "language_info": {
      "name": "python"
    }
  },
  "nbformat": 4,
  "nbformat_minor": 0
}