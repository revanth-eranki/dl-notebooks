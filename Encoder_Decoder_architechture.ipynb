{
  "nbformat": 4,
  "nbformat_minor": 0,
  "metadata": {
    "colab": {
      "provenance": [],
      "gpuType": "T4",
      "authorship_tag": "ABX9TyNO8BQsq83Xi6r2059aJBe4",
      "include_colab_link": true
    },
    "kernelspec": {
      "name": "python3",
      "display_name": "Python 3"
    },
    "language_info": {
      "name": "python"
    },
    "accelerator": "GPU"
  },
  "cells": [
    {
      "cell_type": "markdown",
      "metadata": {
        "id": "view-in-github",
        "colab_type": "text"
      },
      "source": [
        "<a href=\"https://colab.research.google.com/github/revanth-eranki/dl-notebooks/blob/main/Encoder_Decoder_architechture.ipynb\" target=\"_parent\"><img src=\"https://colab.research.google.com/assets/colab-badge.svg\" alt=\"Open In Colab\"/></a>"
      ]
    },
    {
      "cell_type": "code",
      "execution_count": null,
      "metadata": {
        "id": "281H74YEKX5_"
      },
      "outputs": [],
      "source": [
        "import torch\n",
        "import torch.nn as nn\n",
        "import torch.optim as optim\n",
        "from torch.autograd import Variable\n",
        "import torch.nn.functional as F\n",
        "import numpy as np\n",
        "\n",
        "device_gpu = torch.device(\"cuda:0\" if torch.cuda.is_available() else \"cpu\")\n",
        "\n",
        "import matplotlib.pyplot as plt\n",
        "import seaborn as sns\n",
        "from IPython.display import clear_output\n",
        "import random"
      ]
    },
    {
      "cell_type": "code",
      "source": [
        "print(device_gpu)\n",
        "print(torch.cuda.device_count())\n",
        "print(torch.cuda.get_device_name())"
      ],
      "metadata": {
        "colab": {
          "base_uri": "https://localhost:8080/"
        },
        "id": "9BnJt49IT1QT",
        "outputId": "edd3693b-b50b-4760-bc31-39a59cf1f30c"
      },
      "execution_count": null,
      "outputs": [
        {
          "output_type": "stream",
          "name": "stdout",
          "text": [
            "cuda:0\n",
            "1\n",
            "Tesla T4\n"
          ]
        }
      ]
    },
    {
      "cell_type": "markdown",
      "source": [
        "#Data Management\n",
        "\n",
        "\n"
      ],
      "metadata": {
        "id": "acYkmt3XLx_f"
      }
    },
    {
      "cell_type": "markdown",
      "source": [
        "#Alphabets Setup"
      ],
      "metadata": {
        "id": "AF2O14blL4tg"
      }
    },
    {
      "cell_type": "code",
      "source": [
        "eng_alphabets = 'ABCDEFGHIJKLMNOPQRSTUVWXYZ'\n",
        "pad_char = '-PAD-'\n",
        "\n",
        "eng_alpha2index = {pad_char: 0}\n",
        "for index,alpha in enumerate(eng_alphabets):  # index start from 0\n",
        "  eng_alpha2index[alpha] = index + 1\n",
        "\n",
        "\n",
        "print(eng_alpha2index)"
      ],
      "metadata": {
        "colab": {
          "base_uri": "https://localhost:8080/"
        },
        "id": "792Rd3iHL79l",
        "outputId": "b5f6eec2-cd58-4c24-a723-5183b58877ca"
      },
      "execution_count": null,
      "outputs": [
        {
          "output_type": "stream",
          "name": "stdout",
          "text": [
            "{'-PAD-': 0, 'A': 1, 'B': 2, 'C': 3, 'D': 4, 'E': 5, 'F': 6, 'G': 7, 'H': 8, 'I': 9, 'J': 10, 'K': 11, 'L': 12, 'M': 13, 'N': 14, 'O': 15, 'P': 16, 'Q': 17, 'R': 18, 'S': 19, 'T': 20, 'U': 21, 'V': 22, 'W': 23, 'X': 24, 'Y': 25, 'Z': 26}\n"
          ]
        }
      ]
    },
    {
      "cell_type": "code",
      "source": [
        "hindi_alphabets = [chr(alpha) for alpha in range(2304,2432)]   # 129 items\n",
        "hindi_alphabet_size = len(hindi_alphabets)\n",
        "\n",
        "hindi_alpha2index = {pad_char: 0}\n",
        "for index,alpha in enumerate(hindi_alphabets):\n",
        "  hindi_alpha2index[alpha] = index+1\n",
        "\n",
        "print(hindi_alpha2index)"
      ],
      "metadata": {
        "colab": {
          "base_uri": "https://localhost:8080/"
        },
        "id": "uHYVYwNpOq66",
        "outputId": "41437137-f162-46df-868d-194279687ecc"
      },
      "execution_count": null,
      "outputs": [
        {
          "output_type": "stream",
          "name": "stdout",
          "text": [
            "{'-PAD-': 0, 'ऀ': 1, 'ँ': 2, 'ं': 3, 'ः': 4, 'ऄ': 5, 'अ': 6, 'आ': 7, 'इ': 8, 'ई': 9, 'उ': 10, 'ऊ': 11, 'ऋ': 12, 'ऌ': 13, 'ऍ': 14, 'ऎ': 15, 'ए': 16, 'ऐ': 17, 'ऑ': 18, 'ऒ': 19, 'ओ': 20, 'औ': 21, 'क': 22, 'ख': 23, 'ग': 24, 'घ': 25, 'ङ': 26, 'च': 27, 'छ': 28, 'ज': 29, 'झ': 30, 'ञ': 31, 'ट': 32, 'ठ': 33, 'ड': 34, 'ढ': 35, 'ण': 36, 'त': 37, 'थ': 38, 'द': 39, 'ध': 40, 'न': 41, 'ऩ': 42, 'प': 43, 'फ': 44, 'ब': 45, 'भ': 46, 'म': 47, 'य': 48, 'र': 49, 'ऱ': 50, 'ल': 51, 'ळ': 52, 'ऴ': 53, 'व': 54, 'श': 55, 'ष': 56, 'स': 57, 'ह': 58, 'ऺ': 59, 'ऻ': 60, '़': 61, 'ऽ': 62, 'ा': 63, 'ि': 64, 'ी': 65, 'ु': 66, 'ू': 67, 'ृ': 68, 'ॄ': 69, 'ॅ': 70, 'ॆ': 71, 'े': 72, 'ै': 73, 'ॉ': 74, 'ॊ': 75, 'ो': 76, 'ौ': 77, '्': 78, 'ॎ': 79, 'ॏ': 80, 'ॐ': 81, '॑': 82, '॒': 83, '॓': 84, '॔': 85, 'ॕ': 86, 'ॖ': 87, 'ॗ': 88, 'क़': 89, 'ख़': 90, 'ग़': 91, 'ज़': 92, 'ड़': 93, 'ढ़': 94, 'फ़': 95, 'य़': 96, 'ॠ': 97, 'ॡ': 98, 'ॢ': 99, 'ॣ': 100, '।': 101, '॥': 102, '०': 103, '१': 104, '२': 105, '३': 106, '४': 107, '५': 108, '६': 109, '७': 110, '८': 111, '९': 112, '॰': 113, 'ॱ': 114, 'ॲ': 115, 'ॳ': 116, 'ॴ': 117, 'ॵ': 118, 'ॶ': 119, 'ॷ': 120, 'ॸ': 121, 'ॹ': 122, 'ॺ': 123, 'ॻ': 124, 'ॼ': 125, 'ॽ': 126, 'ॾ': 127, 'ॿ': 128}\n"
          ]
        }
      ]
    },
    {
      "cell_type": "markdown",
      "source": [
        "#Helper function for data pre-processing"
      ],
      "metadata": {
        "id": "xWxKxCBMP-zk"
      }
    },
    {
      "cell_type": "code",
      "source": [
        "# The caret ^ at the beginning of the character class negates it, meaning it matches any character not listed within the brackets.\n",
        "import re\n",
        "\n",
        "non_eng_letters_regex = re.compile('[^a-zA-Z ]')\n",
        "\n",
        "# Example string\n",
        "input_string = \"Hello, 123 world!\"\n",
        "\n",
        "# Remove non-English letters and non-space characters\n",
        "result_string = non_eng_letters_regex.sub('', input_string)\n",
        "\n",
        "print(result_string)"
      ],
      "metadata": {
        "colab": {
          "base_uri": "https://localhost:8080/"
        },
        "id": "NcZkM-GBePjO",
        "outputId": "27c95e2d-0fae-475e-f3b3-d1df9605fe5c"
      },
      "execution_count": null,
      "outputs": [
        {
          "output_type": "stream",
          "name": "stdout",
          "text": [
            "Hello  world\n"
          ]
        }
      ]
    },
    {
      "cell_type": "code",
      "source": [
        "import re\n",
        "non_eng_letters_regex = re.compile('[^a-zA-Z ]')\n",
        "\n",
        "def cleanEnglishVocab(line):\n",
        "  line = line.replace('-',' ').replace(',',' ').upper()\n",
        "  line = non_eng_letters_regex.sub('',line)\n",
        "  return line.split()\n",
        "\n",
        "def cleanHindiVocab(line):\n",
        "  line = line.replace('-',' ').replace(',',' ')\n",
        "  cleaned_line = ''\n",
        "  for char in line:\n",
        "    if char in hindi_alpha2index or char == ' ':\n",
        "      cleaned_line += char\n",
        "\n",
        "  return cleaned_line.split()"
      ],
      "metadata": {
        "id": "Wu3p5rVDQDwg"
      },
      "execution_count": null,
      "outputs": []
    },
    {
      "cell_type": "markdown",
      "source": [
        "#Dataset Loading"
      ],
      "metadata": {
        "id": "tUa7b_vVTxtu"
      }
    },
    {
      "cell_type": "code",
      "source": [
        "from torch.utils.data import Dataset\n",
        "import xml.etree.ElementTree as ET\n",
        "\n",
        "class TransliterationDataLoader(Dataset):\n",
        "    def __init__(self,filename):\n",
        "        self.eng_words,self.hindi_words = self.readXmlDataset(filename,cleanHindiVocab)\n",
        "        self.shuffle_indices = list(range(len(self.eng_words)))\n",
        "        random.shuffle(self.shuffle_indices)\n",
        "        self.shuffle_start_index = 0\n",
        "\n",
        "    def __len__(self):\n",
        "        return len(self.eng_words)\n",
        "\n",
        "    def __getitem__(self, idx):\n",
        "        return self.eng_words[idx],self.hindi_words[idx]\n",
        "    def readXmlDataset(self,filename,lang_vocab_cleaner):\n",
        "        transliterationCorpus = ET.parse(filename).getroot()\n",
        "        lang1_words = []\n",
        "        lang2_words = []\n",
        "\n",
        "        for line in transliterationCorpus:\n",
        "          wordlist1 = cleanEnglishVocab(line[0].text)\n",
        "          wordlist2 = lang_vocab_cleaner(line[1].text)\n",
        "\n",
        "          # skip noisy data\n",
        "          if len(wordlist1) != len(wordlist2):\n",
        "              print('skipping: ',line[0].text,' - ',line[1].text)\n",
        "              continue\n",
        "\n",
        "          for word in wordlist1:\n",
        "              lang1_words.append(word)\n",
        "\n",
        "          for word in wordlist2:\n",
        "              lang2_words.append(word)\n",
        "        return lang1_words,lang2_words\n",
        "\n",
        "    def get_random_sample(self):\n",
        "        return self.__getitem__(np.random.randint(len(self.eng_words)))\n",
        "\n",
        "    def get_batch_from_array(self,batch_size,array):\n",
        "        end = self.shuffle_start_index + batch_size\n",
        "        batch =[]\n",
        "        if end >= len(self.eng_words):\n",
        "          batch = [array[i] for i in self.shuffle_indices[0:end%len(self.eng_words)]]\n",
        "          end = len(self.eng_words)\n",
        "        return batch + [array[i] for i in self.shuffle_indices[self.shuffle_start_index : end]]\n",
        "\n",
        "    def get_batch(self,batch_size,postprocess = True):\n",
        "      eng_batch = self.get_batch_from_array(batch_size,self.eng_words)\n",
        "      hindi_batch = self.get_batch_from_array(batch_size,self.hindi_words)\n",
        "      self.shuffle_start_index += batch_size + 1\n",
        "\n",
        "      # reshuffle if 1 epoch is complete\n",
        "      if self.shuffle_start_index >= len(self.eng_words):\n",
        "        random.shuffle(self.shuffle_indices)\n",
        "        self.shuffle_start_index = 0\n",
        "      return eng_batch,hindi_batch\n"
      ],
      "metadata": {
        "id": "RJbR1TaFT05B"
      },
      "execution_count": null,
      "outputs": []
    },
    {
      "cell_type": "code",
      "source": [
        "train_data = TransliterationDataLoader('NEWS2012-Training-EnHi.xml')\n",
        "test_data = TransliterationDataLoader('NEWS2012-Ref-EnHi.xml')"
      ],
      "metadata": {
        "colab": {
          "base_uri": "https://localhost:8080/"
        },
        "id": "2iXvG5cFaDnx",
        "outputId": "4ab4e271-d5d5-4e64-a7bf-69fac9387b52"
      },
      "execution_count": null,
      "outputs": [
        {
          "output_type": "stream",
          "name": "stdout",
          "text": [
            "skipping:  BARHARWA JUNCTION  -  बरहरवा\n",
            "skipping:  STATE BNK TR  -  स्टेट बैंक ऑफ त्रावणकोर\n",
            "skipping:  SOUTH ARLINGTON CHURCH OF CHRIST  -  साउथ अर्लिंग्टन\n",
            "skipping:  KING EDWARD VII  -  किंग एडवर्ड\n",
            "skipping:  DIBANG VALLEY  -  दिबंगवैली\n",
            "skipping:  ORDER OF VASA  -  ऑडर ऑफ़ द वासा\n",
            "skipping:  AZAMNAGAR ROAD  -  आज़मनगर\n",
            "skipping:  CAPE TOWN  -  केपटाउन\n",
            "skipping:  NEW ZEALAND  -  न्यूज़ीलैंड\n",
            "skipping:  SEA OF THE HEBRIDES  -  सी ऑफ हरब्रिड्‍स\n",
            "skipping:  RAMCOIND  -  राम्को इंड\n",
            "skipping:  KELVINGROVE ART GALLERY AND MUSEUM  -  केल्व‍िनग्रोव आर्ट एण्ड म्युज़ियम\n",
            "skipping:  AUSTRALIAN NATIONAL UNIVERSITY  -  ऑस्ट्रेलियननेशनल यूनिवर्सिटी\n",
            "skipping:  JAHAN AARA  -  जहाँआरा\n",
            "skipping:  NAVABHARAT FERRO ALLOYS  -  नव भारत फ़ैरो अलॉय\n",
            "skipping:  RAMA LINGESHWARA  -  रामालिंगेश्वर\n",
            "skipping:  FAKHRUN NISA  -  फखरुन्निसा\n",
            "skipping:  REDIFF.COM INDIA LIMITED  -  रेडिफ़ डॉट कॉम इंडिया लिमिटेड\n",
            "skipping:  OMKARNATH THAKUR  -  ओंकार नाथ ठाकुर\n",
            "skipping:  OPENTV  -  ओपन टीवी\n",
            "skipping:  ENVOY COMMUNICATIONS GROUP  -  एन्वॉय कम्युनिकेशंस\n",
            "skipping:  WAR OF THE HOLY LEAGUE  -  वार ऑफ होली लीग\n",
            "skipping:  VAPARAISO CHURCH OF CHRIST  -  व्हापरासिओ\n",
            "skipping:  PARIS CHARLES DE GAULLE  -  पेरिस रॉसे चार्ल्स डे ग्यूले\n",
            "skipping:  PARKWAY APOSTOLIC  -  पार्क वे अपोस्टोलिक\n",
            "skipping:  MAUNA LOA  -  मौनालोआ\n",
            "skipping:  MASS MUTUAL LIFE  -  मास म्युच्युअल लाइफ़ इंश्योरेंस\n",
            "skipping:  STATS CHIPPAC  -  स्टेट्सचिपपैक\n",
            "skipping:  NEWFOUNDLAND  -  न्यू फाउंडलैंड\n",
            "skipping:  LONDONHEATHROW  -  लंदन हीथ्रो\n",
            "skipping:  RETALIX  -  रेटालिक्स लि.\n",
            "skipping:  SRISAILAM  -  श्री शैलम\n",
            "skipping:  KARA-KUM  -  काराकुम\n",
            "skipping:  WIND RIVER  -  विंडरिवर\n",
            "skipping:  NETAJI SUBHASH CHANDRA BOSE  -  नेताजी सुभाषचंद्र बोस\n",
            "skipping:  ROCKBROOK UNITED  -  रॉकब्रुक यूनाइटेड मेथोडिस्ट\n",
            "skipping:  WALTER SCOTT  -  वॉल्टरस्कॉट\n",
            "skipping:  COLOURPLUS FASHIONS  -  कलर प्लस फ़ैशन्स\n",
            "skipping:  BAL KRISHNA  -  बालकृष्णा\n"
          ]
        }
      ]
    },
    {
      "cell_type": "markdown",
      "source": [
        "#Basic data visualisation"
      ],
      "metadata": {
        "id": "o7-xU6V9a-ZA"
      }
    },
    {
      "cell_type": "code",
      "source": [
        "print(\"train set size: \",len(train_data))\n",
        "print(\"tets set size: \",len(test_data))\n",
        "\n",
        "print(\"\\nsample data from train set: \")\n",
        "for i in range(5):\n",
        "  eng,hindi = train_data.get_random_sample()\n",
        "  print(eng + ' - ' + hindi)"
      ],
      "metadata": {
        "colab": {
          "base_uri": "https://localhost:8080/"
        },
        "id": "p82_wOynbCH5",
        "outputId": "485eebee-52ba-4135-9b4f-5653e208236c"
      },
      "execution_count": null,
      "outputs": [
        {
          "output_type": "stream",
          "name": "stdout",
          "text": [
            "train set size:  20543\n",
            "tets set size:  1000\n",
            "\n",
            "sample data from train set: \n",
            "WALKER - वॉकर\n",
            "DALER - दलेर\n",
            "SOHANI - सोहनी\n",
            "HYUNDAI - हुंडई\n",
            "KUMAR - कुमार\n"
          ]
        }
      ]
    },
    {
      "cell_type": "markdown",
      "source": [
        "#Encoding the words"
      ],
      "metadata": {
        "id": "GYRmXtfxg2y5"
      }
    },
    {
      "cell_type": "code",
      "source": [
        "def word_rep(word,letter2index,device='cpu'):\n",
        "  rep = torch.zeros(len(word)+1,1,len(letter2index)).to(device)        # size : len of word x 1 x 27 eng\n",
        "  for letter_index,letter in enumerate(word):\n",
        "    pos = letter2index[letter]\n",
        "    rep[letter_index][0][pos] = 1\n",
        "  pad_pos = letter2index[pad_char]\n",
        "  rep[letter_index+1][0][pad_pos] = 1\n",
        "  return rep\n",
        "\n",
        "# ground truth (here hindi)\n",
        "def gt_rep(word,letter2index,device='cpu'):\n",
        "  gt_rep = torch.zeros([len(word)+1,1],dtype = torch.long).to(device)\n",
        "  for letter_index,letter in enumerate(word):\n",
        "    pos = letter2index[letter]\n",
        "    gt_rep[letter_index][0] = pos\n",
        "  gt_rep[letter_index+1][0] = letter2index[pad_char]\n",
        "  return gt_rep\n"
      ],
      "metadata": {
        "id": "vK-fFPF8g5WJ"
      },
      "execution_count": null,
      "outputs": []
    },
    {
      "cell_type": "markdown",
      "source": [
        "here input size and output size does not match,then we read the entire word at once,then encode this info,process it further then start decoding it"
      ],
      "metadata": {
        "id": "N-utV6-Ov1vx"
      }
    },
    {
      "cell_type": "code",
      "source": [
        "eng,hindi = train_data.get_random_sample()\n",
        "eng_rep = word_rep(eng,eng_alpha2index)\n",
        "print(eng,eng_rep)"
      ],
      "metadata": {
        "colab": {
          "base_uri": "https://localhost:8080/"
        },
        "id": "YUglbzyZigdh",
        "outputId": "09827f59-b2e9-4564-ef48-d6f88cc1e7c2"
      },
      "execution_count": null,
      "outputs": [
        {
          "output_type": "stream",
          "name": "stdout",
          "text": [
            "OIL tensor([[[0., 0., 0., 0., 0., 0., 0., 0., 0., 0., 0., 0., 0., 0., 0., 1., 0.,\n",
            "          0., 0., 0., 0., 0., 0., 0., 0., 0., 0.]],\n",
            "\n",
            "        [[0., 0., 0., 0., 0., 0., 0., 0., 0., 1., 0., 0., 0., 0., 0., 0., 0.,\n",
            "          0., 0., 0., 0., 0., 0., 0., 0., 0., 0.]],\n",
            "\n",
            "        [[0., 0., 0., 0., 0., 0., 0., 0., 0., 0., 0., 0., 1., 0., 0., 0., 0.,\n",
            "          0., 0., 0., 0., 0., 0., 0., 0., 0., 0.]],\n",
            "\n",
            "        [[1., 0., 0., 0., 0., 0., 0., 0., 0., 0., 0., 0., 0., 0., 0., 0., 0.,\n",
            "          0., 0., 0., 0., 0., 0., 0., 0., 0., 0.]]])\n"
          ]
        }
      ]
    },
    {
      "cell_type": "code",
      "source": [
        "hindi_gt = gt_rep(hindi,hindi_alpha2index)\n",
        "print(hindi,hindi_gt)"
      ],
      "metadata": {
        "colab": {
          "base_uri": "https://localhost:8080/"
        },
        "id": "ONm71WqkixH3",
        "outputId": "b0074036-bcb2-4ad8-f5a0-fe8b63c90b8e"
      },
      "execution_count": null,
      "outputs": [
        {
          "output_type": "stream",
          "name": "stdout",
          "text": [
            "ऑईल tensor([[18],\n",
            "        [ 9],\n",
            "        [51],\n",
            "        [ 0]])\n"
          ]
        }
      ]
    },
    {
      "cell_type": "markdown",
      "source": [
        "#Network Architechture"
      ],
      "metadata": {
        "id": "NjnnUd--j6Ga"
      }
    },
    {
      "cell_type": "markdown",
      "source": [
        "#Encoder-Decoder(using GRU)"
      ],
      "metadata": {
        "id": "vlnrcTs5kBcE"
      }
    },
    {
      "cell_type": "markdown",
      "source": [
        "input size is 27.hidden size is hyperparamter which can be tuned.output size is 119 here.h2o converts hidden to output size in decoder.it has softmax as it is a classification task"
      ],
      "metadata": {
        "id": "oC7Wb_pdxBG-"
      }
    },
    {
      "cell_type": "markdown",
      "source": [
        "teacher forcing:instead of giving decoders output(softmax) as it is we give the ground truth encoding to decoder input which accelarates training .\n"
      ],
      "metadata": {
        "id": "G6-cukKc6xEC"
      }
    },
    {
      "cell_type": "code",
      "source": [
        "MAX_OUTPUT_CHARS = 30\n",
        "class Transliteration_EncoderDecoder(nn.Module):\n",
        "\n",
        "    def __init__(self,input_size,hidden_size,output_size,verbose=False):\n",
        "      super(Transliteration_EncoderDecoder,self).__init__()\n",
        "\n",
        "      self.hidden_size = hidden_size\n",
        "      self.output_size = output_size\n",
        "\n",
        "      self.encoder_rnn_cell = nn.GRU(input_size,hidden_size)\n",
        "      self.decoder_rnn_cell = nn.GRU(output_size,hidden_size)\n",
        "\n",
        "      self.h2o = nn.Linear(hidden_size,output_size)\n",
        "      self.softmax = nn.LogSoftmax(dim=2)\n",
        "\n",
        "      self.verbose = verbose\n",
        "\n",
        "    def forward(self,input,max_output_chars = MAX_OUTPUT_CHARS,device = 'cpu',ground_truth =None):\n",
        "\n",
        "      # encoder\n",
        "      out,hidden = self.encoder_rnn_cell(input)\n",
        "\n",
        "      if self.verbose:\n",
        "        print('encoder input: ',input.shape)\n",
        "        print('encoder output: ',out.shape)\n",
        "        print('encoder hidden: ',hidden.shape)\n",
        "\n",
        "      # decoder\n",
        "      decoder_state = hidden\n",
        "      decoder_input = torch.zeros(1,1,self.output_size).to(device)\n",
        "      outputs = []\n",
        "\n",
        "      if self.verbose:\n",
        "        print('decoder state: ',decoder_state.shape)\n",
        "        print('decoder input: ',decoder_input.shape)\n",
        "\n",
        "      for i in range(max_output_chars):\n",
        "\n",
        "        out,decoder_state = self.decoder_rnn_cell(decoder_input,decoder_state)\n",
        "\n",
        "        if self.verbose:\n",
        "          print('decoder intermediate output: ',out.shape)\n",
        "\n",
        "        out = self.h2o(decoder_state)\n",
        "        out = self.softmax(out)\n",
        "        outputs.append(out.view(1,-1))\n",
        "\n",
        "        if self.verbose:\n",
        "          print('decoder output : ',out.shape)\n",
        "          self.verbose = False\n",
        "\n",
        "        # converting decoder output to one hot encoding\n",
        "        # so that we can be able to switch the input of next decoder btwn ohe and original ground truth\n",
        "\n",
        "        max_idx = torch.argmax(out,2,keepdim=True)\n",
        "        if not ground_truth is None:\n",
        "          max_idx = ground_truth[i].reshape(1,1,1)\n",
        "        one_hot = torch.FloatTensor(out.shape).to(device)\n",
        "        one_hot.zero_()\n",
        "        one_hot.scatter_(2,max_idx,1)\n",
        "\n",
        "        decoder_input = one_hot.detach()  # gradients should not be passed through this way\n",
        "\n",
        "      return outputs"
      ],
      "metadata": {
        "id": "vFF2iHFrkHz4"
      },
      "execution_count": null,
      "outputs": []
    },
    {
      "cell_type": "code",
      "source": [
        "net1 = Transliteration_EncoderDecoder(len(eng_alpha2index),256,len(hindi_alpha2index),verbose = True)"
      ],
      "metadata": {
        "id": "-9dFxj96nj4E"
      },
      "execution_count": null,
      "outputs": []
    },
    {
      "cell_type": "code",
      "source": [
        "print(net1)"
      ],
      "metadata": {
        "colab": {
          "base_uri": "https://localhost:8080/"
        },
        "id": "d3mrps71n12P",
        "outputId": "590ae4ff-8833-443a-cb03-77c72e9718ec"
      },
      "execution_count": null,
      "outputs": [
        {
          "output_type": "stream",
          "name": "stdout",
          "text": [
            "Transliteration_EncoderDecoder(\n",
            "  (encoder_rnn_cell): GRU(27, 256)\n",
            "  (decoder_rnn_cell): GRU(129, 256)\n",
            "  (h2o): Linear(in_features=256, out_features=129, bias=True)\n",
            "  (softmax): LogSoftmax(dim=2)\n",
            ")\n"
          ]
        }
      ]
    },
    {
      "cell_type": "code",
      "source": [
        "def infer(net, name,n,device):\n",
        "  net.eval().to(device)\n",
        "  name_ohe = word_rep(name,eng_alpha2index,device)\n",
        "  output = net(name_ohe,n,device)\n",
        "  return output"
      ],
      "metadata": {
        "id": "kHiK9p1ySqRv"
      },
      "execution_count": null,
      "outputs": []
    },
    {
      "cell_type": "code",
      "source": [
        "out = infer(net1,'INDIA',30,device=\"cpu\")"
      ],
      "metadata": {
        "colab": {
          "base_uri": "https://localhost:8080/"
        },
        "id": "A_WcflmuVkUn",
        "outputId": "ef86a938-2756-4df3-8534-f75952470667"
      },
      "execution_count": null,
      "outputs": [
        {
          "output_type": "stream",
          "name": "stdout",
          "text": [
            "encoder input:  torch.Size([6, 1, 27])\n",
            "encoder output:  torch.Size([6, 1, 256])\n",
            "encoder hidden:  torch.Size([1, 1, 256])\n",
            "decoder state:  torch.Size([1, 1, 256])\n",
            "decoder input:  torch.Size([1, 1, 129])\n",
            "decoder intermediate output:  torch.Size([1, 1, 256])\n",
            "decoder output :  torch.Size([1, 1, 129])\n"
          ]
        }
      ]
    },
    {
      "cell_type": "code",
      "source": [
        "print(len(out))\n",
        "for i in range(len(out)):\n",
        "  print(out[i].shape,list(hindi_alpha2index.keys())[list(hindi_alpha2index.values()).index(torch.argmax(out[i]))])"
      ],
      "metadata": {
        "colab": {
          "base_uri": "https://localhost:8080/"
        },
        "id": "lwNei4t-n8Ch",
        "outputId": "093fb787-6369-47cb-cd9f-10c48873af17"
      },
      "execution_count": null,
      "outputs": [
        {
          "output_type": "stream",
          "name": "stdout",
          "text": [
            "30\n",
            "torch.Size([1, 129]) स\n",
            "torch.Size([1, 129]) स\n",
            "torch.Size([1, 129]) स\n",
            "torch.Size([1, 129]) स\n",
            "torch.Size([1, 129]) स\n",
            "torch.Size([1, 129]) स\n",
            "torch.Size([1, 129]) ँ\n",
            "torch.Size([1, 129]) ँ\n",
            "torch.Size([1, 129]) ँ\n",
            "torch.Size([1, 129]) ँ\n",
            "torch.Size([1, 129]) फ़\n",
            "torch.Size([1, 129]) ड़\n",
            "torch.Size([1, 129]) स\n",
            "torch.Size([1, 129]) स\n",
            "torch.Size([1, 129]) स\n",
            "torch.Size([1, 129]) ँ\n",
            "torch.Size([1, 129]) ँ\n",
            "torch.Size([1, 129]) ँ\n",
            "torch.Size([1, 129]) ँ\n",
            "torch.Size([1, 129]) फ़\n",
            "torch.Size([1, 129]) ड़\n",
            "torch.Size([1, 129]) स\n",
            "torch.Size([1, 129]) स\n",
            "torch.Size([1, 129]) स\n",
            "torch.Size([1, 129]) ँ\n",
            "torch.Size([1, 129]) ँ\n",
            "torch.Size([1, 129]) ँ\n",
            "torch.Size([1, 129]) ँ\n",
            "torch.Size([1, 129]) फ़\n",
            "torch.Size([1, 129]) ड़\n"
          ]
        }
      ]
    },
    {
      "cell_type": "markdown",
      "source": [
        "#with Attention"
      ],
      "metadata": {
        "id": "5fU9UBbRhZLU"
      }
    },
    {
      "cell_type": "code",
      "source": [
        "MAX_OUTPUT_CHARS = 30\n",
        "class Transliteration_EncoderDecoder_Attention(nn.Module):\n",
        "\n",
        "    def __init__(self,input_size,hidden_size,output_size,verbose=False):\n",
        "      super(Transliteration_EncoderDecoder_Attention,self).__init__()\n",
        "\n",
        "      self.hidden_size = hidden_size\n",
        "      self.output_size = output_size\n",
        "\n",
        "      self.encoder_rnn_cell = nn.GRU(input_size,hidden_size)\n",
        "      self.decoder_rnn_cell = nn.GRU(hidden_size*2,hidden_size)\n",
        "\n",
        "      self.h2o = nn.Linear(hidden_size,output_size)\n",
        "      self.softmax = nn.LogSoftmax(dim=2)\n",
        "\n",
        "      self.U = nn.Linear(self.hidden_size,self.hidden_size)\n",
        "      self.W = nn.Linear(self.hidden_size,self.hidden_size)\n",
        "      self.attn = nn.Linear(self.hidden_size,1)\n",
        "      self.out2hidden = nn.Linear(self.output_size,self.hidden_size)\n",
        "\n",
        "      self.verbose = verbose\n",
        "\n",
        "    def forward(self,input,max_output_chars = MAX_OUTPUT_CHARS,device = 'cpu',ground_truth =None):\n",
        "\n",
        "      # encoder\n",
        "      eout,hidden = self.encoder_rnn_cell(input)\n",
        "      eout = eout.view(-1,self.hidden_size)\n",
        "\n",
        "      if self.verbose:\n",
        "        print('encoder output: ',eout.shape)\n",
        "\n",
        "      # decoder\n",
        "      decoder_state = hidden\n",
        "      decoder_input = torch.zeros(1,1,self.output_size).to(device)\n",
        "      outputs = []\n",
        "      U = self.U(eout)\n",
        "\n",
        "      if self.verbose:\n",
        "        print('decoder state: ',decoder_state.shape)\n",
        "        print('decoder intermediate input: ',decoder_input.shape)\n",
        "        print('U * encoder output ',U.shape)\n",
        "\n",
        "      for i in range(max_output_chars):\n",
        "        W = self.W(decoder_state.view(1,-1).repeat(eout.shape[0],1))\n",
        "        V = self.attn(torch.tanh(U + W))\n",
        "        attn_weights = F.softmax(V.view(1,-1),dim = 1)\n",
        "\n",
        "        \"\"\" if self.verbose:\n",
        "          print('w * decoder state ',W.shape)\n",
        "          print('V ',V.shape)\n",
        "          print('attn ',attn_weights.shape)\n",
        "\n",
        "          print('attn_weights shape:', attn_weights.unsqueeze(0).shape)\n",
        "          print('out shape:', out.unsqueeze(0).shape)\"\"\"\n",
        "        attn_applied =  torch.bmm(attn_weights.unsqueeze(0),eout.unsqueeze(0))\n",
        "        embedding = self.out2hidden(decoder_input)\n",
        "        decoder_input = torch.cat((embedding[0],attn_applied[0]),1).unsqueeze(0)\n",
        "\n",
        "        \"\"\"if self.verbose:\n",
        "          print('attn lc',attn_applied.shape)\n",
        "          print('decoder input',decoder_input.shape)\"\"\"\n",
        "\n",
        "\n",
        "        out,decoder_state = self.decoder_rnn_cell(decoder_input,decoder_state)\n",
        "        \"\"\" if self.verbose:\n",
        "          print('decoder intermediate output: ',out.shape)\"\"\"\n",
        "\n",
        "        out = self.h2o(decoder_state)\n",
        "        out = self.softmax(out)\n",
        "        outputs.append(out.view(1,-1))\n",
        "\n",
        "        \"\"\" if self.verbose:\n",
        "          print('decoder output : ',out.shape)\n",
        "          self.verbose = False\n",
        "\n",
        "        # converting decoder output to one hot encoding\n",
        "        # so that we can be able to switch the input of next decoder btwn ohe and original ground truth\n",
        "        \"\"\"\n",
        "        max_idx = torch.argmax(out,2,keepdim=True)\n",
        "        if not ground_truth is None:\n",
        "          max_idx = ground_truth[i].reshape(1,1,1)\n",
        "        one_hot = torch.zeros(out.shape,device = device)\n",
        "        one_hot.scatter_(2,max_idx,1)\n",
        "\n",
        "        decoder_input = one_hot.detach()  # gradients should not be passed through this way\n",
        "\n",
        "      return outputs"
      ],
      "metadata": {
        "id": "F3lJNQwRhdvY"
      },
      "execution_count": null,
      "outputs": []
    },
    {
      "cell_type": "code",
      "source": [
        "net = Transliteration_EncoderDecoder_Attention(len(eng_alpha2index),256,len(hindi_alpha2index),verbose = False)"
      ],
      "metadata": {
        "id": "0P89A2QkuRRy"
      },
      "execution_count": null,
      "outputs": []
    },
    {
      "cell_type": "code",
      "source": [
        "out = infer(net_att,'REVANTH',30,'cuda:0')\n"
      ],
      "metadata": {
        "id": "OtUusx_2udkz"
      },
      "execution_count": null,
      "outputs": []
    },
    {
      "cell_type": "code",
      "source": [
        "for i in range(len(out)):\n",
        "    # Get the index with the maximum value in the tensor\n",
        "    max_index = torch.argmax(out[i]).item()\n",
        "\n",
        "    # Find the corresponding character using the dictionary\n",
        "    corresponding_char = list(hindi_alpha2index.keys())[list(hindi_alpha2index.values()).index(max_index)]\n",
        "\n",
        "    # Check if the character is '-PAD-'\n",
        "    if corresponding_char == '-PAD-':\n",
        "        break  # Stop the loop if '-PAD-' is encountered\n",
        "\n",
        "    # Print the character\n",
        "    print(corresponding_char)\n"
      ],
      "metadata": {
        "colab": {
          "base_uri": "https://localhost:8080/"
        },
        "id": "UtiNaLkMY6qF",
        "outputId": "d84f6ed5-4df4-4cbd-b56f-3644ebb770a2"
      },
      "execution_count": null,
      "outputs": [
        {
          "output_type": "stream",
          "name": "stdout",
          "text": [
            "र\n",
            "े\n",
            "व\n",
            "ा\n",
            "थ\n"
          ]
        }
      ]
    },
    {
      "cell_type": "markdown",
      "source": [
        "#Training"
      ],
      "metadata": {
        "id": "Pd8AlXrHysYO"
      }
    },
    {
      "cell_type": "markdown",
      "source": [
        "#Core trainer"
      ],
      "metadata": {
        "id": "y6OADtOhyu-v"
      }
    },
    {
      "cell_type": "code",
      "source": [
        "def train_batch(net, opt, criterion, batch_size, device = 'cpu', teacherforce = False):\n",
        "\n",
        "  net.train().to(device)\n",
        "  opt.zero_grad()\n",
        "  eng_batch, hindi_batch = train_data.get_batch(batch_size)\n",
        "\n",
        "  total_loss = 0\n",
        "  for i in range(batch_size):\n",
        "    input = word_rep(eng_batch[i],eng_alpha2index, device)\n",
        "    gt = gt_rep(hindi_batch[i],hindi_alpha2index, device)\n",
        "    outputs = net(input, gt.shape[0], device, ground_truth = gt if teacherforce else None)\n",
        "\n",
        "    for index, output in enumerate(outputs):\n",
        "      loss = criterion(output, gt[index]) / batch_size\n",
        "      loss.backward(retain_graph = True)\n",
        "      total_loss += loss\n",
        "  opt.step()\n",
        "  return total_loss/batch_size"
      ],
      "metadata": {
        "id": "j2u92OA8ywwg"
      },
      "execution_count": null,
      "outputs": []
    },
    {
      "cell_type": "markdown",
      "source": [
        "#training helper"
      ],
      "metadata": {
        "id": "v2YKntvvzuwf"
      }
    },
    {
      "cell_type": "code",
      "source": [
        "def train_setup(net, lr = 0.01, n_batches = 100, batch_size = 10, display_freq = 5, device = 'cpu'):\n",
        "\n",
        "  net = net.to(device)\n",
        "  criterion = nn.NLLLoss(ignore_index = -1)\n",
        "  opt = optim.Adam(net.parameters(), lr=lr)\n",
        "  teacher_force_upto = n_batches//3\n",
        "\n",
        "  loss_arr = np.zeros(n_batches+1)\n",
        "\n",
        "  for i in range(n_batches):\n",
        "    loss_arr[i+1] = (loss_arr[i]*i + train_batch(net, opt, criterion, batch_size, device = device, teacherforce = i<teacher_force_upto)) /(i+1)\n",
        "    if i%display_freq == display_freq-1:\n",
        "        clear_output(wait=True)\n",
        "        print('Iteration', i, 'Loss', loss_arr[i])\n",
        "        plt.figure()\n",
        "        plt.plot(loss_arr[1:i], '-*')\n",
        "        plt.xlabel('Iteration')\n",
        "        plt.ylabel('Loss')\n",
        "        plt.show()\n",
        "        print('\\n\\n')\n",
        "\n",
        "  return loss_arr"
      ],
      "metadata": {
        "id": "K6M5hYZjzgzw"
      },
      "execution_count": null,
      "outputs": []
    },
    {
      "cell_type": "markdown",
      "source": [
        "#training without attention"
      ],
      "metadata": {
        "id": "9PWK781j0cRc"
      }
    },
    {
      "cell_type": "code",
      "source": [
        "net = Transliteration_EncoderDecoder(len(eng_alpha2index),256,len(hindi_alpha2index))\n",
        "train_setup(net, lr=0.001, n_batches = 200, batch_size = 64, display_freq=10, device= device_gpu)"
      ],
      "metadata": {
        "id": "ElzfcUEV0Yfa",
        "colab": {
          "base_uri": "https://localhost:8080/",
          "height": 1000
        },
        "outputId": "cd047a28-fd29-4589-c3b2-ed1b53ea96ea"
      },
      "execution_count": null,
      "outputs": [
        {
          "output_type": "stream",
          "name": "stdout",
          "text": [
            "Iteration 199 Loss 0.32891932129859924\n"
          ]
        },
        {
          "output_type": "display_data",
          "data": {
            "text/plain": [
              "<Figure size 640x480 with 1 Axes>"
            ],
            "image/png": "[encoded data removed]"
          },
          "metadata": {}
        },
        {
          "output_type": "stream",
          "name": "stdout",
          "text": [
            "\n",
            "\n",
            "\n"
          ]
        },
        {
          "output_type": "execute_result",
          "data": {
            "text/plain": [
              "array([0.        , 0.52543318, 0.51191938, 0.51215398, 0.50870728,\n",
              "       0.50469911, 0.49550733, 0.4926607 , 0.4897137 , 0.48951352,\n",
              "       0.48706609, 0.48407418, 0.478659  , 0.4731209 , 0.46418566,\n",
              "       0.45961651, 0.45627141, 0.45099661, 0.44675127, 0.4416897 ,\n",
              "       0.43843991, 0.43488052, 0.4311752 , 0.42731801, 0.42503721,\n",
              "       0.42233321, 0.41936237, 0.41701525, 0.41443071, 0.41197515,\n",
              "       0.40939754, 0.40686855, 0.4044669 , 0.40276757, 0.40144345,\n",
              "       0.39982969, 0.39782602, 0.39613429, 0.39521274, 0.39382794,\n",
              "       0.39229646, 0.39037707, 0.38888785, 0.38759512, 0.38639945,\n",
              "       0.38527328, 0.38405097, 0.38241714, 0.38130462, 0.3802906 ,\n",
              "       0.37916794, 0.37785369, 0.37664652, 0.37533653, 0.37449667,\n",
              "       0.37357861, 0.37291473, 0.37238073, 0.37150726, 0.3703883 ,\n",
              "       0.36960423, 0.36881664, 0.36788526, 0.3672401 , 0.36662254,\n",
              "       0.36623201, 0.36566445, 0.36470935, 0.36410835, 0.36352861,\n",
              "       0.3631112 , 0.36270311, 0.36214185, 0.36136052, 0.36070511,\n",
              "       0.3600798 , 0.35944751, 0.35912991, 0.35852867, 0.35808891,\n",
              "       0.35776481, 0.35755917, 0.35698399, 0.35679054, 0.35618165,\n",
              "       0.35556957, 0.35510933, 0.35447714, 0.35407376, 0.35374391,\n",
              "       0.35307705, 0.35298184, 0.35270226, 0.35246581, 0.35203385,\n",
              "       0.35171229, 0.35116395, 0.35073858, 0.35042781, 0.35004783,\n",
              "       0.34965917, 0.34947804, 0.34902138, 0.34837541, 0.34801179,\n",
              "       0.34769818, 0.3471795 , 0.34682921, 0.34658778, 0.34632882,\n",
              "       0.3460381 , 0.34579611, 0.34568289, 0.34541368, 0.34508598,\n",
              "       0.34476474, 0.3444759 , 0.34395069, 0.34352964, 0.34316173,\n",
              "       0.34283352, 0.34248209, 0.34234151, 0.34193981, 0.34181949,\n",
              "       0.341575  , 0.34156504, 0.34146133, 0.34127042, 0.34094951,\n",
              "       0.340648  , 0.34085628, 0.34050903, 0.340148  , 0.33988261,\n",
              "       0.33987129, 0.33955133, 0.33919108, 0.33895358, 0.33864334,\n",
              "       0.33874902, 0.33860981, 0.33848801, 0.33834246, 0.33823127,\n",
              "       0.33806539, 0.33778194, 0.33776781, 0.3376947 , 0.33764729,\n",
              "       0.33738074, 0.33724219, 0.33706167, 0.33678874, 0.3365202 ,\n",
              "       0.33630282, 0.33599624, 0.33572385, 0.33550626, 0.33532339,\n",
              "       0.33520937, 0.33491173, 0.3347975 , 0.33464289, 0.33435515,\n",
              "       0.33425552, 0.33413184, 0.33378327, 0.33371121, 0.33334124,\n",
              "       0.33321691, 0.33303335, 0.33289483, 0.33274758, 0.33257121,\n",
              "       0.3323974 , 0.3322444 , 0.33211979, 0.33185688, 0.3317003 ,\n",
              "       0.33154303, 0.33121124, 0.33109954, 0.33087021, 0.33064255,\n",
              "       0.33062717, 0.33052966, 0.3303833 , 0.33045971, 0.33036658,\n",
              "       0.33023912, 0.33022773, 0.33004382, 0.3299813 , 0.32986981,\n",
              "       0.32962325, 0.32953593, 0.32931003, 0.32914257, 0.32891932,\n",
              "       0.32874161])"
            ]
          },
          "metadata": {},
          "execution_count": 72
        }
      ]
    },
    {
      "cell_type": "markdown",
      "source": [
        "#training with attention"
      ],
      "metadata": {
        "id": "-J2WhKOG1dbx"
      }
    },
    {
      "cell_type": "code",
      "source": [
        "net_att = Transliteration_EncoderDecoder_Attention(len(eng_alpha2index),256,len(hindi_alpha2index))\n",
        "loss_history = train_setup(net_att, lr=0.001, n_batches = 800, batch_size = 64, display_freq=40, device= device_gpu)"
      ],
      "metadata": {
        "id": "WajP-4XP1MLT",
        "colab": {
          "base_uri": "https://localhost:8080/",
          "height": 518
        },
        "outputId": "ad6193ff-1da0-477f-ad64-469dada7b26f"
      },
      "execution_count": null,
      "outputs": [
        {
          "output_type": "stream",
          "name": "stdout",
          "text": [
            "Iteration 799 Loss 0.23626916110515594\n"
          ]
        },
        {
          "output_type": "display_data",
          "data": {
            "text/plain": [
              "<Figure size 640x480 with 1 Axes>"
            ],
            "image/png": "[encoded data removed]"
          },
          "metadata": {}
        },
        {
          "output_type": "stream",
          "name": "stdout",
          "text": [
            "\n",
            "\n",
            "\n"
          ]
        }
      ]
    },
    {
      "cell_type": "code",
      "source": [
        "def calc_accuracy(net, device = 'cpu'):\n",
        "  net = net.eval().to(device)\n",
        "  predictions = []\n",
        "  accuracy = 0\n",
        "  for i in range(len(test_data)):\n",
        "    eng,hindi = test_data[i]\n",
        "    gt = gt_rep(hindi,hindi_alpha2index, device)\n",
        "    outputs = infer(net,eng,gt.shape[0], device)\n",
        "    correct = 0\n",
        "    for index,out in enumerate(outputs):\n",
        "      val, indices = out.topk(1)\n",
        "      hindi_pos = indices.tolist()[0]\n",
        "      if hindi_pos[0] == gt[index][0]:\n",
        "        correct += 1\n",
        "    accuracy += correct/gt.shape[0]\n",
        "  accuracy /= len(test_data)\n",
        "  return accuracy"
      ],
      "metadata": {
        "id": "jagPG48M15Mn"
      },
      "execution_count": null,
      "outputs": []
    },
    {
      "cell_type": "code",
      "source": [
        "accuracy = calc_accuracy(net_att,'cuda:0') * 100\n",
        "print(accuracy)"
      ],
      "metadata": {
        "id": "mlrvBshF26ku",
        "colab": {
          "base_uri": "https://localhost:8080/"
        },
        "outputId": "d53ff3f8-82fd-4ddc-be7c-afd1bf9005b3"
      },
      "execution_count": null,
      "outputs": [
        {
          "output_type": "stream",
          "name": "stdout",
          "text": [
            "60.63156066156068\n"
          ]
        }
      ]
    }
  ]
}