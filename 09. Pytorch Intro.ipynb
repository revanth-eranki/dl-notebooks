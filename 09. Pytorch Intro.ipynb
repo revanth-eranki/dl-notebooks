{
 "cells": [
  {
   "cell_type": "code",
   "execution_count": 1,
   "id": "f26e3350",
   "metadata": {},
   "outputs": [],
   "source": [
    "import torch\n",
    "import numpy as np\n",
    "import matplotlib.pyplot as plt"
   ]
  },
  {
   "cell_type": "markdown",
   "id": "35fb6f01",
   "metadata": {},
   "source": [
    "# **Initialise Tensors**"
   ]
  },
  {
   "cell_type": "code",
   "execution_count": 2,
   "id": "d291f644",
   "metadata": {},
   "outputs": [
    {
     "name": "stdout",
     "output_type": "stream",
     "text": [
      "tensor([[1., 1.],\n",
      "        [1., 1.],\n",
      "        [1., 1.]])\n",
      "tensor([[0., 0.],\n",
      "        [0., 0.],\n",
      "        [0., 0.]])\n",
      "tensor([[0.5565, 0.2997],\n",
      "        [0.3464, 0.5656],\n",
      "        [0.0885, 0.0178]])\n"
     ]
    }
   ],
   "source": [
    "x = torch.ones(3, 2)\n",
    "print(x)\n",
    "x = torch.zeros(3, 2)\n",
    "print(x)\n",
    "x = torch.rand(3, 2)\n",
    "print(x)"
   ]
  },
  {
   "cell_type": "code",
   "execution_count": 5,
   "id": "e9f1b835",
   "metadata": {},
   "outputs": [
    {
     "name": "stdout",
     "output_type": "stream",
     "text": [
      "tensor([[6.7941e+22, 1.0244e-11],\n",
      "        [4.2887e-08, 6.7504e-07],\n",
      "        [3.3975e+21, 5.1173e+22]])\n",
      "tensor([[0., 0.],\n",
      "        [0., 0.],\n",
      "        [0., 0.]])\n"
     ]
    }
   ],
   "source": [
    "x = torch.empty(3, 2)\n",
    "print(x)\n",
    "y = torch.zeros_like(x)\n",
    "print(y)"
   ]
  },
  {
   "cell_type": "code",
   "execution_count": 6,
   "id": "7bd1a1a8",
   "metadata": {},
   "outputs": [
    {
     "name": "stdout",
     "output_type": "stream",
     "text": [
      "tensor([0.0000, 0.2500, 0.5000, 0.7500, 1.0000])\n"
     ]
    }
   ],
   "source": [
    "x = torch.linspace(0, 1, steps = 5)\n",
    "print(x)"
   ]
  },
  {
   "cell_type": "code",
   "execution_count": 7,
   "id": "742c64a6",
   "metadata": {},
   "outputs": [
    {
     "name": "stdout",
     "output_type": "stream",
     "text": [
      "tensor([[3, 2],\n",
      "        [5, 3],\n",
      "        [6, 4]])\n"
     ]
    }
   ],
   "source": [
    "x = torch.tensor([[3,2]\n",
    "                 ,[5,3]\n",
    "                 ,[6,4]])\n",
    "print(x)"
   ]
  },
  {
   "cell_type": "markdown",
   "id": "5477db86",
   "metadata": {},
   "source": [
    "# **Slicing Tensors**"
   ]
  },
  {
   "cell_type": "code",
   "execution_count": 8,
   "id": "e28d9d8d",
   "metadata": {},
   "outputs": [
    {
     "name": "stdout",
     "output_type": "stream",
     "text": [
      "torch.Size([3, 2])\n",
      "tensor([2, 3, 4])\n",
      "tensor([3, 2])\n"
     ]
    }
   ],
   "source": [
    "print(x.size())\n",
    "print(x[:,1])\n",
    "print(x[0,:])"
   ]
  },
  {
   "cell_type": "code",
   "execution_count": 9,
   "id": "f8334b2a",
   "metadata": {},
   "outputs": [
    {
     "name": "stdout",
     "output_type": "stream",
     "text": [
      "tensor(3)\n",
      "3\n"
     ]
    }
   ],
   "source": [
    "y = x[1,1]\n",
    "print(y)\n",
    "print(y.item())"
   ]
  },
  {
   "cell_type": "markdown",
   "id": "ef9e1c23",
   "metadata": {},
   "source": [
    "# **Reshaping Tensors**"
   ]
  },
  {
   "cell_type": "code",
   "execution_count": 10,
   "id": "ba21f544",
   "metadata": {},
   "outputs": [
    {
     "name": "stdout",
     "output_type": "stream",
     "text": [
      "tensor([[3, 2],\n",
      "        [5, 3],\n",
      "        [6, 4]])\n",
      "tensor([[3, 2, 5],\n",
      "        [3, 6, 4]])\n"
     ]
    }
   ],
   "source": [
    "print(x)\n",
    "y = x.view(2, 3)\n",
    "print(y)"
   ]
  },
  {
   "cell_type": "code",
   "execution_count": null,
   "id": "a5f77df6",
   "metadata": {},
   "outputs": [],
   "source": []
  },
  {
   "cell_type": "code",
   "execution_count": 12,
   "id": "8ffe064a",
   "metadata": {},
   "outputs": [
    {
     "name": "stdout",
     "output_type": "stream",
     "text": [
      "tensor([[3],\n",
      "        [2],\n",
      "        [5],\n",
      "        [3],\n",
      "        [6],\n",
      "        [4]])\n"
     ]
    }
   ],
   "source": [
    "y = x.view(6, -1)\n",
    "print(y)"
   ]
  },
  {
   "cell_type": "markdown",
   "id": "332e7926",
   "metadata": {},
   "source": [
    "# **Simple Tensor Operations**"
   ]
  },
  {
   "cell_type": "code",
   "execution_count": 13,
   "id": "5126f15b",
   "metadata": {},
   "outputs": [
    {
     "name": "stdout",
     "output_type": "stream",
     "text": [
      "tensor([[2., 2.],\n",
      "        [2., 2.],\n",
      "        [2., 2.]])\n",
      "tensor([[0., 0.],\n",
      "        [0., 0.],\n",
      "        [0., 0.]])\n",
      "tensor([[1., 1.],\n",
      "        [1., 1.],\n",
      "        [1., 1.]])\n"
     ]
    }
   ],
   "source": [
    "x = torch.ones([3, 2])\n",
    "y = torch.ones([3, 2])\n",
    "z = x + y\n",
    "print(z)\n",
    "z = x - y\n",
    "print(z)\n",
    "z = x * y\n",
    "print(z)"
   ]
  },
  {
   "cell_type": "code",
   "execution_count": 15,
   "id": "ff41ee93",
   "metadata": {},
   "outputs": [
    {
     "name": "stdout",
     "output_type": "stream",
     "text": [
      "tensor([[2., 2.],\n",
      "        [2., 2.],\n",
      "        [2., 2.]])\n",
      "tensor([[1., 1.],\n",
      "        [1., 1.],\n",
      "        [1., 1.]])\n"
     ]
    }
   ],
   "source": [
    "z = y.add(x)\n",
    "print(z)\n",
    "print(y)"
   ]
  },
  {
   "cell_type": "code",
   "execution_count": 16,
   "id": "d0058c51",
   "metadata": {},
   "outputs": [
    {
     "name": "stdout",
     "output_type": "stream",
     "text": [
      "tensor([[2., 2.],\n",
      "        [2., 2.],\n",
      "        [2., 2.]])\n",
      "tensor([[2., 2.],\n",
      "        [2., 2.],\n",
      "        [2., 2.]])\n"
     ]
    }
   ],
   "source": [
    "z = y.add_(x)\n",
    "print(z)\n",
    "print(y)"
   ]
  },
  {
   "cell_type": "markdown",
   "id": "8b11d3fc",
   "metadata": {},
   "source": [
    "# **NumPy and Pytorch**"
   ]
  },
  {
   "cell_type": "code",
   "execution_count": 18,
   "id": "1b10fe42",
   "metadata": {},
   "outputs": [
    {
     "name": "stdout",
     "output_type": "stream",
     "text": [
      "<class 'torch.Tensor'> <class 'numpy.ndarray'>\n",
      "[[1. 1.]\n",
      " [1. 1.]\n",
      " [1. 1.]]\n"
     ]
    }
   ],
   "source": [
    "x_np = x.numpy()\n",
    "print(type(x), type(x_np))\n",
    "print(x_np)"
   ]
  },
  {
   "cell_type": "code",
   "execution_count": 19,
   "id": "41a9998c",
   "metadata": {},
   "outputs": [
    {
     "name": "stdout",
     "output_type": "stream",
     "text": [
      "[0.44853946 0.05700867 1.29310198 0.93349878 0.40564737]\n",
      "<class 'numpy.ndarray'> <class 'torch.Tensor'>\n"
     ]
    }
   ],
   "source": [
    "a = np.random.randn(5)\n",
    "print(a)\n",
    "a_pt = torch.from_numpy(a)\n",
    "print(type(a), type(a_pt))"
   ]
  },
  {
   "cell_type": "code",
   "execution_count": 20,
   "id": "31a886ae",
   "metadata": {},
   "outputs": [
    {
     "name": "stdout",
     "output_type": "stream",
     "text": [
      "[1.44853946 1.05700867 2.29310198 1.93349878 1.40564737]\n",
      "tensor([1.4485, 1.0570, 2.2931, 1.9335, 1.4056], dtype=torch.float64)\n"
     ]
    }
   ],
   "source": [
    "np.add(a, 1, out = a)\n",
    "print(a)\n",
    "print(a_pt)"
   ]
  },
  {
   "cell_type": "code",
   "execution_count": 23,
   "id": "3593829a",
   "metadata": {},
   "outputs": [
    {
     "name": "stdout",
     "output_type": "stream",
     "text": [
      "CPU times: total: 93.8 ms\n",
      "Wall time: 137 ms\n"
     ]
    }
   ],
   "source": [
    "%%time\n",
    "for i in range(100):\n",
    "    a = np.random.randn(100, 100)\n",
    "    b = np.random.randn(100, 100)\n",
    "    c = np.matmul(a, b)"
   ]
  },
  {
   "cell_type": "code",
   "execution_count": 24,
   "id": "90740619",
   "metadata": {},
   "outputs": [
    {
     "name": "stdout",
     "output_type": "stream",
     "text": [
      "CPU times: total: 0 ns\n",
      "Wall time: 66.7 ms\n"
     ]
    }
   ],
   "source": [
    "%%time\n",
    "for i in range(100):\n",
    "    a = torch.rand([100,100])\n",
    "    b = torch.rand([100,100])\n",
    "    c = torch.matmul(a, b)"
   ]
  },
  {
   "cell_type": "code",
   "execution_count": 25,
   "id": "03fc7f18",
   "metadata": {},
   "outputs": [
    {
     "name": "stdout",
     "output_type": "stream",
     "text": [
      "CPU times: total: 49.4 s\n",
      "Wall time: 1min 29s\n"
     ]
    }
   ],
   "source": [
    "%%time\n",
    "for i in range(10):\n",
    "    a = np.random.randn(10000, 10000)\n",
    "    b = np.random.randn(10000, 10000)\n",
    "    c = a + b"
   ]
  },
  {
   "cell_type": "code",
   "execution_count": 26,
   "id": "f8d771e7",
   "metadata": {},
   "outputs": [
    {
     "name": "stdout",
     "output_type": "stream",
     "text": [
      "CPU times: total: 12.5 s\n",
      "Wall time: 21.3 s\n"
     ]
    }
   ],
   "source": [
    "%%time\n",
    "for i in range(10):\n",
    "    a = torch.rand([10000,10000])\n",
    "    b = torch.rand([10000,10000])\n",
    "    c = a + b"
   ]
  },
  {
   "cell_type": "markdown",
   "id": "30f49d41",
   "metadata": {},
   "source": [
    "# **CUDA Support**"
   ]
  },
  {
   "cell_type": "code",
   "execution_count": 2,
   "id": "925a9e4c",
   "metadata": {},
   "outputs": [
    {
     "name": "stdout",
     "output_type": "stream",
     "text": [
      "1\n"
     ]
    }
   ],
   "source": [
    "print(torch.cuda.device_count())"
   ]
  },
  {
   "cell_type": "code",
   "execution_count": 3,
   "id": "6e0c9478",
   "metadata": {},
   "outputs": [
    {
     "name": "stdout",
     "output_type": "stream",
     "text": [
      "<torch.cuda.device object at 0x000001CF4E65FCA0>\n",
      "NVIDIA GeForce MX550\n"
     ]
    }
   ],
   "source": [
    "print(torch.cuda.device(0))\n",
    "print(torch.cuda.get_device_name(0))"
   ]
  },
  {
   "cell_type": "code",
   "execution_count": 4,
   "id": "029248c5",
   "metadata": {},
   "outputs": [],
   "source": [
    "cuda = torch.device('cuda:0')"
   ]
  },
  {
   "cell_type": "code",
   "execution_count": 31,
   "id": "a934abda",
   "metadata": {},
   "outputs": [
    {
     "name": "stdout",
     "output_type": "stream",
     "text": [
      "tensor([[2., 2.],\n",
      "        [2., 2.],\n",
      "        [2., 2.]], device='cuda:0')\n"
     ]
    }
   ],
   "source": [
    "a = torch.ones(3, 2, device = cuda)\n",
    "b = torch.ones(3, 2, device = cuda)\n",
    "c = a + b\n",
    "print(c)"
   ]
  },
  {
   "cell_type": "code",
   "execution_count": 33,
   "id": "0777846e",
   "metadata": {},
   "outputs": [
    {
     "name": "stdout",
     "output_type": "stream",
     "text": [
      "CPU times: total: 45.9 s\n",
      "Wall time: 1min 30s\n"
     ]
    }
   ],
   "source": [
    "%%time\n",
    "for i in range(10):\n",
    "    a = np.random.randn(10000, 10000)\n",
    "    b = np.random.randn(10000, 10000)\n",
    "    np.add(b, a)"
   ]
  },
  {
   "cell_type": "code",
   "execution_count": 34,
   "id": "0ce02af1",
   "metadata": {},
   "outputs": [
    {
     "name": "stdout",
     "output_type": "stream",
     "text": [
      "CPU times: total: 11.2 s\n",
      "Wall time: 19.9 s\n"
     ]
    }
   ],
   "source": [
    "%%time\n",
    "for i in range(10):\n",
    "    a = torch.rand(10000, 10000)\n",
    "    b = torch.rand(10000, 10000)\n",
    "    b.add_(a)"
   ]
  },
  {
   "cell_type": "code",
   "execution_count": 35,
   "id": "15516316",
   "metadata": {},
   "outputs": [
    {
     "name": "stdout",
     "output_type": "stream",
     "text": [
      "CPU times: total: 62.5 ms\n",
      "Wall time: 457 ms\n"
     ]
    }
   ],
   "source": [
    "%%time\n",
    "for i in range(10):\n",
    "    a = torch.rand(10000, 10000, device = cuda)\n",
    "    b = torch.rand(10000, 10000, device = cuda)\n",
    "    b.add_(a)"
   ]
  },
  {
   "cell_type": "code",
   "execution_count": 10,
   "id": "47756e90",
   "metadata": {},
   "outputs": [
    {
     "name": "stdout",
     "output_type": "stream",
     "text": [
      "CPU times: total: 0 ns\n",
      "Wall time: 8.12 ms\n"
     ]
    }
   ],
   "source": [
    "%%time\n",
    "for i in range(10):\n",
    "    a = torch.rand(10000, 10000, device = cuda)\n",
    "    b = torch.rand(10000, 10000, device = cuda)\n",
    "    c = torch.matmul(a, b)"
   ]
  },
  {
   "cell_type": "markdown",
   "id": "4aa13395",
   "metadata": {},
   "source": [
    "# **Autograd**"
   ]
  },
  {
   "cell_type": "code",
   "execution_count": 5,
   "id": "a59688bf",
   "metadata": {},
   "outputs": [
    {
     "name": "stdout",
     "output_type": "stream",
     "text": [
      "tensor([[1., 1.],\n",
      "        [1., 1.],\n",
      "        [1., 1.]], requires_grad=True)\n"
     ]
    }
   ],
   "source": [
    "x = torch.ones([3, 2], requires_grad = True)\n",
    "print(x)"
   ]
  },
  {
   "cell_type": "code",
   "execution_count": 6,
   "id": "6d95ff78",
   "metadata": {},
   "outputs": [
    {
     "name": "stdout",
     "output_type": "stream",
     "text": [
      "tensor([[6., 6.],\n",
      "        [6., 6.],\n",
      "        [6., 6.]], grad_fn=<AddBackward0>)\n"
     ]
    }
   ],
   "source": [
    "y = x + 5\n",
    "print(y)"
   ]
  },
  {
   "cell_type": "code",
   "execution_count": 7,
   "id": "367cd327",
   "metadata": {},
   "outputs": [
    {
     "name": "stdout",
     "output_type": "stream",
     "text": [
      "tensor([[37., 37.],\n",
      "        [37., 37.],\n",
      "        [37., 37.]], grad_fn=<AddBackward0>)\n"
     ]
    }
   ],
   "source": [
    "z = y*y + 1\n",
    "print(z)"
   ]
  },
  {
   "cell_type": "code",
   "execution_count": 8,
   "id": "363b4b72",
   "metadata": {},
   "outputs": [
    {
     "name": "stdout",
     "output_type": "stream",
     "text": [
      "tensor(222., grad_fn=<SumBackward0>)\n"
     ]
    }
   ],
   "source": [
    "t = torch.sum(z)\n",
    "print(t)"
   ]
  },
  {
   "cell_type": "code",
   "execution_count": 9,
   "id": "705e0c90",
   "metadata": {},
   "outputs": [],
   "source": [
    "t.backward()"
   ]
  },
  {
   "cell_type": "code",
   "execution_count": 10,
   "id": "dd42f123",
   "metadata": {},
   "outputs": [
    {
     "name": "stdout",
     "output_type": "stream",
     "text": [
      "tensor([[12., 12.],\n",
      "        [12., 12.],\n",
      "        [12., 12.]])\n"
     ]
    }
   ],
   "source": [
    "print(x.grad)"
   ]
  },
  {
   "cell_type": "code",
   "execution_count": 12,
   "id": "eb1d9766",
   "metadata": {},
   "outputs": [
    {
     "name": "stdout",
     "output_type": "stream",
     "text": [
      "tensor([[0.9975, 0.9975],\n",
      "        [0.9975, 0.9975],\n",
      "        [0.9975, 0.9975]], grad_fn=<MulBackward0>)\n",
      "tensor([[0.0025, 0.0025],\n",
      "        [0.0025, 0.0025],\n",
      "        [0.0025, 0.0025]])\n"
     ]
    }
   ],
   "source": [
    "x = torch.ones([3, 2], requires_grad = True)\n",
    "y = x + 5\n",
    "r = 1/ (1 + torch.exp(-y))\n",
    "print(r)\n",
    "s = torch.sum(r)\n",
    "s.backward()\n",
    "print(x.grad)"
   ]
  },
  {
   "cell_type": "code",
   "execution_count": 14,
   "id": "be0cf0bc",
   "metadata": {
    "scrolled": true
   },
   "outputs": [
    {
     "name": "stdout",
     "output_type": "stream",
     "text": [
      "tensor([[0.0025, 0.0025],\n",
      "        [0.0025, 0.0025],\n",
      "        [0.0025, 0.0025]])\n"
     ]
    }
   ],
   "source": [
    "x = torch.ones([3, 2], requires_grad = True)\n",
    "y = x + 5\n",
    "r = 1/ (1 + torch.exp(-y))\n",
    "a = torch.ones([3, 2])\n",
    "r.backward(a)\n",
    "print(x.grad)"
   ]
  },
  {
   "cell_type": "markdown",
   "id": "fcca11ba",
   "metadata": {},
   "source": [
    "# **Autograd example**"
   ]
  },
  {
   "cell_type": "code",
   "execution_count": 15,
   "id": "b78fa636",
   "metadata": {},
   "outputs": [],
   "source": [
    "x = torch.randn([20,1], requires_grad = True)\n",
    "y = 3*x - 2"
   ]
  },
  {
   "cell_type": "code",
   "execution_count": 16,
   "id": "580b966b",
   "metadata": {},
   "outputs": [],
   "source": [
    "w = torch.tensor([1.], requires_grad = True)\n",
    "b = torch.tensor([1.], requires_grad = True)\n",
    "y_bar = w*x + b\n",
    "loss = torch.sum((y_bar - y)**2)"
   ]
  },
  {
   "cell_type": "code",
   "execution_count": 17,
   "id": "17bd76ca",
   "metadata": {},
   "outputs": [
    {
     "name": "stdout",
     "output_type": "stream",
     "text": [
      "tensor(316.8991, grad_fn=<SumBackward0>)\n"
     ]
    }
   ],
   "source": [
    "print(loss)"
   ]
  },
  {
   "cell_type": "code",
   "execution_count": 18,
   "id": "083078ac",
   "metadata": {},
   "outputs": [],
   "source": [
    "loss.backward()"
   ]
  },
  {
   "cell_type": "code",
   "execution_count": 19,
   "id": "643bc744",
   "metadata": {},
   "outputs": [
    {
     "name": "stdout",
     "output_type": "stream",
     "text": [
      "tensor([-91.8843]) tensor([150.0098])\n"
     ]
    }
   ],
   "source": [
    "print(w.grad, b.grad)"
   ]
  },
  {
   "cell_type": "markdown",
   "id": "4e8118bd",
   "metadata": {},
   "source": [
    "# **In Loop**"
   ]
  },
  {
   "cell_type": "code",
   "execution_count": 21,
   "id": "b5759ad7",
   "metadata": {
    "scrolled": true
   },
   "outputs": [
    {
     "name": "stdout",
     "output_type": "stream",
     "text": [
      "1.0 1.0\n",
      "1.32503342628479 0.32770127058029175\n",
      "1.6329081058502197 -0.5417454838752747\n",
      "2.0426759719848633 -1.2446149587631226\n",
      "2.4670867919921875 -1.5493930578231812\n",
      "2.565831184387207 -1.7339204549789429\n",
      "2.7002625465393066 -1.8435373306274414\n",
      "2.852740526199341 -1.948807954788208\n",
      "2.8870601654052734 -1.9660980701446533\n",
      "2.933042287826538 -1.9936093091964722\n",
      "2.9687697887420654 -2.0003671646118164\n"
     ]
    }
   ],
   "source": [
    "lr = 0.01\n",
    "w = torch.tensor([1.], requires_grad = True)\n",
    "b = torch.tensor([1.], requires_grad = True)\n",
    "print(w.item(), b.item())\n",
    "for i in range(10):\n",
    "    x = torch.randn([20,1], requires_grad = True)\n",
    "    y = 3*x - 2\n",
    "    y_bar = w*x + b\n",
    "    loss = torch.sum((y_bar - y)**2)\n",
    "    loss.backward()\n",
    "    with torch.no_grad():\n",
    "        w -= lr * w.grad\n",
    "        b -= lr * b.grad\n",
    "        w.grad.zero_()\n",
    "        b.grad.zero_()\n",
    "    print(w.item(), b.item())"
   ]
  },
  {
   "cell_type": "code",
   "execution_count": 9,
   "id": "470a9215",
   "metadata": {},
   "outputs": [
    {
     "name": "stdout",
     "output_type": "stream",
     "text": [
      "0.49867942929267883 1.0\n",
      "0.5045997500419617 1.5307636260986328\n",
      "0.5047336220741272 1.4836132526397705\n",
      "0.5053952932357788 1.1708838939666748\n",
      "0.5058832764625549 1.040334939956665\n",
      "0.5067720413208008 1.2273499965667725\n",
      "0.5115174055099487 0.7573897838592529\n",
      "0.5163638591766357 1.2878062725067139\n",
      "0.5162914991378784 1.3358049392700195\n",
      "0.5339794158935547 0.3418659567832947\n",
      "0.5524488091468811 -0.4156680703163147\n",
      "0.5536306500434875 -0.2247699350118637\n",
      "0.5558272004127502 0.508055567741394\n",
      "0.5625354647636414 0.9241025447845459\n",
      "0.5697919130325317 0.26532286405563354\n",
      "0.5698040127754211 0.2591307461261749\n",
      "0.5698081254959106 0.26051056385040283\n",
      "0.5697841048240662 0.23253770172595978\n",
      "0.5753366351127625 0.7272738814353943\n",
      "0.5773356556892395 0.38012242317199707\n",
      "0.5766387581825256 1.0735769271850586\n",
      "0.5787481665611267 1.4029954671859741\n",
      "0.583806037902832 2.2783150672912598\n",
      "0.5837944149971008 2.2156527042388916\n",
      "0.5853345990180969 2.333866834640503\n",
      "0.5824567675590515 1.905122995376587\n",
      "0.5823519229888916 1.8956804275512695\n",
      "0.6013662815093994 3.579098701477051\n",
      "0.605048656463623 3.3142054080963135\n",
      "0.6130833029747009 2.421085834503174\n",
      "0.6212535500526428 3.2231853008270264\n",
      "0.6197316646575928 1.8949321508407593\n",
      "0.6278029084205627 0.13096606731414795\n",
      "0.6837736368179321 -2.4466137886047363\n",
      "0.6872938275337219 -1.4154565334320068\n",
      "0.6918007135391235 -2.3437747955322266\n",
      "0.7168105840682983 -0.6430618762969971\n",
      "0.7185219526290894 -1.3641738891601562\n",
      "0.7195749282836914 -2.4564969539642334\n",
      "0.7184563875198364 -2.313258409500122\n",
      "0.7272738814353943 -0.8142131567001343\n",
      "0.7510269284248352 -2.801008939743042\n",
      "0.7262780070304871 -1.1305407285690308\n",
      "0.7261155843734741 -0.91117262840271\n",
      "0.7358620166778564 -2.052694797515869\n",
      "0.7346396446228027 -2.383420944213867\n",
      "0.73594731092453 -2.211496114730835\n",
      "0.7333656549453735 -2.0366392135620117\n",
      "0.7313840985298157 -2.4378163814544678\n",
      "0.7333505153656006 -3.629690170288086\n",
      "0.7382927536964417 -4.399367332458496\n",
      "0.7616620659828186 -6.000509262084961\n",
      "0.7592377662658691 -5.784283638000488\n",
      "0.7842540740966797 -3.4147424697875977\n",
      "0.7987284064292908 -6.350579738616943\n",
      "0.8021789789199829 -5.262035369873047\n",
      "0.7853759527206421 -6.2705512046813965\n",
      "0.7800403237342834 -3.878354072570801\n",
      "0.7845324277877808 -3.109898567199707\n",
      "0.7892627716064453 -2.4677493572235107\n",
      "0.7890958189964294 -2.219076633453369\n",
      "0.7975015044212341 -3.317213535308838\n",
      "0.7923840284347534 -4.313859462738037\n",
      "0.8117376565933228 -7.222532272338867\n",
      "0.8307598829269409 -8.221598625183105\n",
      "0.8506380915641785 -6.597794532775879\n",
      "0.8449131846427917 -3.5905652046203613\n",
      "0.8441075086593628 -3.3665120601654053\n",
      "0.8403321504592896 -8.957216262817383\n",
      "0.8320115208625793 -5.419565200805664\n",
      "0.818199872970581 -3.685239791870117\n",
      "0.818182110786438 -2.006901264190674\n",
      "0.8156234622001648 -1.7872601747512817\n",
      "0.8433180451393127 1.1662968397140503\n",
      "0.816096305847168 -0.5566905736923218\n",
      "0.8351150155067444 -2.0120058059692383\n",
      "0.8587300777435303 -3.5334019660949707\n",
      "0.8600167036056519 -2.0907211303710938\n",
      "0.8610125780105591 -2.5785486698150635\n",
      "0.877881646156311 -0.6179742813110352\n",
      "0.8884673118591309 -2.329011917114258\n",
      "0.8690143823623657 -0.06507134437561035\n",
      "0.9093396663665771 -3.2243196964263916\n",
      "0.8870273232460022 -1.855353832244873\n",
      "0.8922059535980225 1.2379846572875977\n",
      "0.9025226831436157 2.1951029300689697\n",
      "0.9215193390846252 4.9723052978515625\n",
      "0.9246633648872375 5.275256633758545\n",
      "0.919944703578949 4.566892623901367\n",
      "0.9196555614471436 4.477272033691406\n",
      "0.9245544672012329 1.4554691314697266\n",
      "0.926803708076477 2.178722620010376\n",
      "0.9638746976852417 4.35507869720459\n",
      "1.0019934177398682 2.282777786254883\n",
      "1.003464698791504 -1.6953396797180176\n",
      "1.015352725982666 -3.661994457244873\n",
      "1.0180429220199585 -5.804980278015137\n",
      "1.0124315023422241 -6.643292427062988\n",
      "1.034586787223816 -11.260651588439941\n",
      "1.0472859144210815 -14.543763160705566\n",
      "1.0590671300888062 -15.668559074401855\n",
      "1.0240460634231567 -10.628493309020996\n",
      "1.060009241104126 -14.09640121459961\n",
      "1.0432876348495483 -15.480350494384766\n",
      "0.9942939281463623 -20.552841186523438\n",
      "0.9965103268623352 -21.66203498840332\n",
      "0.979731559753418 -28.016136169433594\n",
      "0.9435136914253235 -25.048404693603516\n",
      "0.9675217866897583 -27.29149627685547\n",
      "1.0124506950378418 -36.008243560791016\n",
      "1.018778920173645 -34.439308166503906\n",
      "1.0250376462936401 -41.7023811340332\n",
      "1.0525628328323364 -39.80478286743164\n",
      "1.1198415756225586 -35.6431884765625\n",
      "1.243817687034607 -40.9482307434082\n",
      "1.242139458656311 -39.126712799072266\n",
      "1.237384557723999 -37.28707504272461\n",
      "1.370964527130127 -46.769371032714844\n",
      "1.3925764560699463 -48.83595275878906\n",
      "1.4023994207382202 -43.26134490966797\n",
      "1.4051169157028198 -43.005977630615234\n",
      "1.4020510911941528 -50.27363586425781\n",
      "1.5863003730773926 -39.65809631347656\n",
      "1.7299866676330566 -33.003543853759766\n",
      "1.701517939567566 -41.20016098022461\n",
      "1.564429521560669 -46.48562240600586\n",
      "1.564424753189087 -46.538665771484375\n",
      "1.5255746841430664 -50.01814270019531\n",
      "1.4712733030319214 -58.351417541503906\n",
      "1.4708151817321777 -58.40591812133789\n",
      "1.4473659992218018 -56.58205032348633\n",
      "1.479440450668335 -54.49726486206055\n",
      "1.4996631145477295 -55.823760986328125\n",
      "1.510786771774292 -50.33423614501953\n",
      "1.5240164995193481 -47.537105560302734\n",
      "1.5109310150146484 -64.31275939941406\n",
      "1.573861002922058 -59.72081756591797\n",
      "1.5642313957214355 -63.18659210205078\n",
      "1.567542552947998 -60.99620819091797\n",
      "1.54331636428833 -71.29742431640625\n",
      "1.5595566034317017 -64.7652816772461\n",
      "1.5578898191452026 -64.92481994628906\n",
      "1.754912257194519 -79.83549499511719\n",
      "1.7514137029647827 -82.03984069824219\n",
      "1.7552613019943237 -83.39773559570312\n",
      "1.7743767499923706 -95.4962158203125\n",
      "1.8921301364898682 -87.34326171875\n",
      "1.8834986686706543 -85.9469985961914\n",
      "1.8625069856643677 -92.58576965332031\n",
      "1.814969539642334 -85.5831069946289\n",
      "1.7655017375946045 -93.36060333251953\n",
      "1.7747561931610107 -86.25361633300781\n",
      "1.7712206840515137 -77.53770446777344\n",
      "1.8019853830337524 -74.13098907470703\n",
      "1.7982984781265259 -84.50624084472656\n",
      "1.8302910327911377 -78.57160186767578\n",
      "1.8354730606079102 -79.06774139404297\n",
      "1.6446082592010498 -65.4405288696289\n",
      "1.7803839445114136 -77.23419189453125\n",
      "1.8057851791381836 -96.80787658691406\n",
      "2.0996949672698975 -123.79502868652344\n",
      "2.045630693435669 -137.1453094482422\n",
      "2.007401466369629 -166.7195587158203\n",
      "1.987688422203064 -153.8362579345703\n",
      "1.8586347103118896 -132.8777313232422\n",
      "1.7978359460830688 -137.53138732910156\n",
      "1.7977027893066406 -138.61195373535156\n",
      "1.8796230554580688 -131.038818359375\n",
      "1.6881630420684814 -163.2123565673828\n",
      "1.6452646255493164 -157.11582946777344\n",
      "1.630761742591858 -153.7028350830078\n",
      "1.5961084365844727 -161.26268005371094\n",
      "1.5707718133926392 -148.662353515625\n",
      "1.7391527891159058 -119.18568420410156\n",
      "1.7401037216186523 -119.32136535644531\n",
      "1.797624945640564 -108.87757110595703\n",
      "1.762534737586975 -112.44184875488281\n",
      "2.021789073944092 -147.99267578125\n",
      "1.843738317489624 -112.06985473632812\n",
      "1.8737339973449707 -113.60360717773438\n",
      "1.893328070640564 -116.40019989013672\n",
      "1.8761680126190186 -120.55937957763672\n",
      "1.8731414079666138 -92.89622497558594\n",
      "1.875306248664856 -90.28775787353516\n",
      "1.7056679725646973 -126.86669921875\n",
      "1.7393856048583984 -113.99971008300781\n",
      "1.7261695861816406 -120.01704406738281\n",
      "1.46768319606781 -134.55801391601562\n",
      "1.3279043436050415 -142.8297882080078\n",
      "1.258208155632019 -151.79849243164062\n",
      "1.4961626529693604 -117.24334716796875\n",
      "1.4697105884552002 -88.7259521484375\n",
      "1.5057246685028076 -84.33255004882812\n",
      "1.5418368577957153 -70.15364837646484\n",
      "1.5660545825958252 -66.65226745605469\n",
      "1.6602898836135864 -57.115089416503906\n",
      "1.7104127407073975 -52.349876403808594\n",
      "1.7268697023391724 -54.98331069946289\n",
      "1.4865902662277222 -73.21170806884766\n",
      "1.7280539274215698 -92.32164764404297\n",
      "1.4602454900741577 -130.62449645996094\n"
     ]
    }
   ],
   "source": [
    "lr = 0.001\n",
    "N = 10000\n",
    "epochs = 200\n",
    "w = torch.rand([N], requires_grad = True)\n",
    "b = torch.ones([1], requires_grad = True)\n",
    "print(torch.mean(w).item(), b.item())  \n",
    "for i in range(epochs):\n",
    "    x = torch.randn([N])\n",
    "    y = torch.dot(3*torch.ones([N]), x) - 2\n",
    "    y_bar = torch.dot(w, x) + b\n",
    "    loss = torch.sum((y_bar - y)**2)\n",
    "    loss.backward()\n",
    "    with torch.no_grad():\n",
    "        w -= lr * w.grad\n",
    "        b -= lr * b.grad\n",
    "        w.grad.zero_()\n",
    "        b.grad.zero_()\n",
    "    print(torch.mean(w).item(), b.item())  "
   ]
  }
 ],
 "metadata": {
  "kernelspec": {
   "display_name": "Python 3 (ipykernel)",
   "language": "python",
   "name": "python3"
  },
  "language_info": {
   "codemirror_mode": {
    "name": "ipython",
    "version": 3
   },
   "file_extension": ".py",
   "mimetype": "text/x-python",
   "name": "python",
   "nbconvert_exporter": "python",
   "pygments_lexer": "ipython3",
   "version": "3.10.6"
  }
 },
 "nbformat": 4,
 "nbformat_minor": 5
}
